{
 "cells": [
  {
   "cell_type": "markdown",
   "id": "7b58c6ef",
   "metadata": {},
   "source": [
    "#### Data set cleaning\n",
    "Dataset: _music_project_en.csv_  \n",
    "Author: Luis Sergio Pastrana Lemus  \n",
    "Date: 2025-04-23"
   ]
  },
  {
   "cell_type": "markdown",
   "id": "1b9932f3",
   "metadata": {},
   "source": [
    "## __1. Libraries__"
   ]
  },
  {
   "cell_type": "code",
   "execution_count": 1,
   "id": "25981453",
   "metadata": {},
   "outputs": [],
   "source": [
    "from IPython.display import display, HTML\n",
    "import os\n",
    "import pandas as pd\n",
    "from pathlib import Path\n",
    "import sys\n",
    "\n",
    "# Define project root dynamically, gets the current directory from whick the notebook belongs and moves one level upper\n",
    "project_root = Path.cwd().parent\n",
    "\n",
    "# Add src to sys.path if it is not already\n",
    "if str(project_root) not in sys.path:\n",
    "    sys.path.append(str(project_root))\n",
    "\n",
    "# Import function directly (more controlled than import *)\n",
    "from src import *"
   ]
  },
  {
   "cell_type": "markdown",
   "id": "80a9b14e",
   "metadata": {},
   "source": [
    "## __2. Path to Data file__"
   ]
  },
  {
   "cell_type": "code",
   "execution_count": 2,
   "id": "198282e9",
   "metadata": {},
   "outputs": [],
   "source": [
    "# Build route to data file and upload\n",
    "data_file_path = project_root / \"data\" / \"raw\"\n",
    "df_music = load_dataset_from_csv(data_file_path, \"music_project_en.csv\", sep=',', header='infer', keep_default_na=False)\n"
   ]
  },
  {
   "cell_type": "markdown",
   "id": "c8293e31",
   "metadata": {},
   "source": [
    "##### `LSPL`\n",
    "\n",
    "**Note:** `keep_default_na=False` is used to later convert missing values to `pd.NA`.  \n",
    "This is beneficial because `pd.NA` provides:\n",
    "\n",
    "- Consistency across data types  \n",
    "- Type integrity preservation  \n",
    "- Cleaner logical operations  \n",
    "- Improved control over missing data\n",
    "\n",
    "Since high performance or heavy computation is not required here, using `pd.NA` is appropriate."
   ]
  },
  {
   "cell_type": "code",
   "execution_count": 3,
   "id": "3edd5dd5",
   "metadata": {},
   "outputs": [],
   "source": [
    "# Format notebook output\n",
    "format_notebook()"
   ]
  },
  {
   "cell_type": "markdown",
   "id": "76255815",
   "metadata": {},
   "source": [
    "## __3. Data set cleaning__"
   ]
  },
  {
   "cell_type": "code",
   "execution_count": 4,
   "id": "dd602d96",
   "metadata": {},
   "outputs": [
    {
     "name": "stdout",
     "output_type": "stream",
     "text": [
      "<class 'pandas.core.frame.DataFrame'>\n",
      "RangeIndex: 65079 entries, 0 to 65078\n",
      "Data columns (total 7 columns):\n",
      " #   Column    Non-Null Count  Dtype \n",
      "---  ------    --------------  ----- \n",
      " 0     userID  65079 non-null  object\n",
      " 1   Track     65079 non-null  object\n",
      " 2   artist    65079 non-null  object\n",
      " 3   genre     65079 non-null  object\n",
      " 4     City    65079 non-null  object\n",
      " 5   time      65079 non-null  object\n",
      " 6   Day       65079 non-null  object\n",
      "dtypes: object(7)\n",
      "memory usage: 3.5+ MB\n"
     ]
    }
   ],
   "source": [
    "df_music.info()"
   ]
  },
  {
   "cell_type": "markdown",
   "id": "9ecc42c7",
   "metadata": {},
   "source": [
    "### 3.1. Standardizing String values using \"snake case\""
   ]
  },
  {
   "cell_type": "markdown",
   "id": "e009a930",
   "metadata": {},
   "source": [
    "#### 3.1.1 Standardizing Column Labels"
   ]
  },
  {
   "cell_type": "code",
   "execution_count": 3,
   "id": "05669bd8",
   "metadata": {},
   "outputs": [
    {
     "data": {
      "text/plain": [
       "Index(['userid', 'track', 'artist', 'genre', 'city', 'time', 'day'], dtype='object')"
      ]
     },
     "execution_count": 3,
     "metadata": {},
     "output_type": "execute_result"
    }
   ],
   "source": [
    "# Standardize column labels with snake_case format\n",
    "df_music = normalize_columns_headers_format(df_music)\n",
    "df_music.columns"
   ]
  },
  {
   "cell_type": "markdown",
   "id": "0cc7d74b",
   "metadata": {},
   "source": [
    "#### 3.1.2 Standardizing Dataframe String values"
   ]
  },
  {
   "cell_type": "code",
   "execution_count": 6,
   "id": "3482a2aa",
   "metadata": {},
   "outputs": [
    {
     "data": {
      "application/vnd.microsoft.datawrangler.viewer.v0+json": {
       "columns": [
        {
         "name": "index",
         "rawType": "int64",
         "type": "integer"
        },
        {
         "name": "userid",
         "rawType": "object",
         "type": "string"
        },
        {
         "name": "track",
         "rawType": "object",
         "type": "string"
        },
        {
         "name": "artist",
         "rawType": "object",
         "type": "string"
        },
        {
         "name": "genre",
         "rawType": "object",
         "type": "string"
        },
        {
         "name": "city",
         "rawType": "object",
         "type": "string"
        },
        {
         "name": "time",
         "rawType": "object",
         "type": "string"
        },
        {
         "name": "day",
         "rawType": "object",
         "type": "string"
        }
       ],
       "ref": "76d3eb18-7148-41f5-a11d-368dd1081f11",
       "rows": [
        [
         "0",
         "FFB692EC",
         "kamigata_to_boots",
         "the_mass_missile",
         "rock",
         "shelbyville",
         "20:28:33",
         "wednesday"
        ],
        [
         "1",
         "55204538",
         "delayed_because_of_accident",
         "andreas_rönnberg",
         "rock",
         "springfield",
         "14:07:09",
         "friday"
        ],
        [
         "2",
         "20EC38",
         "funiculì_funiculà",
         "mario_lanza",
         "pop",
         "shelbyville",
         "20:58:07",
         "wednesday"
        ],
        [
         "3",
         "A3DD03C9",
         "dragons_in_the_sunset",
         "fire_ice",
         "folk",
         "shelbyville",
         "08:37:09",
         "monday"
        ],
        [
         "4",
         "E2DC1FAE",
         "soul_people",
         "space_echo",
         "dance",
         "springfield",
         "08:34:34",
         "monday"
        ],
        [
         "5",
         "842029A1",
         "chains",
         "obladaet",
         "rusrap",
         "shelbyville",
         "13:09:41",
         "friday"
        ],
        [
         "6",
         "4CB90AA5",
         "true",
         "roman_messer",
         "dance",
         "springfield",
         "13:00:07",
         "wednesday"
        ],
        [
         "7",
         "F03E1C1F",
         "feeling_this_way",
         "polina_griffith",
         "dance",
         "springfield",
         "20:47:49",
         "wednesday"
        ],
        [
         "8",
         "8FA1D3BE",
         "l_estate",
         "julia_dalia",
         "ruspop",
         "springfield",
         "09:17:40",
         "friday"
        ],
        [
         "9",
         "E772D5C0",
         "pessimist",
         "",
         "dance",
         "shelbyville",
         "21:20:49",
         "wednesday"
        ],
        [
         "10",
         "BC5A3A29",
         "gool_la_mita",
         "shireen_abdul_wahab",
         "world",
         "springfield",
         "14:08:42",
         "monday"
        ],
        [
         "11",
         "8B5192C0",
         "is_there_anybody_out_there_panoramic_paralysis_mix",
         "pink_floyd_floydhead",
         "electronic",
         "springfield",
         "13:47:49",
         "monday"
        ],
        [
         "12",
         "FF3FD2BD",
         "truth",
         "bamboo",
         "pop",
         "springfield",
         "09:19:49",
         "monday"
        ],
        [
         "13",
         "CC782B0F",
         "after_school_special",
         "detroit_grand_pubahs",
         "dance",
         "springfield",
         "20:04:12",
         "friday"
        ],
        [
         "14",
         "94EB25C2",
         "make_love_whenever_you_can",
         "arabesque",
         "pop",
         "shelbyville",
         "13:22:08",
         "wednesday"
        ],
        [
         "15",
         "E3C5756F",
         "",
         "",
         "",
         "springfield",
         "09:24:51",
         "monday"
        ],
        [
         "16",
         "81D05C7D",
         "slaves_of_fear",
         "health",
         "alternative",
         "shelbyville",
         "20:54:48",
         "monday"
        ],
        [
         "17",
         "39DE290E",
         "hallo_hallo",
         "die_klima_hawaiians",
         "folk",
         "shelbyville",
         "14:36:47",
         "monday"
        ],
        [
         "18",
         "58AE138A",
         "pat_a_cake",
         "mother_goose_club",
         "children",
         "shelbyville",
         "20:04:56",
         "monday"
        ],
        [
         "19",
         "772F5B59",
         "sweetback",
         "the_fabulous_three",
         "rnb",
         "springfield",
         "13:56:42",
         "wednesday"
        ],
        [
         "20",
         "201CF2A8",
         "ya_ll_in_trouble",
         "lil_tee_chill_tank_young_buck_brother_mohammed_and_tara",
         "hip",
         "springfield",
         "08:46:03",
         "monday"
        ],
        [
         "21",
         "44B8E869",
         "nanovirus",
         "exotype",
         "rock",
         "springfield",
         "21:36:40",
         "monday"
        ],
        [
         "22",
         "B8E29C9C",
         "the_drunken_scotsman",
         "ménage_à_moi",
         "folk",
         "shelbyville",
         "20:20:49",
         "wednesday"
        ],
        [
         "23",
         "A729591B",
         "gavotte",
         "hachidai_nakamura",
         "jazz",
         "springfield",
         "13:56:00",
         "monday"
        ],
        [
         "24",
         "8BA8855",
         "a_universal_weakness",
         "lowercase_noises",
         "postrock",
         "shelbyville",
         "21:17:25",
         "wednesday"
        ],
        [
         "25",
         "A4504035",
         "cradle_in_bethlehem",
         "nat_king_cole",
         "jazz",
         "shelbyville",
         "09:23:01",
         "wednesday"
        ],
        [
         "26",
         "982219FD",
         "we_not_speak_americano",
         "genio_band",
         "pop",
         "shelbyville",
         "20:03:03",
         "monday"
        ],
        [
         "27",
         "9CC6AA46",
         "mucho_corazón",
         "buena_vista_social_club",
         "latin",
         "springfield",
         "14:06:22",
         "monday"
        ],
        [
         "28",
         "D8D698A9",
         "romantici",
         "viola_valentino",
         "pop",
         "springfield",
         "08:23:21",
         "wednesday"
        ],
        [
         "29",
         "5661F63E",
         "purcell_dido_and_aeneas_act_3_see_the_flags_destruction_s_our_delight_the_wit_ches_dance",
         "teresa_shaw",
         "classical",
         "shelbyville",
         "08:33:58",
         "wednesday"
        ],
        [
         "30",
         "EBA5A8B2",
         "päivän_nousu_nostajani",
         "värttina_",
         "world",
         "shelbyville",
         "08:00:31",
         "friday"
        ],
        [
         "31",
         "F6A44469",
         "veritas_universalis",
         "devathorn",
         "metal",
         "shelbyville",
         "20:19:42",
         "friday"
        ],
        [
         "32",
         "84AFC19A",
         "carry_on",
         "young_rising_sons",
         "alternative",
         "shelbyville",
         "20:24:51",
         "monday"
        ],
        [
         "33",
         "809CAFB1",
         "break_me_down",
         "steve_angello",
         "dance",
         "springfield",
         "14:42:31",
         "monday"
        ],
        [
         "34",
         "B416A40F",
         "maybe",
         "maria_michelle",
         "ruspop",
         "springfield",
         "14:49:21",
         "friday"
        ],
        [
         "35",
         "A8AE9169",
         "",
         "",
         "",
         "springfield",
         "08:56:10",
         "monday"
        ],
        [
         "36",
         "FCDF1C8E",
         "nasebanaru",
         "zen",
         "reggae",
         "springfield",
         "20:19:36",
         "wednesday"
        ],
        [
         "37",
         "C800FA98",
         "body_talk",
         "ratt",
         "rock",
         "springfield",
         "08:45:16",
         "monday"
        ],
        [
         "38",
         "14FBD1E5",
         "solteras",
         "beauty_brain",
         "dance",
         "shelbyville",
         "20:33:11",
         "friday"
        ],
        [
         "39",
         "2CF53316",
         "chicago_new_york",
         "the_aislers_set",
         "alternative",
         "shelbyville",
         "20:29:00",
         "wednesday"
        ],
        [
         "40",
         "77979A66",
         "sci_fi",
         "",
         "rusrap",
         "shelbyville",
         "08:45:43",
         "monday"
        ],
        [
         "41",
         "9202C4F4",
         "good_morning_sunshine",
         "brick",
         "rnb",
         "shelbyville",
         "21:54:19",
         "monday"
        ],
        [
         "42",
         "F9AD83A7",
         "fancy",
         "grey_killer",
         "triphop",
         "springfield",
         "14:53:39",
         "friday"
        ],
        [
         "43",
         "9A22399C",
         "sweet_october",
         "ministers_of_music",
         "dance",
         "springfield",
         "20:32:33",
         "friday"
        ],
        [
         "44",
         "CD0BE030",
         "falling_for_me",
         "benson_taylor",
         "pop",
         "springfield",
         "09:21:00",
         "friday"
        ],
        [
         "45",
         "E6072F55",
         "sos",
         "peter_cetera",
         "pop",
         "springfield",
         "20:10:04",
         "wednesday"
        ],
        [
         "46",
         "825997A5",
         "glorious_feeling",
         "joelistics",
         "hip",
         "springfield",
         "21:46:34",
         "friday"
        ],
        [
         "47",
         "A1749681",
         "downfall",
         "the_voss",
         "dance",
         "shelbyville",
         "20:07:58",
         "monday"
        ],
        [
         "48",
         "8D0DCE83",
         "little_bitty_pretty_one",
         "thurston_harris",
         "blues",
         "springfield",
         "09:41:14",
         "friday"
        ],
        [
         "49",
         "2A35001B",
         "can_you_feel_the_love_tonight",
         "disney_peaceful_piano",
         "instrumental",
         "shelbyville",
         "21:51:37",
         "friday"
        ]
       ],
       "shape": {
        "columns": 7,
        "rows": 65079
       }
      },
      "text/html": [
       "<div>\n",
       "<style scoped>\n",
       "    .dataframe tbody tr th:only-of-type {\n",
       "        vertical-align: middle;\n",
       "    }\n",
       "\n",
       "    .dataframe tbody tr th {\n",
       "        vertical-align: top;\n",
       "    }\n",
       "\n",
       "    .dataframe thead th {\n",
       "        text-align: right;\n",
       "    }\n",
       "</style>\n",
       "<table border=\"1\" class=\"dataframe\">\n",
       "  <thead>\n",
       "    <tr style=\"text-align: right;\">\n",
       "      <th></th>\n",
       "      <th>userid</th>\n",
       "      <th>track</th>\n",
       "      <th>artist</th>\n",
       "      <th>genre</th>\n",
       "      <th>city</th>\n",
       "      <th>time</th>\n",
       "      <th>day</th>\n",
       "    </tr>\n",
       "  </thead>\n",
       "  <tbody>\n",
       "    <tr>\n",
       "      <th>0</th>\n",
       "      <td>FFB692EC</td>\n",
       "      <td>kamigata_to_boots</td>\n",
       "      <td>the_mass_missile</td>\n",
       "      <td>rock</td>\n",
       "      <td>shelbyville</td>\n",
       "      <td>20:28:33</td>\n",
       "      <td>wednesday</td>\n",
       "    </tr>\n",
       "    <tr>\n",
       "      <th>1</th>\n",
       "      <td>55204538</td>\n",
       "      <td>delayed_because_of_accident</td>\n",
       "      <td>andreas_rönnberg</td>\n",
       "      <td>rock</td>\n",
       "      <td>springfield</td>\n",
       "      <td>14:07:09</td>\n",
       "      <td>friday</td>\n",
       "    </tr>\n",
       "    <tr>\n",
       "      <th>2</th>\n",
       "      <td>20EC38</td>\n",
       "      <td>funiculì_funiculà</td>\n",
       "      <td>mario_lanza</td>\n",
       "      <td>pop</td>\n",
       "      <td>shelbyville</td>\n",
       "      <td>20:58:07</td>\n",
       "      <td>wednesday</td>\n",
       "    </tr>\n",
       "    <tr>\n",
       "      <th>3</th>\n",
       "      <td>A3DD03C9</td>\n",
       "      <td>dragons_in_the_sunset</td>\n",
       "      <td>fire_ice</td>\n",
       "      <td>folk</td>\n",
       "      <td>shelbyville</td>\n",
       "      <td>08:37:09</td>\n",
       "      <td>monday</td>\n",
       "    </tr>\n",
       "    <tr>\n",
       "      <th>4</th>\n",
       "      <td>E2DC1FAE</td>\n",
       "      <td>soul_people</td>\n",
       "      <td>space_echo</td>\n",
       "      <td>dance</td>\n",
       "      <td>springfield</td>\n",
       "      <td>08:34:34</td>\n",
       "      <td>monday</td>\n",
       "    </tr>\n",
       "    <tr>\n",
       "      <th>...</th>\n",
       "      <td>...</td>\n",
       "      <td>...</td>\n",
       "      <td>...</td>\n",
       "      <td>...</td>\n",
       "      <td>...</td>\n",
       "      <td>...</td>\n",
       "      <td>...</td>\n",
       "    </tr>\n",
       "    <tr>\n",
       "      <th>65074</th>\n",
       "      <td>729CBB09</td>\n",
       "      <td>my_name</td>\n",
       "      <td>mclean</td>\n",
       "      <td>rnb</td>\n",
       "      <td>springfield</td>\n",
       "      <td>13:32:28</td>\n",
       "      <td>wednesday</td>\n",
       "    </tr>\n",
       "    <tr>\n",
       "      <th>65075</th>\n",
       "      <td>D08D4A55</td>\n",
       "      <td>maybe_one_day_feat_black_spade_</td>\n",
       "      <td>blu_exile</td>\n",
       "      <td>hip</td>\n",
       "      <td>shelbyville</td>\n",
       "      <td>10:00:00</td>\n",
       "      <td>monday</td>\n",
       "    </tr>\n",
       "    <tr>\n",
       "      <th>65076</th>\n",
       "      <td>C5E3A0D5</td>\n",
       "      <td>jalopiina</td>\n",
       "      <td></td>\n",
       "      <td>industrial</td>\n",
       "      <td>springfield</td>\n",
       "      <td>20:09:26</td>\n",
       "      <td>friday</td>\n",
       "    </tr>\n",
       "    <tr>\n",
       "      <th>65077</th>\n",
       "      <td>321D0506</td>\n",
       "      <td>freight_train</td>\n",
       "      <td>chas_mcdevitt</td>\n",
       "      <td>rock</td>\n",
       "      <td>springfield</td>\n",
       "      <td>21:43:59</td>\n",
       "      <td>friday</td>\n",
       "    </tr>\n",
       "    <tr>\n",
       "      <th>65078</th>\n",
       "      <td>3A64EF84</td>\n",
       "      <td>tell_me_sweet_little_lies</td>\n",
       "      <td>monica_lopez</td>\n",
       "      <td>country</td>\n",
       "      <td>springfield</td>\n",
       "      <td>21:59:46</td>\n",
       "      <td>friday</td>\n",
       "    </tr>\n",
       "  </tbody>\n",
       "</table>\n",
       "<p>65079 rows × 7 columns</p>\n",
       "</div>"
      ],
      "text/plain": [
       "         userid                            track            artist       genre         city      time        day\n",
       "0      FFB692EC                kamigata_to_boots  the_mass_missile        rock  shelbyville  20:28:33  wednesday\n",
       "1      55204538      delayed_because_of_accident  andreas_rönnberg        rock  springfield  14:07:09     friday\n",
       "2        20EC38                funiculì_funiculà       mario_lanza         pop  shelbyville  20:58:07  wednesday\n",
       "3      A3DD03C9            dragons_in_the_sunset          fire_ice        folk  shelbyville  08:37:09     monday\n",
       "4      E2DC1FAE                      soul_people        space_echo       dance  springfield  08:34:34     monday\n",
       "...         ...                              ...               ...         ...          ...       ...        ...\n",
       "65074  729CBB09                          my_name            mclean         rnb  springfield  13:32:28  wednesday\n",
       "65075  D08D4A55  maybe_one_day_feat_black_spade_         blu_exile         hip  shelbyville  10:00:00     monday\n",
       "65076  C5E3A0D5                        jalopiina                    industrial  springfield  20:09:26     friday\n",
       "65077  321D0506                    freight_train     chas_mcdevitt        rock  springfield  21:43:59     friday\n",
       "65078  3A64EF84        tell_me_sweet_little_lies      monica_lopez     country  springfield  21:59:46     friday\n",
       "\n",
       "[65079 rows x 7 columns]"
      ]
     },
     "execution_count": 6,
     "metadata": {},
     "output_type": "execute_result"
    }
   ],
   "source": [
    "# Standardize dataa frame string values with snake_case format\n",
    "df_music = normalize_string_format(df_music, exclude=['userid', 'time'])\n",
    "df_music"
   ]
  },
  {
   "cell_type": "markdown",
   "id": "0f4c8b22",
   "metadata": {},
   "source": [
    "##### `LSPL`\n",
    "\n",
    "**Note:** \n",
    "\n",
    "The column names and string values did not follow a consistent format; they contained spaces and capital letters, making them difficult to manipulate.\n",
    "\n",
    "__Solution__: Column names and string values were standardized using lowercase letters, removing spaces, and applying the snake_case format.   \n",
    "__Impact__: This facilitated data access and manipulation, improving readability and reducing errors in analysis."
   ]
  },
  {
   "cell_type": "markdown",
   "id": "61835131",
   "metadata": {},
   "source": [
    "### 3.2 Explicit duplicates"
   ]
  },
  {
   "cell_type": "code",
   "execution_count": 7,
   "id": "b0c9d50f",
   "metadata": {},
   "outputs": [
    {
     "data": {
      "text/html": [
       "> Explicit duplicates amount: <b>3826</b>"
      ],
      "text/plain": [
       "<IPython.core.display.HTML object>"
      ]
     },
     "metadata": {},
     "output_type": "display_data"
    }
   ],
   "source": [
    "# Show explicit duplicates amount\n",
    "display(HTML(f\"> Explicit duplicates amount: <b>{df_music.duplicated().sum()}</b>\"))"
   ]
  },
  {
   "cell_type": "code",
   "execution_count": 8,
   "id": "315cf4ac",
   "metadata": {},
   "outputs": [
    {
     "name": "stdout",
     "output_type": "stream",
     "text": [
      "<class 'pandas.core.frame.DataFrame'>\n",
      "RangeIndex: 61253 entries, 0 to 61252\n",
      "Data columns (total 7 columns):\n",
      " #   Column  Non-Null Count  Dtype \n",
      "---  ------  --------------  ----- \n",
      " 0   userid  61253 non-null  object\n",
      " 1   track   61253 non-null  object\n",
      " 2   artist  61253 non-null  object\n",
      " 3   genre   61253 non-null  object\n",
      " 4   city    61253 non-null  object\n",
      " 5   time    61253 non-null  object\n",
      " 6   day     61253 non-null  object\n",
      "dtypes: object(7)\n",
      "memory usage: 3.3+ MB\n"
     ]
    }
   ],
   "source": [
    "# Delete explicit duplicated rows\n",
    "df_music = df_music.drop_duplicates().reset_index(drop=True)\n",
    "df_music.info()"
   ]
  },
  {
   "cell_type": "markdown",
   "id": "6ad10fbf",
   "metadata": {},
   "source": [
    "##### `LSPL`\n",
    "\n",
    "**Note:** \n",
    "\n",
    "Duplicate rows were detected in the dataset.\n",
    "\n",
    "__Solution__: Explicit duplicates were removed using the drop_duplicates() method.   \n",
    "__Impact__: This prevented duplicates from affecting the analysis results."
   ]
  },
  {
   "cell_type": "markdown",
   "id": "9ac34c63",
   "metadata": {},
   "source": [
    "### 3.2 Missing values"
   ]
  },
  {
   "cell_type": "markdown",
   "id": "c4c13b8e",
   "metadata": {},
   "source": [
    "#### 3.2.1 Missing values check"
   ]
  },
  {
   "cell_type": "code",
   "execution_count": 9,
   "id": "702c85b7",
   "metadata": {},
   "outputs": [
    {
     "data": {
      "text/html": [
       "> Dataframe missing values:\n"
      ],
      "text/plain": [
       "<IPython.core.display.HTML object>"
      ]
     },
     "metadata": {},
     "output_type": "display_data"
    },
    {
     "data": {
      "text/html": [
       "> Missing values in ['<i>userid</i>']: <b>None</b>"
      ],
      "text/plain": [
       "<IPython.core.display.HTML object>"
      ]
     },
     "metadata": {},
     "output_type": "display_data"
    },
    {
     "data": {
      "text/html": [
       "> Mising values in ['<i>track</i>']: <b>1263</b>"
      ],
      "text/plain": [
       "<IPython.core.display.HTML object>"
      ]
     },
     "metadata": {},
     "output_type": "display_data"
    },
    {
     "data": {
      "text/html": [
       "&emsp;Matched values: ['' 'null']"
      ],
      "text/plain": [
       "<IPython.core.display.HTML object>"
      ]
     },
     "metadata": {},
     "output_type": "display_data"
    },
    {
     "data": {
      "text/html": [
       "> Mising values in ['<i>artist</i>']: <b>7097</b>"
      ],
      "text/plain": [
       "<IPython.core.display.HTML object>"
      ]
     },
     "metadata": {},
     "output_type": "display_data"
    },
    {
     "data": {
      "text/html": [
       "&emsp;Matched values: ['']"
      ],
      "text/plain": [
       "<IPython.core.display.HTML object>"
      ]
     },
     "metadata": {},
     "output_type": "display_data"
    },
    {
     "data": {
      "text/html": [
       "> Mising values in ['<i>genre</i>']: <b>1127</b>"
      ],
      "text/plain": [
       "<IPython.core.display.HTML object>"
      ]
     },
     "metadata": {},
     "output_type": "display_data"
    },
    {
     "data": {
      "text/html": [
       "&emsp;Matched values: ['']"
      ],
      "text/plain": [
       "<IPython.core.display.HTML object>"
      ]
     },
     "metadata": {},
     "output_type": "display_data"
    },
    {
     "data": {
      "text/html": [
       "> Missing values in ['<i>city</i>']: <b>None</b>"
      ],
      "text/plain": [
       "<IPython.core.display.HTML object>"
      ]
     },
     "metadata": {},
     "output_type": "display_data"
    },
    {
     "data": {
      "text/html": [
       "> Missing values in ['<i>time</i>']: <b>None</b>"
      ],
      "text/plain": [
       "<IPython.core.display.HTML object>"
      ]
     },
     "metadata": {},
     "output_type": "display_data"
    },
    {
     "data": {
      "text/html": [
       "> Missing values in ['<i>day</i>']: <b>None</b>"
      ],
      "text/plain": [
       "<IPython.core.display.HTML object>"
      ]
     },
     "metadata": {},
     "output_type": "display_data"
    },
    {
     "name": "stdout",
     "output_type": "stream",
     "text": [
      "\n"
     ]
    }
   ],
   "source": [
    "# Show missing values\n",
    "check_existing_missing_values(df_music)"
   ]
  },
  {
   "cell_type": "markdown",
   "id": "b06e035d",
   "metadata": {},
   "source": [
    "#### 3.2.2 Replacing missing values (pd.NA)"
   ]
  },
  {
   "cell_type": "code",
   "execution_count": 10,
   "id": "ac29c2bc",
   "metadata": {},
   "outputs": [
    {
     "data": {
      "application/vnd.microsoft.datawrangler.viewer.v0+json": {
       "columns": [
        {
         "name": "index",
         "rawType": "int64",
         "type": "integer"
        },
        {
         "name": "userid",
         "rawType": "object",
         "type": "string"
        },
        {
         "name": "track",
         "rawType": "object",
         "type": "unknown"
        },
        {
         "name": "artist",
         "rawType": "object",
         "type": "unknown"
        },
        {
         "name": "genre",
         "rawType": "object",
         "type": "unknown"
        },
        {
         "name": "city",
         "rawType": "object",
         "type": "string"
        },
        {
         "name": "time",
         "rawType": "object",
         "type": "string"
        },
        {
         "name": "day",
         "rawType": "object",
         "type": "string"
        }
       ],
       "ref": "f0e2dcbc-77e4-4f89-ae90-853dff2bc211",
       "rows": [
        [
         "0",
         "FFB692EC",
         "kamigata_to_boots",
         "the_mass_missile",
         "rock",
         "shelbyville",
         "20:28:33",
         "wednesday"
        ],
        [
         "1",
         "55204538",
         "delayed_because_of_accident",
         "andreas_rönnberg",
         "rock",
         "springfield",
         "14:07:09",
         "friday"
        ],
        [
         "2",
         "20EC38",
         "funiculì_funiculà",
         "mario_lanza",
         "pop",
         "shelbyville",
         "20:58:07",
         "wednesday"
        ],
        [
         "3",
         "A3DD03C9",
         "dragons_in_the_sunset",
         "fire_ice",
         "folk",
         "shelbyville",
         "08:37:09",
         "monday"
        ],
        [
         "4",
         "E2DC1FAE",
         "soul_people",
         "space_echo",
         "dance",
         "springfield",
         "08:34:34",
         "monday"
        ],
        [
         "5",
         "842029A1",
         "chains",
         "obladaet",
         "rusrap",
         "shelbyville",
         "13:09:41",
         "friday"
        ],
        [
         "6",
         "4CB90AA5",
         "true",
         "roman_messer",
         "dance",
         "springfield",
         "13:00:07",
         "wednesday"
        ],
        [
         "7",
         "F03E1C1F",
         "feeling_this_way",
         "polina_griffith",
         "dance",
         "springfield",
         "20:47:49",
         "wednesday"
        ],
        [
         "8",
         "8FA1D3BE",
         "l_estate",
         "julia_dalia",
         "ruspop",
         "springfield",
         "09:17:40",
         "friday"
        ],
        [
         "9",
         "E772D5C0",
         "pessimist",
         null,
         "dance",
         "shelbyville",
         "21:20:49",
         "wednesday"
        ],
        [
         "10",
         "BC5A3A29",
         "gool_la_mita",
         "shireen_abdul_wahab",
         "world",
         "springfield",
         "14:08:42",
         "monday"
        ],
        [
         "11",
         "8B5192C0",
         "is_there_anybody_out_there_panoramic_paralysis_mix",
         "pink_floyd_floydhead",
         "electronic",
         "springfield",
         "13:47:49",
         "monday"
        ],
        [
         "12",
         "FF3FD2BD",
         "truth",
         "bamboo",
         "pop",
         "springfield",
         "09:19:49",
         "monday"
        ],
        [
         "13",
         "CC782B0F",
         "after_school_special",
         "detroit_grand_pubahs",
         "dance",
         "springfield",
         "20:04:12",
         "friday"
        ],
        [
         "14",
         "94EB25C2",
         "make_love_whenever_you_can",
         "arabesque",
         "pop",
         "shelbyville",
         "13:22:08",
         "wednesday"
        ],
        [
         "15",
         "E3C5756F",
         null,
         null,
         null,
         "springfield",
         "09:24:51",
         "monday"
        ],
        [
         "16",
         "81D05C7D",
         "slaves_of_fear",
         "health",
         "alternative",
         "shelbyville",
         "20:54:48",
         "monday"
        ],
        [
         "17",
         "39DE290E",
         "hallo_hallo",
         "die_klima_hawaiians",
         "folk",
         "shelbyville",
         "14:36:47",
         "monday"
        ],
        [
         "18",
         "58AE138A",
         "pat_a_cake",
         "mother_goose_club",
         "children",
         "shelbyville",
         "20:04:56",
         "monday"
        ],
        [
         "19",
         "772F5B59",
         "sweetback",
         "the_fabulous_three",
         "rnb",
         "springfield",
         "13:56:42",
         "wednesday"
        ],
        [
         "20",
         "201CF2A8",
         "ya_ll_in_trouble",
         "lil_tee_chill_tank_young_buck_brother_mohammed_and_tara",
         "hip",
         "springfield",
         "08:46:03",
         "monday"
        ],
        [
         "21",
         "44B8E869",
         "nanovirus",
         "exotype",
         "rock",
         "springfield",
         "21:36:40",
         "monday"
        ],
        [
         "22",
         "B8E29C9C",
         "the_drunken_scotsman",
         "ménage_à_moi",
         "folk",
         "shelbyville",
         "20:20:49",
         "wednesday"
        ],
        [
         "23",
         "A729591B",
         "gavotte",
         "hachidai_nakamura",
         "jazz",
         "springfield",
         "13:56:00",
         "monday"
        ],
        [
         "24",
         "8BA8855",
         "a_universal_weakness",
         "lowercase_noises",
         "postrock",
         "shelbyville",
         "21:17:25",
         "wednesday"
        ],
        [
         "25",
         "A4504035",
         "cradle_in_bethlehem",
         "nat_king_cole",
         "jazz",
         "shelbyville",
         "09:23:01",
         "wednesday"
        ],
        [
         "26",
         "982219FD",
         "we_not_speak_americano",
         "genio_band",
         "pop",
         "shelbyville",
         "20:03:03",
         "monday"
        ],
        [
         "27",
         "9CC6AA46",
         "mucho_corazón",
         "buena_vista_social_club",
         "latin",
         "springfield",
         "14:06:22",
         "monday"
        ],
        [
         "28",
         "D8D698A9",
         "romantici",
         "viola_valentino",
         "pop",
         "springfield",
         "08:23:21",
         "wednesday"
        ],
        [
         "29",
         "5661F63E",
         "purcell_dido_and_aeneas_act_3_see_the_flags_destruction_s_our_delight_the_wit_ches_dance",
         "teresa_shaw",
         "classical",
         "shelbyville",
         "08:33:58",
         "wednesday"
        ],
        [
         "30",
         "EBA5A8B2",
         "päivän_nousu_nostajani",
         "värttina_",
         "world",
         "shelbyville",
         "08:00:31",
         "friday"
        ],
        [
         "31",
         "F6A44469",
         "veritas_universalis",
         "devathorn",
         "metal",
         "shelbyville",
         "20:19:42",
         "friday"
        ],
        [
         "32",
         "84AFC19A",
         "carry_on",
         "young_rising_sons",
         "alternative",
         "shelbyville",
         "20:24:51",
         "monday"
        ],
        [
         "33",
         "809CAFB1",
         "break_me_down",
         "steve_angello",
         "dance",
         "springfield",
         "14:42:31",
         "monday"
        ],
        [
         "34",
         "B416A40F",
         "maybe",
         "maria_michelle",
         "ruspop",
         "springfield",
         "14:49:21",
         "friday"
        ],
        [
         "35",
         "A8AE9169",
         null,
         null,
         null,
         "springfield",
         "08:56:10",
         "monday"
        ],
        [
         "36",
         "FCDF1C8E",
         "nasebanaru",
         "zen",
         "reggae",
         "springfield",
         "20:19:36",
         "wednesday"
        ],
        [
         "37",
         "C800FA98",
         "body_talk",
         "ratt",
         "rock",
         "springfield",
         "08:45:16",
         "monday"
        ],
        [
         "38",
         "14FBD1E5",
         "solteras",
         "beauty_brain",
         "dance",
         "shelbyville",
         "20:33:11",
         "friday"
        ],
        [
         "39",
         "2CF53316",
         "chicago_new_york",
         "the_aislers_set",
         "alternative",
         "shelbyville",
         "20:29:00",
         "wednesday"
        ],
        [
         "40",
         "77979A66",
         "sci_fi",
         null,
         "rusrap",
         "shelbyville",
         "08:45:43",
         "monday"
        ],
        [
         "41",
         "9202C4F4",
         "good_morning_sunshine",
         "brick",
         "rnb",
         "shelbyville",
         "21:54:19",
         "monday"
        ],
        [
         "42",
         "F9AD83A7",
         "fancy",
         "grey_killer",
         "triphop",
         "springfield",
         "14:53:39",
         "friday"
        ],
        [
         "43",
         "9A22399C",
         "sweet_october",
         "ministers_of_music",
         "dance",
         "springfield",
         "20:32:33",
         "friday"
        ],
        [
         "44",
         "CD0BE030",
         "falling_for_me",
         "benson_taylor",
         "pop",
         "springfield",
         "09:21:00",
         "friday"
        ],
        [
         "45",
         "E6072F55",
         "sos",
         "peter_cetera",
         "pop",
         "springfield",
         "20:10:04",
         "wednesday"
        ],
        [
         "46",
         "825997A5",
         "glorious_feeling",
         "joelistics",
         "hip",
         "springfield",
         "21:46:34",
         "friday"
        ],
        [
         "47",
         "A1749681",
         "downfall",
         "the_voss",
         "dance",
         "shelbyville",
         "20:07:58",
         "monday"
        ],
        [
         "48",
         "8D0DCE83",
         "little_bitty_pretty_one",
         "thurston_harris",
         "blues",
         "springfield",
         "09:41:14",
         "friday"
        ],
        [
         "49",
         "2A35001B",
         "can_you_feel_the_love_tonight",
         "disney_peaceful_piano",
         "instrumental",
         "shelbyville",
         "21:51:37",
         "friday"
        ]
       ],
       "shape": {
        "columns": 7,
        "rows": 61253
       }
      },
      "text/html": [
       "<div>\n",
       "<style scoped>\n",
       "    .dataframe tbody tr th:only-of-type {\n",
       "        vertical-align: middle;\n",
       "    }\n",
       "\n",
       "    .dataframe tbody tr th {\n",
       "        vertical-align: top;\n",
       "    }\n",
       "\n",
       "    .dataframe thead th {\n",
       "        text-align: right;\n",
       "    }\n",
       "</style>\n",
       "<table border=\"1\" class=\"dataframe\">\n",
       "  <thead>\n",
       "    <tr style=\"text-align: right;\">\n",
       "      <th></th>\n",
       "      <th>userid</th>\n",
       "      <th>track</th>\n",
       "      <th>artist</th>\n",
       "      <th>genre</th>\n",
       "      <th>city</th>\n",
       "      <th>time</th>\n",
       "      <th>day</th>\n",
       "    </tr>\n",
       "  </thead>\n",
       "  <tbody>\n",
       "    <tr>\n",
       "      <th>0</th>\n",
       "      <td>FFB692EC</td>\n",
       "      <td>kamigata_to_boots</td>\n",
       "      <td>the_mass_missile</td>\n",
       "      <td>rock</td>\n",
       "      <td>shelbyville</td>\n",
       "      <td>20:28:33</td>\n",
       "      <td>wednesday</td>\n",
       "    </tr>\n",
       "    <tr>\n",
       "      <th>1</th>\n",
       "      <td>55204538</td>\n",
       "      <td>delayed_because_of_accident</td>\n",
       "      <td>andreas_rönnberg</td>\n",
       "      <td>rock</td>\n",
       "      <td>springfield</td>\n",
       "      <td>14:07:09</td>\n",
       "      <td>friday</td>\n",
       "    </tr>\n",
       "    <tr>\n",
       "      <th>2</th>\n",
       "      <td>20EC38</td>\n",
       "      <td>funiculì_funiculà</td>\n",
       "      <td>mario_lanza</td>\n",
       "      <td>pop</td>\n",
       "      <td>shelbyville</td>\n",
       "      <td>20:58:07</td>\n",
       "      <td>wednesday</td>\n",
       "    </tr>\n",
       "    <tr>\n",
       "      <th>3</th>\n",
       "      <td>A3DD03C9</td>\n",
       "      <td>dragons_in_the_sunset</td>\n",
       "      <td>fire_ice</td>\n",
       "      <td>folk</td>\n",
       "      <td>shelbyville</td>\n",
       "      <td>08:37:09</td>\n",
       "      <td>monday</td>\n",
       "    </tr>\n",
       "    <tr>\n",
       "      <th>4</th>\n",
       "      <td>E2DC1FAE</td>\n",
       "      <td>soul_people</td>\n",
       "      <td>space_echo</td>\n",
       "      <td>dance</td>\n",
       "      <td>springfield</td>\n",
       "      <td>08:34:34</td>\n",
       "      <td>monday</td>\n",
       "    </tr>\n",
       "    <tr>\n",
       "      <th>...</th>\n",
       "      <td>...</td>\n",
       "      <td>...</td>\n",
       "      <td>...</td>\n",
       "      <td>...</td>\n",
       "      <td>...</td>\n",
       "      <td>...</td>\n",
       "      <td>...</td>\n",
       "    </tr>\n",
       "    <tr>\n",
       "      <th>61248</th>\n",
       "      <td>729CBB09</td>\n",
       "      <td>my_name</td>\n",
       "      <td>mclean</td>\n",
       "      <td>rnb</td>\n",
       "      <td>springfield</td>\n",
       "      <td>13:32:28</td>\n",
       "      <td>wednesday</td>\n",
       "    </tr>\n",
       "    <tr>\n",
       "      <th>61249</th>\n",
       "      <td>D08D4A55</td>\n",
       "      <td>maybe_one_day_feat_black_spade_</td>\n",
       "      <td>blu_exile</td>\n",
       "      <td>hip</td>\n",
       "      <td>shelbyville</td>\n",
       "      <td>10:00:00</td>\n",
       "      <td>monday</td>\n",
       "    </tr>\n",
       "    <tr>\n",
       "      <th>61250</th>\n",
       "      <td>C5E3A0D5</td>\n",
       "      <td>jalopiina</td>\n",
       "      <td>&lt;NA&gt;</td>\n",
       "      <td>industrial</td>\n",
       "      <td>springfield</td>\n",
       "      <td>20:09:26</td>\n",
       "      <td>friday</td>\n",
       "    </tr>\n",
       "    <tr>\n",
       "      <th>61251</th>\n",
       "      <td>321D0506</td>\n",
       "      <td>freight_train</td>\n",
       "      <td>chas_mcdevitt</td>\n",
       "      <td>rock</td>\n",
       "      <td>springfield</td>\n",
       "      <td>21:43:59</td>\n",
       "      <td>friday</td>\n",
       "    </tr>\n",
       "    <tr>\n",
       "      <th>61252</th>\n",
       "      <td>3A64EF84</td>\n",
       "      <td>tell_me_sweet_little_lies</td>\n",
       "      <td>monica_lopez</td>\n",
       "      <td>country</td>\n",
       "      <td>springfield</td>\n",
       "      <td>21:59:46</td>\n",
       "      <td>friday</td>\n",
       "    </tr>\n",
       "  </tbody>\n",
       "</table>\n",
       "<p>61253 rows × 7 columns</p>\n",
       "</div>"
      ],
      "text/plain": [
       "         userid                            track            artist       genre         city      time        day\n",
       "0      FFB692EC                kamigata_to_boots  the_mass_missile        rock  shelbyville  20:28:33  wednesday\n",
       "1      55204538      delayed_because_of_accident  andreas_rönnberg        rock  springfield  14:07:09     friday\n",
       "2        20EC38                funiculì_funiculà       mario_lanza         pop  shelbyville  20:58:07  wednesday\n",
       "3      A3DD03C9            dragons_in_the_sunset          fire_ice        folk  shelbyville  08:37:09     monday\n",
       "4      E2DC1FAE                      soul_people        space_echo       dance  springfield  08:34:34     monday\n",
       "...         ...                              ...               ...         ...          ...       ...        ...\n",
       "61248  729CBB09                          my_name            mclean         rnb  springfield  13:32:28  wednesday\n",
       "61249  D08D4A55  maybe_one_day_feat_black_spade_         blu_exile         hip  shelbyville  10:00:00     monday\n",
       "61250  C5E3A0D5                        jalopiina              <NA>  industrial  springfield  20:09:26     friday\n",
       "61251  321D0506                    freight_train     chas_mcdevitt        rock  springfield  21:43:59     friday\n",
       "61252  3A64EF84        tell_me_sweet_little_lies      monica_lopez     country  springfield  21:59:46     friday\n",
       "\n",
       "[61253 rows x 7 columns]"
      ]
     },
     "execution_count": 10,
     "metadata": {},
     "output_type": "execute_result"
    }
   ],
   "source": [
    "# Replace missing values with pd.NA\n",
    "df_music = replace_missing_values(df_music, exclude=['userid', 'city', 'time', 'day'])\n",
    "df_music"
   ]
  },
  {
   "cell_type": "markdown",
   "id": "c916cd64",
   "metadata": {},
   "source": [
    "#### 3.2.3 Preview missing values"
   ]
  },
  {
   "cell_type": "code",
   "execution_count": 11,
   "id": "d06fa1d4",
   "metadata": {},
   "outputs": [
    {
     "data": {
      "image/png": "[encoded data removed]",
      "text/plain": [
       "<Figure size 1500x700 with 1 Axes>"
      ]
     },
     "metadata": {},
     "output_type": "display_data"
    }
   ],
   "source": [
    "# Show missing values heatmap\n",
    "missing_values_heatmap(df_music)"
   ]
  },
  {
   "cell_type": "code",
   "execution_count": 12,
   "id": "4a3cc7ad",
   "metadata": {},
   "outputs": [
    {
     "data": {
      "application/vnd.microsoft.datawrangler.viewer.v0+json": {
       "columns": [
        {
         "name": "index",
         "rawType": "int64",
         "type": "integer"
        },
        {
         "name": "userid",
         "rawType": "object",
         "type": "string"
        },
        {
         "name": "track",
         "rawType": "object",
         "type": "unknown"
        },
        {
         "name": "artist",
         "rawType": "object",
         "type": "unknown"
        },
        {
         "name": "genre",
         "rawType": "object",
         "type": "unknown"
        },
        {
         "name": "city",
         "rawType": "object",
         "type": "string"
        },
        {
         "name": "time",
         "rawType": "object",
         "type": "string"
        },
        {
         "name": "day",
         "rawType": "object",
         "type": "string"
        }
       ],
       "ref": "b9072ab3-6686-496c-b840-53a44340653e",
       "rows": [
        [
         "15",
         "E3C5756F",
         null,
         null,
         null,
         "springfield",
         "09:24:51",
         "monday"
        ],
        [
         "35",
         "A8AE9169",
         null,
         null,
         null,
         "springfield",
         "08:56:10",
         "monday"
        ],
        [
         "161",
         "364C85C0",
         null,
         null,
         null,
         "springfield",
         "20:06:58",
         "monday"
        ],
        [
         "210",
         "C4990C90",
         null,
         null,
         null,
         "springfield",
         "20:09:56",
         "monday"
        ],
        [
         "216",
         "22B27E80",
         null,
         null,
         null,
         "springfield",
         "13:34:16",
         "monday"
        ],
        [
         "274",
         "7D166C63",
         null,
         null,
         "jazz",
         "shelbyville",
         "20:29:53",
         "wednesday"
        ],
        [
         "281",
         "DDDD48D6",
         null,
         null,
         null,
         "springfield",
         "14:37:20",
         "friday"
        ],
        [
         "340",
         "64615301",
         null,
         null,
         "jazz",
         "springfield",
         "14:26:58",
         "friday"
        ],
        [
         "343",
         "2EDB07E1",
         null,
         null,
         "rock",
         "shelbyville",
         "08:51:13",
         "friday"
        ],
        [
         "350",
         "66001CD6",
         null,
         null,
         "jazz",
         "springfield",
         "21:35:37",
         "monday"
        ],
        [
         "409",
         "973BE87D",
         null,
         null,
         null,
         "springfield",
         "13:15:08",
         "monday"
        ],
        [
         "415",
         "A38B5021",
         null,
         null,
         "dance",
         "shelbyville",
         "13:01:03",
         "monday"
        ],
        [
         "439",
         "AA4A59BB",
         null,
         null,
         null,
         "springfield",
         "08:06:37",
         "monday"
        ],
        [
         "534",
         "BC578F1D",
         null,
         null,
         "hip",
         "springfield",
         "13:51:13",
         "monday"
        ],
        [
         "544",
         "2C05727",
         null,
         null,
         "dance",
         "springfield",
         "09:48:59",
         "monday"
        ],
        [
         "566",
         "F5713B6D",
         null,
         null,
         "classicmetal",
         "springfield",
         "08:45:51",
         "wednesday"
        ],
        [
         "614",
         "F5713B6D",
         null,
         null,
         "rnb",
         "springfield",
         "14:14:03",
         "friday"
        ],
        [
         "676",
         "5D256504",
         null,
         null,
         null,
         "shelbyville",
         "13:19:42",
         "monday"
        ],
        [
         "693",
         "DF8BD5BD",
         null,
         null,
         "jazz",
         "springfield",
         "20:57:48",
         "monday"
        ],
        [
         "733",
         "A1261D26",
         null,
         null,
         "jazz",
         "springfield",
         "20:26:58",
         "monday"
        ],
        [
         "760",
         "10F7E9D0",
         null,
         null,
         "pop",
         "shelbyville",
         "20:23:14",
         "wednesday"
        ],
        [
         "823",
         "77153500",
         null,
         null,
         null,
         "shelbyville",
         "20:16:01",
         "friday"
        ],
        [
         "846",
         "7DFA509A",
         null,
         null,
         null,
         "shelbyville",
         "21:53:47",
         "monday"
        ],
        [
         "1042",
         "A78737C7",
         null,
         null,
         null,
         "springfield",
         "08:42:20",
         "monday"
        ],
        [
         "1232",
         "24F3E2DB",
         null,
         null,
         null,
         "springfield",
         "09:05:28",
         "monday"
        ],
        [
         "1331",
         "7C15EECE",
         null,
         null,
         "alternative",
         "springfield",
         "09:45:31",
         "wednesday"
        ],
        [
         "1384",
         "A1261D26",
         null,
         null,
         "classical",
         "springfield",
         "20:26:44",
         "monday"
        ],
        [
         "1393",
         "57655F89",
         null,
         null,
         null,
         "springfield",
         "14:49:29",
         "monday"
        ],
        [
         "1399",
         "A1CED50",
         null,
         null,
         null,
         "springfield",
         "21:25:57",
         "monday"
        ],
        [
         "1488",
         "DEC8639A",
         null,
         null,
         "rnb",
         "springfield",
         "09:16:58",
         "monday"
        ],
        [
         "1545",
         "A8AE9169",
         null,
         null,
         null,
         "springfield",
         "13:28:56",
         "monday"
        ],
        [
         "1585",
         "F462BE39",
         null,
         null,
         null,
         "springfield",
         "14:16:47",
         "monday"
        ],
        [
         "1661",
         "A8AE9169",
         null,
         null,
         null,
         "springfield",
         "20:17:02",
         "monday"
        ],
        [
         "1678",
         "2B7DA9B7",
         null,
         null,
         "dance",
         "springfield",
         "08:20:53",
         "wednesday"
        ],
        [
         "1691",
         "4C4877A3",
         null,
         null,
         null,
         "shelbyville",
         "14:50:32",
         "wednesday"
        ],
        [
         "1702",
         "5DA1415A",
         null,
         null,
         "soul",
         "springfield",
         "09:21:48",
         "monday"
        ],
        [
         "1771",
         "24F3E2DB",
         null,
         null,
         null,
         "springfield",
         "20:08:23",
         "friday"
        ],
        [
         "1785",
         "38C76F13",
         null,
         null,
         null,
         "shelbyville",
         "21:28:24",
         "monday"
        ],
        [
         "1861",
         "336C7AC4",
         null,
         null,
         "rnb",
         "springfield",
         "08:57:39",
         "friday"
        ],
        [
         "1889",
         "39EDC574",
         null,
         null,
         null,
         "springfield",
         "13:06:36",
         "wednesday"
        ],
        [
         "2005",
         "6986FD15",
         null,
         null,
         "pop",
         "springfield",
         "21:57:55",
         "monday"
        ],
        [
         "2066",
         "A8AE9169",
         null,
         null,
         null,
         "springfield",
         "20:17:30",
         "monday"
        ],
        [
         "2098",
         "A8AE9169",
         null,
         null,
         null,
         "springfield",
         "13:43:05",
         "monday"
        ],
        [
         "2104",
         "24F3E2DB",
         null,
         null,
         null,
         "springfield",
         "09:26:02",
         "monday"
        ],
        [
         "2119",
         "ED6CD20F",
         null,
         null,
         "hip",
         "springfield",
         "22:00:25",
         "wednesday"
        ],
        [
         "2127",
         "F742E736",
         null,
         null,
         "rock",
         "springfield",
         "20:28:30",
         "friday"
        ],
        [
         "2257",
         "AB8FE80F",
         null,
         null,
         "indie",
         "springfield",
         "21:48:19",
         "wednesday"
        ],
        [
         "2340",
         "AF9F57E2",
         null,
         null,
         null,
         "shelbyville",
         "08:13:09",
         "wednesday"
        ],
        [
         "2370",
         "7D166C63",
         null,
         null,
         "pop",
         "shelbyville",
         "20:34:44",
         "wednesday"
        ],
        [
         "2456",
         "951D7CE4",
         null,
         null,
         null,
         "springfield",
         "20:37:15",
         "monday"
        ]
       ],
       "shape": {
        "columns": 7,
        "rows": 1263
       }
      },
      "text/html": [
       "<div>\n",
       "<style scoped>\n",
       "    .dataframe tbody tr th:only-of-type {\n",
       "        vertical-align: middle;\n",
       "    }\n",
       "\n",
       "    .dataframe tbody tr th {\n",
       "        vertical-align: top;\n",
       "    }\n",
       "\n",
       "    .dataframe thead th {\n",
       "        text-align: right;\n",
       "    }\n",
       "</style>\n",
       "<table border=\"1\" class=\"dataframe\">\n",
       "  <thead>\n",
       "    <tr style=\"text-align: right;\">\n",
       "      <th></th>\n",
       "      <th>userid</th>\n",
       "      <th>track</th>\n",
       "      <th>artist</th>\n",
       "      <th>genre</th>\n",
       "      <th>city</th>\n",
       "      <th>time</th>\n",
       "      <th>day</th>\n",
       "    </tr>\n",
       "  </thead>\n",
       "  <tbody>\n",
       "    <tr>\n",
       "      <th>15</th>\n",
       "      <td>E3C5756F</td>\n",
       "      <td>&lt;NA&gt;</td>\n",
       "      <td>&lt;NA&gt;</td>\n",
       "      <td>&lt;NA&gt;</td>\n",
       "      <td>springfield</td>\n",
       "      <td>09:24:51</td>\n",
       "      <td>monday</td>\n",
       "    </tr>\n",
       "    <tr>\n",
       "      <th>35</th>\n",
       "      <td>A8AE9169</td>\n",
       "      <td>&lt;NA&gt;</td>\n",
       "      <td>&lt;NA&gt;</td>\n",
       "      <td>&lt;NA&gt;</td>\n",
       "      <td>springfield</td>\n",
       "      <td>08:56:10</td>\n",
       "      <td>monday</td>\n",
       "    </tr>\n",
       "    <tr>\n",
       "      <th>161</th>\n",
       "      <td>364C85C0</td>\n",
       "      <td>&lt;NA&gt;</td>\n",
       "      <td>&lt;NA&gt;</td>\n",
       "      <td>&lt;NA&gt;</td>\n",
       "      <td>springfield</td>\n",
       "      <td>20:06:58</td>\n",
       "      <td>monday</td>\n",
       "    </tr>\n",
       "    <tr>\n",
       "      <th>210</th>\n",
       "      <td>C4990C90</td>\n",
       "      <td>&lt;NA&gt;</td>\n",
       "      <td>&lt;NA&gt;</td>\n",
       "      <td>&lt;NA&gt;</td>\n",
       "      <td>springfield</td>\n",
       "      <td>20:09:56</td>\n",
       "      <td>monday</td>\n",
       "    </tr>\n",
       "    <tr>\n",
       "      <th>216</th>\n",
       "      <td>22B27E80</td>\n",
       "      <td>&lt;NA&gt;</td>\n",
       "      <td>&lt;NA&gt;</td>\n",
       "      <td>&lt;NA&gt;</td>\n",
       "      <td>springfield</td>\n",
       "      <td>13:34:16</td>\n",
       "      <td>monday</td>\n",
       "    </tr>\n",
       "    <tr>\n",
       "      <th>...</th>\n",
       "      <td>...</td>\n",
       "      <td>...</td>\n",
       "      <td>...</td>\n",
       "      <td>...</td>\n",
       "      <td>...</td>\n",
       "      <td>...</td>\n",
       "      <td>...</td>\n",
       "    </tr>\n",
       "    <tr>\n",
       "      <th>61001</th>\n",
       "      <td>7D9627FD</td>\n",
       "      <td>&lt;NA&gt;</td>\n",
       "      <td>&lt;NA&gt;</td>\n",
       "      <td>&lt;NA&gt;</td>\n",
       "      <td>springfield</td>\n",
       "      <td>08:57:15</td>\n",
       "      <td>monday</td>\n",
       "    </tr>\n",
       "    <tr>\n",
       "      <th>61017</th>\n",
       "      <td>36CDD10A</td>\n",
       "      <td>&lt;NA&gt;</td>\n",
       "      <td>&lt;NA&gt;</td>\n",
       "      <td>folk</td>\n",
       "      <td>springfield</td>\n",
       "      <td>13:44:53</td>\n",
       "      <td>wednesday</td>\n",
       "    </tr>\n",
       "    <tr>\n",
       "      <th>61119</th>\n",
       "      <td>A8AE9169</td>\n",
       "      <td>&lt;NA&gt;</td>\n",
       "      <td>&lt;NA&gt;</td>\n",
       "      <td>&lt;NA&gt;</td>\n",
       "      <td>springfield</td>\n",
       "      <td>08:54:17</td>\n",
       "      <td>friday</td>\n",
       "    </tr>\n",
       "    <tr>\n",
       "      <th>61139</th>\n",
       "      <td>414F229D</td>\n",
       "      <td>&lt;NA&gt;</td>\n",
       "      <td>&lt;NA&gt;</td>\n",
       "      <td>&lt;NA&gt;</td>\n",
       "      <td>springfield</td>\n",
       "      <td>14:41:26</td>\n",
       "      <td>monday</td>\n",
       "    </tr>\n",
       "    <tr>\n",
       "      <th>61202</th>\n",
       "      <td>83831D51</td>\n",
       "      <td>&lt;NA&gt;</td>\n",
       "      <td>&lt;NA&gt;</td>\n",
       "      <td>hip</td>\n",
       "      <td>shelbyville</td>\n",
       "      <td>20:15:36</td>\n",
       "      <td>friday</td>\n",
       "    </tr>\n",
       "  </tbody>\n",
       "</table>\n",
       "<p>1263 rows × 7 columns</p>\n",
       "</div>"
      ],
      "text/plain": [
       "         userid track artist genre         city      time        day\n",
       "15     E3C5756F  <NA>   <NA>  <NA>  springfield  09:24:51     monday\n",
       "35     A8AE9169  <NA>   <NA>  <NA>  springfield  08:56:10     monday\n",
       "161    364C85C0  <NA>   <NA>  <NA>  springfield  20:06:58     monday\n",
       "210    C4990C90  <NA>   <NA>  <NA>  springfield  20:09:56     monday\n",
       "216    22B27E80  <NA>   <NA>  <NA>  springfield  13:34:16     monday\n",
       "...         ...   ...    ...   ...          ...       ...        ...\n",
       "61001  7D9627FD  <NA>   <NA>  <NA>  springfield  08:57:15     monday\n",
       "61017  36CDD10A  <NA>   <NA>  folk  springfield  13:44:53  wednesday\n",
       "61119  A8AE9169  <NA>   <NA>  <NA>  springfield  08:54:17     friday\n",
       "61139  414F229D  <NA>   <NA>  <NA>  springfield  14:41:26     monday\n",
       "61202  83831D51  <NA>   <NA>   hip  shelbyville  20:15:36     friday\n",
       "\n",
       "[1263 rows x 7 columns]"
      ]
     },
     "execution_count": 12,
     "metadata": {},
     "output_type": "execute_result"
    }
   ],
   "source": [
    "# Show pd.NA missing values for 'track' column\n",
    "mask = df_music['track'].isna()\n",
    "df_music.loc[mask, :]"
   ]
  },
  {
   "cell_type": "code",
   "execution_count": 13,
   "id": "165d2326",
   "metadata": {},
   "outputs": [
    {
     "data": {
      "application/vnd.microsoft.datawrangler.viewer.v0+json": {
       "columns": [
        {
         "name": "index",
         "rawType": "int64",
         "type": "integer"
        },
        {
         "name": "userid",
         "rawType": "object",
         "type": "string"
        },
        {
         "name": "track",
         "rawType": "object",
         "type": "unknown"
        },
        {
         "name": "artist",
         "rawType": "object",
         "type": "unknown"
        },
        {
         "name": "genre",
         "rawType": "object",
         "type": "unknown"
        },
        {
         "name": "city",
         "rawType": "object",
         "type": "string"
        },
        {
         "name": "time",
         "rawType": "object",
         "type": "string"
        },
        {
         "name": "day",
         "rawType": "object",
         "type": "string"
        }
       ],
       "ref": "df45dd96-7b29-44d1-b651-522016965470",
       "rows": [
        [
         "9",
         "E772D5C0",
         "pessimist",
         null,
         "dance",
         "shelbyville",
         "21:20:49",
         "wednesday"
        ],
        [
         "15",
         "E3C5756F",
         null,
         null,
         null,
         "springfield",
         "09:24:51",
         "monday"
        ],
        [
         "35",
         "A8AE9169",
         null,
         null,
         null,
         "springfield",
         "08:56:10",
         "monday"
        ],
        [
         "40",
         "77979A66",
         "sci_fi",
         null,
         "rusrap",
         "shelbyville",
         "08:45:43",
         "monday"
        ],
        [
         "54",
         "3FA9A6A8",
         "inside_out",
         null,
         null,
         "springfield",
         "10:00:41",
         "friday"
        ],
        [
         "56",
         "8B14ACB3",
         "senses_overload",
         null,
         "dance",
         "springfield",
         "20:02:19",
         "friday"
        ],
        [
         "60",
         "E2F8BE12",
         "banga",
         null,
         "pop",
         "springfield",
         "08:45:42",
         "monday"
        ],
        [
         "98",
         "2B10221B",
         "holltoll",
         null,
         "techno",
         "springfield",
         "09:47:23",
         "friday"
        ],
        [
         "104",
         "F237D683",
         "when_you_came_along",
         null,
         "house",
         "springfield",
         "14:07:52",
         "wednesday"
        ],
        [
         "135",
         "2D5ADA84",
         "here_we_go",
         null,
         "dance",
         "springfield",
         "13:54:41",
         "wednesday"
        ],
        [
         "161",
         "364C85C0",
         null,
         null,
         null,
         "springfield",
         "20:06:58",
         "monday"
        ],
        [
         "180",
         "8E7577C5",
         "let_the_magic_unfold",
         null,
         "dance",
         "shelbyville",
         "20:30:38",
         "friday"
        ],
        [
         "182",
         "4AFB623B",
         "my_name_is_love",
         null,
         null,
         "springfield",
         "20:23:47",
         "wednesday"
        ],
        [
         "197",
         "BA6EE06E",
         "vasco_da_gama",
         null,
         "rusrap",
         "springfield",
         "13:22:41",
         "monday"
        ],
        [
         "200",
         "323451A6",
         "colin_frake",
         null,
         "classical",
         "springfield",
         "08:18:31",
         "monday"
        ],
        [
         "202",
         "1BA3900F",
         "blue_haze",
         null,
         "classical",
         "springfield",
         "08:28:16",
         "monday"
        ],
        [
         "206",
         "7FB46D5F",
         "bozhe",
         null,
         "rusrap",
         "springfield",
         "09:42:17",
         "friday"
        ],
        [
         "210",
         "C4990C90",
         null,
         null,
         null,
         "springfield",
         "20:09:56",
         "monday"
        ],
        [
         "213",
         "4A9A94F7",
         "lessgo",
         null,
         "dance",
         "shelbyville",
         "08:21:07",
         "wednesday"
        ],
        [
         "216",
         "22B27E80",
         null,
         null,
         null,
         "springfield",
         "13:34:16",
         "monday"
        ],
        [
         "244",
         "4CFD2450",
         "skyfall",
         null,
         "electronic",
         "springfield",
         "14:56:46",
         "monday"
        ],
        [
         "249",
         "272CAB8D",
         "enta_omri",
         null,
         "dance",
         "springfield",
         "09:20:40",
         "wednesday"
        ],
        [
         "271",
         "20D7CA46",
         "lost_soul",
         null,
         null,
         "springfield",
         "13:41:53",
         "friday"
        ],
        [
         "274",
         "7D166C63",
         null,
         null,
         "jazz",
         "shelbyville",
         "20:29:53",
         "wednesday"
        ],
        [
         "277",
         "8F8E6D60",
         "freakin_funky",
         null,
         "electronic",
         "shelbyville",
         "21:04:10",
         "monday"
        ],
        [
         "281",
         "DDDD48D6",
         null,
         null,
         null,
         "springfield",
         "14:37:20",
         "friday"
        ],
        [
         "282",
         "38F2D76F",
         "nothing_is_written",
         null,
         "videogame",
         "shelbyville",
         "09:56:49",
         "friday"
        ],
        [
         "290",
         "3A3FC349",
         "2700",
         null,
         "rusrock",
         "springfield",
         "14:30:25",
         "wednesday"
        ],
        [
         "296",
         "6215F9FA",
         "unforgettable",
         null,
         "jazz",
         "shelbyville",
         "09:14:17",
         "wednesday"
        ],
        [
         "311",
         "1A7E7204",
         "these_lights",
         null,
         "dance",
         "shelbyville",
         "09:21:17",
         "wednesday"
        ],
        [
         "314",
         "C289C456",
         "sweet_harmony_extended_",
         null,
         "electronic",
         "springfield",
         "21:32:09",
         "wednesday"
        ],
        [
         "320",
         "E1178A6A",
         "symphonie_en_ré_majeur_il_giorno_onomastico_allegro_quasi_presto",
         null,
         "classical",
         "shelbyville",
         "09:08:11",
         "friday"
        ],
        [
         "331",
         "2655F300",
         "alive",
         null,
         "ruspop",
         "springfield",
         "08:08:05",
         "wednesday"
        ],
        [
         "340",
         "64615301",
         null,
         null,
         "jazz",
         "springfield",
         "14:26:58",
         "friday"
        ],
        [
         "343",
         "2EDB07E1",
         null,
         null,
         "rock",
         "shelbyville",
         "08:51:13",
         "friday"
        ],
        [
         "350",
         "66001CD6",
         null,
         null,
         "jazz",
         "springfield",
         "21:35:37",
         "monday"
        ],
        [
         "374",
         "CF05862C",
         "led_er_din_sang",
         null,
         "world",
         "shelbyville",
         "13:46:17",
         "monday"
        ],
        [
         "383",
         "C4800B0F",
         "gedenk",
         null,
         "rusrock",
         "shelbyville",
         "09:55:10",
         "monday"
        ],
        [
         "393",
         "3D7CA16F",
         "california",
         null,
         "reggae",
         "springfield",
         "14:24:37",
         "monday"
        ],
        [
         "409",
         "973BE87D",
         null,
         null,
         null,
         "springfield",
         "13:15:08",
         "monday"
        ],
        [
         "410",
         "E6DEB9DD",
         "paypal",
         null,
         "rusrap",
         "springfield",
         "13:26:08",
         "monday"
        ],
        [
         "415",
         "A38B5021",
         null,
         null,
         "dance",
         "shelbyville",
         "13:01:03",
         "monday"
        ],
        [
         "416",
         "A85FE636",
         "utopia_me_giorgio",
         null,
         "dance",
         "springfield",
         "20:10:27",
         "monday"
        ],
        [
         "422",
         "BCCC21B6",
         "i_m_alone",
         null,
         "electronic",
         "shelbyville",
         "13:44:21",
         "monday"
        ],
        [
         "425",
         "CD8DC64A",
         "sci_fi",
         null,
         "rusrap",
         "springfield",
         "08:37:01",
         "friday"
        ],
        [
         "426",
         "8C006103",
         "prime_time",
         null,
         "rusrap",
         "shelbyville",
         "09:57:30",
         "wednesday"
        ],
        [
         "427",
         "A1A1E13E",
         "planet_of_drums",
         null,
         "electronic",
         "springfield",
         "08:25:34",
         "friday"
        ],
        [
         "439",
         "AA4A59BB",
         null,
         null,
         null,
         "springfield",
         "08:06:37",
         "monday"
        ],
        [
         "442",
         "6B0535C0",
         "alive",
         null,
         "ruspop",
         "springfield",
         "21:36:43",
         "wednesday"
        ],
        [
         "455",
         "95DFBE50",
         "loud",
         null,
         "rusrap",
         "springfield",
         "09:30:34",
         "wednesday"
        ]
       ],
       "shape": {
        "columns": 7,
        "rows": 7097
       }
      },
      "text/html": [
       "<div>\n",
       "<style scoped>\n",
       "    .dataframe tbody tr th:only-of-type {\n",
       "        vertical-align: middle;\n",
       "    }\n",
       "\n",
       "    .dataframe tbody tr th {\n",
       "        vertical-align: top;\n",
       "    }\n",
       "\n",
       "    .dataframe thead th {\n",
       "        text-align: right;\n",
       "    }\n",
       "</style>\n",
       "<table border=\"1\" class=\"dataframe\">\n",
       "  <thead>\n",
       "    <tr style=\"text-align: right;\">\n",
       "      <th></th>\n",
       "      <th>userid</th>\n",
       "      <th>track</th>\n",
       "      <th>artist</th>\n",
       "      <th>genre</th>\n",
       "      <th>city</th>\n",
       "      <th>time</th>\n",
       "      <th>day</th>\n",
       "    </tr>\n",
       "  </thead>\n",
       "  <tbody>\n",
       "    <tr>\n",
       "      <th>9</th>\n",
       "      <td>E772D5C0</td>\n",
       "      <td>pessimist</td>\n",
       "      <td>&lt;NA&gt;</td>\n",
       "      <td>dance</td>\n",
       "      <td>shelbyville</td>\n",
       "      <td>21:20:49</td>\n",
       "      <td>wednesday</td>\n",
       "    </tr>\n",
       "    <tr>\n",
       "      <th>15</th>\n",
       "      <td>E3C5756F</td>\n",
       "      <td>&lt;NA&gt;</td>\n",
       "      <td>&lt;NA&gt;</td>\n",
       "      <td>&lt;NA&gt;</td>\n",
       "      <td>springfield</td>\n",
       "      <td>09:24:51</td>\n",
       "      <td>monday</td>\n",
       "    </tr>\n",
       "    <tr>\n",
       "      <th>35</th>\n",
       "      <td>A8AE9169</td>\n",
       "      <td>&lt;NA&gt;</td>\n",
       "      <td>&lt;NA&gt;</td>\n",
       "      <td>&lt;NA&gt;</td>\n",
       "      <td>springfield</td>\n",
       "      <td>08:56:10</td>\n",
       "      <td>monday</td>\n",
       "    </tr>\n",
       "    <tr>\n",
       "      <th>40</th>\n",
       "      <td>77979A66</td>\n",
       "      <td>sci_fi</td>\n",
       "      <td>&lt;NA&gt;</td>\n",
       "      <td>rusrap</td>\n",
       "      <td>shelbyville</td>\n",
       "      <td>08:45:43</td>\n",
       "      <td>monday</td>\n",
       "    </tr>\n",
       "    <tr>\n",
       "      <th>54</th>\n",
       "      <td>3FA9A6A8</td>\n",
       "      <td>inside_out</td>\n",
       "      <td>&lt;NA&gt;</td>\n",
       "      <td>&lt;NA&gt;</td>\n",
       "      <td>springfield</td>\n",
       "      <td>10:00:41</td>\n",
       "      <td>friday</td>\n",
       "    </tr>\n",
       "    <tr>\n",
       "      <th>...</th>\n",
       "      <td>...</td>\n",
       "      <td>...</td>\n",
       "      <td>...</td>\n",
       "      <td>...</td>\n",
       "      <td>...</td>\n",
       "      <td>...</td>\n",
       "      <td>...</td>\n",
       "    </tr>\n",
       "    <tr>\n",
       "      <th>61202</th>\n",
       "      <td>83831D51</td>\n",
       "      <td>&lt;NA&gt;</td>\n",
       "      <td>&lt;NA&gt;</td>\n",
       "      <td>hip</td>\n",
       "      <td>shelbyville</td>\n",
       "      <td>20:15:36</td>\n",
       "      <td>friday</td>\n",
       "    </tr>\n",
       "    <tr>\n",
       "      <th>61203</th>\n",
       "      <td>356BE973</td>\n",
       "      <td>don_t_give_up_on_me</td>\n",
       "      <td>&lt;NA&gt;</td>\n",
       "      <td>dance</td>\n",
       "      <td>springfield</td>\n",
       "      <td>20:02:32</td>\n",
       "      <td>monday</td>\n",
       "    </tr>\n",
       "    <tr>\n",
       "      <th>61205</th>\n",
       "      <td>C8DD4A4</td>\n",
       "      <td>moscow_calling</td>\n",
       "      <td>&lt;NA&gt;</td>\n",
       "      <td>rusrock</td>\n",
       "      <td>springfield</td>\n",
       "      <td>13:27:33</td>\n",
       "      <td>monday</td>\n",
       "    </tr>\n",
       "    <tr>\n",
       "      <th>61219</th>\n",
       "      <td>57B3F0CE</td>\n",
       "      <td>intro</td>\n",
       "      <td>&lt;NA&gt;</td>\n",
       "      <td>rusrap</td>\n",
       "      <td>springfield</td>\n",
       "      <td>20:50:13</td>\n",
       "      <td>monday</td>\n",
       "    </tr>\n",
       "    <tr>\n",
       "      <th>61250</th>\n",
       "      <td>C5E3A0D5</td>\n",
       "      <td>jalopiina</td>\n",
       "      <td>&lt;NA&gt;</td>\n",
       "      <td>industrial</td>\n",
       "      <td>springfield</td>\n",
       "      <td>20:09:26</td>\n",
       "      <td>friday</td>\n",
       "    </tr>\n",
       "  </tbody>\n",
       "</table>\n",
       "<p>7097 rows × 7 columns</p>\n",
       "</div>"
      ],
      "text/plain": [
       "         userid                track artist       genre         city      time        day\n",
       "9      E772D5C0            pessimist   <NA>       dance  shelbyville  21:20:49  wednesday\n",
       "15     E3C5756F                 <NA>   <NA>        <NA>  springfield  09:24:51     monday\n",
       "35     A8AE9169                 <NA>   <NA>        <NA>  springfield  08:56:10     monday\n",
       "40     77979A66               sci_fi   <NA>      rusrap  shelbyville  08:45:43     monday\n",
       "54     3FA9A6A8           inside_out   <NA>        <NA>  springfield  10:00:41     friday\n",
       "...         ...                  ...    ...         ...          ...       ...        ...\n",
       "61202  83831D51                 <NA>   <NA>         hip  shelbyville  20:15:36     friday\n",
       "61203  356BE973  don_t_give_up_on_me   <NA>       dance  springfield  20:02:32     monday\n",
       "61205   C8DD4A4       moscow_calling   <NA>     rusrock  springfield  13:27:33     monday\n",
       "61219  57B3F0CE                intro   <NA>      rusrap  springfield  20:50:13     monday\n",
       "61250  C5E3A0D5            jalopiina   <NA>  industrial  springfield  20:09:26     friday\n",
       "\n",
       "[7097 rows x 7 columns]"
      ]
     },
     "execution_count": 13,
     "metadata": {},
     "output_type": "execute_result"
    }
   ],
   "source": [
    "# Show pd.NA missing values for 'artist' column\n",
    "mask = df_music['artist'].isna()\n",
    "df_music.loc[mask, :]"
   ]
  },
  {
   "cell_type": "code",
   "execution_count": 14,
   "id": "e5e55652",
   "metadata": {},
   "outputs": [
    {
     "data": {
      "application/vnd.microsoft.datawrangler.viewer.v0+json": {
       "columns": [
        {
         "name": "index",
         "rawType": "int64",
         "type": "integer"
        },
        {
         "name": "userid",
         "rawType": "object",
         "type": "string"
        },
        {
         "name": "track",
         "rawType": "object",
         "type": "unknown"
        },
        {
         "name": "artist",
         "rawType": "object",
         "type": "unknown"
        },
        {
         "name": "genre",
         "rawType": "object",
         "type": "unknown"
        },
        {
         "name": "city",
         "rawType": "object",
         "type": "string"
        },
        {
         "name": "time",
         "rawType": "object",
         "type": "string"
        },
        {
         "name": "day",
         "rawType": "object",
         "type": "string"
        }
       ],
       "ref": "aba63a55-e0d3-478b-9a69-b3239ee43995",
       "rows": [
        [
         "15",
         "E3C5756F",
         null,
         null,
         null,
         "springfield",
         "09:24:51",
         "monday"
        ],
        [
         "35",
         "A8AE9169",
         null,
         null,
         null,
         "springfield",
         "08:56:10",
         "monday"
        ],
        [
         "54",
         "3FA9A6A8",
         "inside_out",
         null,
         null,
         "springfield",
         "10:00:41",
         "friday"
        ],
        [
         "161",
         "364C85C0",
         null,
         null,
         null,
         "springfield",
         "20:06:58",
         "monday"
        ],
        [
         "182",
         "4AFB623B",
         "my_name_is_love",
         null,
         null,
         "springfield",
         "20:23:47",
         "wednesday"
        ],
        [
         "210",
         "C4990C90",
         null,
         null,
         null,
         "springfield",
         "20:09:56",
         "monday"
        ],
        [
         "216",
         "22B27E80",
         null,
         null,
         null,
         "springfield",
         "13:34:16",
         "monday"
        ],
        [
         "271",
         "20D7CA46",
         "lost_soul",
         null,
         null,
         "springfield",
         "13:41:53",
         "friday"
        ],
        [
         "281",
         "DDDD48D6",
         null,
         null,
         null,
         "springfield",
         "14:37:20",
         "friday"
        ],
        [
         "409",
         "973BE87D",
         null,
         null,
         null,
         "springfield",
         "13:15:08",
         "monday"
        ],
        [
         "439",
         "AA4A59BB",
         null,
         null,
         null,
         "springfield",
         "08:06:37",
         "monday"
        ],
        [
         "613",
         "647B7722",
         "thing_called_love",
         "wolfram",
         null,
         "springfield",
         "20:23:26",
         "monday"
        ],
        [
         "653",
         "7E904FCB",
         "mortal_kombat",
         "nation_traping",
         null,
         "springfield",
         "14:20:50",
         "wednesday"
        ],
        [
         "676",
         "5D256504",
         null,
         null,
         null,
         "shelbyville",
         "13:19:42",
         "monday"
        ],
        [
         "691",
         "3F85A65C",
         "numb_encore",
         "the_new_west_project",
         null,
         "springfield",
         "09:33:05",
         "monday"
        ],
        [
         "823",
         "77153500",
         null,
         null,
         null,
         "shelbyville",
         "20:16:01",
         "friday"
        ],
        [
         "846",
         "7DFA509A",
         null,
         null,
         null,
         "shelbyville",
         "21:53:47",
         "monday"
        ],
        [
         "930",
         "2B9D60AD",
         "turn_it_up_now",
         "lykov",
         null,
         "springfield",
         "14:46:25",
         "wednesday"
        ],
        [
         "952",
         "8C8F308D",
         "whatever",
         "fall",
         null,
         "springfield",
         "08:48:34",
         "monday"
        ],
        [
         "1042",
         "A78737C7",
         null,
         null,
         null,
         "springfield",
         "08:42:20",
         "monday"
        ],
        [
         "1070",
         "F5CABABE",
         "calm_b4_the_storm",
         "terrahawk",
         null,
         "springfield",
         "13:17:20",
         "monday"
        ],
        [
         "1104",
         "697E9A20",
         "אדון_עולם",
         "sarit_hadad",
         null,
         "springfield",
         "20:37:58",
         "wednesday"
        ],
        [
         "1232",
         "24F3E2DB",
         null,
         null,
         null,
         "springfield",
         "09:05:28",
         "monday"
        ],
        [
         "1378",
         "C1C70D5C",
         "only_for_tonight",
         "late_night_alumni",
         null,
         "springfield",
         "20:15:09",
         "friday"
        ],
        [
         "1393",
         "57655F89",
         null,
         null,
         null,
         "springfield",
         "14:49:29",
         "monday"
        ],
        [
         "1399",
         "A1CED50",
         null,
         null,
         null,
         "springfield",
         "21:25:57",
         "monday"
        ],
        [
         "1440",
         "D9F1553D",
         "the_platters",
         "my_prayer",
         null,
         "springfield",
         "08:36:28",
         "friday"
        ],
        [
         "1455",
         "1113BB9A",
         "bad_guy",
         "tube",
         null,
         "springfield",
         "13:10:59",
         "friday"
        ],
        [
         "1505",
         "58B59EA3",
         "i_can_only_imagine",
         "aaron_frith",
         null,
         "springfield",
         "08:38:12",
         "friday"
        ],
        [
         "1545",
         "A8AE9169",
         null,
         null,
         null,
         "springfield",
         "13:28:56",
         "monday"
        ],
        [
         "1563",
         "C83FE6F8",
         "no_going_back",
         null,
         null,
         "springfield",
         "20:47:09",
         "friday"
        ],
        [
         "1585",
         "F462BE39",
         null,
         null,
         null,
         "springfield",
         "14:16:47",
         "monday"
        ],
        [
         "1598",
         "CA640FB9",
         "shimmy_yam_shimmy_yay",
         "kid_williams",
         null,
         "springfield",
         "14:22:59",
         "wednesday"
        ],
        [
         "1661",
         "A8AE9169",
         null,
         null,
         null,
         "springfield",
         "20:17:02",
         "monday"
        ],
        [
         "1691",
         "4C4877A3",
         null,
         null,
         null,
         "shelbyville",
         "14:50:32",
         "wednesday"
        ],
        [
         "1704",
         "DA3F712",
         "synchronicity",
         null,
         null,
         "shelbyville",
         "13:02:52",
         "monday"
        ],
        [
         "1771",
         "24F3E2DB",
         null,
         null,
         null,
         "springfield",
         "20:08:23",
         "friday"
        ],
        [
         "1783",
         "5BD1C08E",
         "run_your_love",
         "dryra_epicfail_featuring_nessakay",
         null,
         "shelbyville",
         "09:25:42",
         "friday"
        ],
        [
         "1785",
         "38C76F13",
         null,
         null,
         null,
         "shelbyville",
         "21:28:24",
         "monday"
        ],
        [
         "1803",
         "3AED4D06",
         "21th_century_blues",
         "robin_trower",
         null,
         "springfield",
         "21:43:31",
         "wednesday"
        ],
        [
         "1884",
         "C979430E",
         "voices",
         "mendus",
         null,
         "springfield",
         "20:06:42",
         "friday"
        ],
        [
         "1889",
         "39EDC574",
         null,
         null,
         null,
         "springfield",
         "13:06:36",
         "wednesday"
        ],
        [
         "2066",
         "A8AE9169",
         null,
         null,
         null,
         "springfield",
         "20:17:30",
         "monday"
        ],
        [
         "2098",
         "A8AE9169",
         null,
         null,
         null,
         "springfield",
         "13:43:05",
         "monday"
        ],
        [
         "2104",
         "24F3E2DB",
         null,
         null,
         null,
         "springfield",
         "09:26:02",
         "monday"
        ],
        [
         "2340",
         "AF9F57E2",
         null,
         null,
         null,
         "shelbyville",
         "08:13:09",
         "wednesday"
        ],
        [
         "2389",
         "B633AE87",
         "raker",
         null,
         null,
         "springfield",
         "21:43:15",
         "monday"
        ],
        [
         "2456",
         "951D7CE4",
         null,
         null,
         null,
         "springfield",
         "20:37:15",
         "monday"
        ],
        [
         "2494",
         "A8AE9169",
         null,
         null,
         null,
         "springfield",
         "13:14:55",
         "monday"
        ],
        [
         "2525",
         "721F6A0B",
         null,
         null,
         null,
         "springfield",
         "20:21:31",
         "monday"
        ]
       ],
       "shape": {
        "columns": 7,
        "rows": 1127
       }
      },
      "text/html": [
       "<div>\n",
       "<style scoped>\n",
       "    .dataframe tbody tr th:only-of-type {\n",
       "        vertical-align: middle;\n",
       "    }\n",
       "\n",
       "    .dataframe tbody tr th {\n",
       "        vertical-align: top;\n",
       "    }\n",
       "\n",
       "    .dataframe thead th {\n",
       "        text-align: right;\n",
       "    }\n",
       "</style>\n",
       "<table border=\"1\" class=\"dataframe\">\n",
       "  <thead>\n",
       "    <tr style=\"text-align: right;\">\n",
       "      <th></th>\n",
       "      <th>userid</th>\n",
       "      <th>track</th>\n",
       "      <th>artist</th>\n",
       "      <th>genre</th>\n",
       "      <th>city</th>\n",
       "      <th>time</th>\n",
       "      <th>day</th>\n",
       "    </tr>\n",
       "  </thead>\n",
       "  <tbody>\n",
       "    <tr>\n",
       "      <th>15</th>\n",
       "      <td>E3C5756F</td>\n",
       "      <td>&lt;NA&gt;</td>\n",
       "      <td>&lt;NA&gt;</td>\n",
       "      <td>&lt;NA&gt;</td>\n",
       "      <td>springfield</td>\n",
       "      <td>09:24:51</td>\n",
       "      <td>monday</td>\n",
       "    </tr>\n",
       "    <tr>\n",
       "      <th>35</th>\n",
       "      <td>A8AE9169</td>\n",
       "      <td>&lt;NA&gt;</td>\n",
       "      <td>&lt;NA&gt;</td>\n",
       "      <td>&lt;NA&gt;</td>\n",
       "      <td>springfield</td>\n",
       "      <td>08:56:10</td>\n",
       "      <td>monday</td>\n",
       "    </tr>\n",
       "    <tr>\n",
       "      <th>54</th>\n",
       "      <td>3FA9A6A8</td>\n",
       "      <td>inside_out</td>\n",
       "      <td>&lt;NA&gt;</td>\n",
       "      <td>&lt;NA&gt;</td>\n",
       "      <td>springfield</td>\n",
       "      <td>10:00:41</td>\n",
       "      <td>friday</td>\n",
       "    </tr>\n",
       "    <tr>\n",
       "      <th>161</th>\n",
       "      <td>364C85C0</td>\n",
       "      <td>&lt;NA&gt;</td>\n",
       "      <td>&lt;NA&gt;</td>\n",
       "      <td>&lt;NA&gt;</td>\n",
       "      <td>springfield</td>\n",
       "      <td>20:06:58</td>\n",
       "      <td>monday</td>\n",
       "    </tr>\n",
       "    <tr>\n",
       "      <th>182</th>\n",
       "      <td>4AFB623B</td>\n",
       "      <td>my_name_is_love</td>\n",
       "      <td>&lt;NA&gt;</td>\n",
       "      <td>&lt;NA&gt;</td>\n",
       "      <td>springfield</td>\n",
       "      <td>20:23:47</td>\n",
       "      <td>wednesday</td>\n",
       "    </tr>\n",
       "    <tr>\n",
       "      <th>...</th>\n",
       "      <td>...</td>\n",
       "      <td>...</td>\n",
       "      <td>...</td>\n",
       "      <td>...</td>\n",
       "      <td>...</td>\n",
       "      <td>...</td>\n",
       "      <td>...</td>\n",
       "    </tr>\n",
       "    <tr>\n",
       "      <th>60857</th>\n",
       "      <td>EED05948</td>\n",
       "      <td>&lt;NA&gt;</td>\n",
       "      <td>&lt;NA&gt;</td>\n",
       "      <td>&lt;NA&gt;</td>\n",
       "      <td>springfield</td>\n",
       "      <td>13:58:06</td>\n",
       "      <td>wednesday</td>\n",
       "    </tr>\n",
       "    <tr>\n",
       "      <th>61001</th>\n",
       "      <td>7D9627FD</td>\n",
       "      <td>&lt;NA&gt;</td>\n",
       "      <td>&lt;NA&gt;</td>\n",
       "      <td>&lt;NA&gt;</td>\n",
       "      <td>springfield</td>\n",
       "      <td>08:57:15</td>\n",
       "      <td>monday</td>\n",
       "    </tr>\n",
       "    <tr>\n",
       "      <th>61041</th>\n",
       "      <td>6E12D163</td>\n",
       "      <td>fantasy_boy</td>\n",
       "      <td>new_baccara</td>\n",
       "      <td>&lt;NA&gt;</td>\n",
       "      <td>springfield</td>\n",
       "      <td>20:51:44</td>\n",
       "      <td>friday</td>\n",
       "    </tr>\n",
       "    <tr>\n",
       "      <th>61119</th>\n",
       "      <td>A8AE9169</td>\n",
       "      <td>&lt;NA&gt;</td>\n",
       "      <td>&lt;NA&gt;</td>\n",
       "      <td>&lt;NA&gt;</td>\n",
       "      <td>springfield</td>\n",
       "      <td>08:54:17</td>\n",
       "      <td>friday</td>\n",
       "    </tr>\n",
       "    <tr>\n",
       "      <th>61139</th>\n",
       "      <td>414F229D</td>\n",
       "      <td>&lt;NA&gt;</td>\n",
       "      <td>&lt;NA&gt;</td>\n",
       "      <td>&lt;NA&gt;</td>\n",
       "      <td>springfield</td>\n",
       "      <td>14:41:26</td>\n",
       "      <td>monday</td>\n",
       "    </tr>\n",
       "  </tbody>\n",
       "</table>\n",
       "<p>1127 rows × 7 columns</p>\n",
       "</div>"
      ],
      "text/plain": [
       "         userid            track       artist genre         city      time        day\n",
       "15     E3C5756F             <NA>         <NA>  <NA>  springfield  09:24:51     monday\n",
       "35     A8AE9169             <NA>         <NA>  <NA>  springfield  08:56:10     monday\n",
       "54     3FA9A6A8       inside_out         <NA>  <NA>  springfield  10:00:41     friday\n",
       "161    364C85C0             <NA>         <NA>  <NA>  springfield  20:06:58     monday\n",
       "182    4AFB623B  my_name_is_love         <NA>  <NA>  springfield  20:23:47  wednesday\n",
       "...         ...              ...          ...   ...          ...       ...        ...\n",
       "60857  EED05948             <NA>         <NA>  <NA>  springfield  13:58:06  wednesday\n",
       "61001  7D9627FD             <NA>         <NA>  <NA>  springfield  08:57:15     monday\n",
       "61041  6E12D163      fantasy_boy  new_baccara  <NA>  springfield  20:51:44     friday\n",
       "61119  A8AE9169             <NA>         <NA>  <NA>  springfield  08:54:17     friday\n",
       "61139  414F229D             <NA>         <NA>  <NA>  springfield  14:41:26     monday\n",
       "\n",
       "[1127 rows x 7 columns]"
      ]
     },
     "execution_count": 14,
     "metadata": {},
     "output_type": "execute_result"
    }
   ],
   "source": [
    "# Show pd.NA missing values for 'genre' column\n",
    "mask = df_music['genre'].isna()\n",
    "df_music.loc[mask, :]"
   ]
  },
  {
   "cell_type": "markdown",
   "id": "e959c190",
   "metadata": {},
   "source": [
    "#### 3.2.4  Missing values data imputation"
   ]
  },
  {
   "cell_type": "code",
   "execution_count": 15,
   "id": "b8fe9fbe",
   "metadata": {},
   "outputs": [
    {
     "data": {
      "application/vnd.microsoft.datawrangler.viewer.v0+json": {
       "columns": [
        {
         "name": "index",
         "rawType": "int64",
         "type": "integer"
        },
        {
         "name": "userid",
         "rawType": "object",
         "type": "string"
        },
        {
         "name": "track",
         "rawType": "object",
         "type": "unknown"
        },
        {
         "name": "artist",
         "rawType": "object",
         "type": "unknown"
        },
        {
         "name": "genre",
         "rawType": "object",
         "type": "unknown"
        },
        {
         "name": "city",
         "rawType": "object",
         "type": "string"
        },
        {
         "name": "time",
         "rawType": "object",
         "type": "string"
        },
        {
         "name": "day",
         "rawType": "object",
         "type": "string"
        }
       ],
       "ref": "426cf424-ba01-4b98-8c4b-8350ae72d789",
       "rows": [
        [
         "0",
         "FFB692EC",
         "kamigata_to_boots",
         "the_mass_missile",
         "rock",
         "shelbyville",
         "20:28:33",
         "wednesday"
        ],
        [
         "1",
         "55204538",
         "delayed_because_of_accident",
         "andreas_rönnberg",
         "rock",
         "springfield",
         "14:07:09",
         "friday"
        ],
        [
         "2",
         "20EC38",
         "funiculì_funiculà",
         "mario_lanza",
         "pop",
         "shelbyville",
         "20:58:07",
         "wednesday"
        ],
        [
         "3",
         "A3DD03C9",
         "dragons_in_the_sunset",
         "fire_ice",
         "folk",
         "shelbyville",
         "08:37:09",
         "monday"
        ],
        [
         "4",
         "E2DC1FAE",
         "soul_people",
         "space_echo",
         "dance",
         "springfield",
         "08:34:34",
         "monday"
        ],
        [
         "5",
         "842029A1",
         "chains",
         "obladaet",
         "rusrap",
         "shelbyville",
         "13:09:41",
         "friday"
        ],
        [
         "6",
         "4CB90AA5",
         "true",
         "roman_messer",
         "dance",
         "springfield",
         "13:00:07",
         "wednesday"
        ],
        [
         "7",
         "F03E1C1F",
         "feeling_this_way",
         "polina_griffith",
         "dance",
         "springfield",
         "20:47:49",
         "wednesday"
        ],
        [
         "8",
         "8FA1D3BE",
         "l_estate",
         "julia_dalia",
         "ruspop",
         "springfield",
         "09:17:40",
         "friday"
        ],
        [
         "9",
         "E772D5C0",
         "pessimist",
         null,
         "dance",
         "shelbyville",
         "21:20:49",
         "wednesday"
        ],
        [
         "10",
         "BC5A3A29",
         "gool_la_mita",
         "shireen_abdul_wahab",
         "world",
         "springfield",
         "14:08:42",
         "monday"
        ],
        [
         "11",
         "8B5192C0",
         "is_there_anybody_out_there_panoramic_paralysis_mix",
         "pink_floyd_floydhead",
         "electronic",
         "springfield",
         "13:47:49",
         "monday"
        ],
        [
         "12",
         "FF3FD2BD",
         "truth",
         "bamboo",
         "pop",
         "springfield",
         "09:19:49",
         "monday"
        ],
        [
         "13",
         "CC782B0F",
         "after_school_special",
         "detroit_grand_pubahs",
         "dance",
         "springfield",
         "20:04:12",
         "friday"
        ],
        [
         "14",
         "94EB25C2",
         "make_love_whenever_you_can",
         "arabesque",
         "pop",
         "shelbyville",
         "13:22:08",
         "wednesday"
        ],
        [
         "16",
         "81D05C7D",
         "slaves_of_fear",
         "health",
         "alternative",
         "shelbyville",
         "20:54:48",
         "monday"
        ],
        [
         "17",
         "39DE290E",
         "hallo_hallo",
         "die_klima_hawaiians",
         "folk",
         "shelbyville",
         "14:36:47",
         "monday"
        ],
        [
         "18",
         "58AE138A",
         "pat_a_cake",
         "mother_goose_club",
         "children",
         "shelbyville",
         "20:04:56",
         "monday"
        ],
        [
         "19",
         "772F5B59",
         "sweetback",
         "the_fabulous_three",
         "rnb",
         "springfield",
         "13:56:42",
         "wednesday"
        ],
        [
         "20",
         "201CF2A8",
         "ya_ll_in_trouble",
         "lil_tee_chill_tank_young_buck_brother_mohammed_and_tara",
         "hip",
         "springfield",
         "08:46:03",
         "monday"
        ],
        [
         "21",
         "44B8E869",
         "nanovirus",
         "exotype",
         "rock",
         "springfield",
         "21:36:40",
         "monday"
        ],
        [
         "22",
         "B8E29C9C",
         "the_drunken_scotsman",
         "ménage_à_moi",
         "folk",
         "shelbyville",
         "20:20:49",
         "wednesday"
        ],
        [
         "23",
         "A729591B",
         "gavotte",
         "hachidai_nakamura",
         "jazz",
         "springfield",
         "13:56:00",
         "monday"
        ],
        [
         "24",
         "8BA8855",
         "a_universal_weakness",
         "lowercase_noises",
         "postrock",
         "shelbyville",
         "21:17:25",
         "wednesday"
        ],
        [
         "25",
         "A4504035",
         "cradle_in_bethlehem",
         "nat_king_cole",
         "jazz",
         "shelbyville",
         "09:23:01",
         "wednesday"
        ],
        [
         "26",
         "982219FD",
         "we_not_speak_americano",
         "genio_band",
         "pop",
         "shelbyville",
         "20:03:03",
         "monday"
        ],
        [
         "27",
         "9CC6AA46",
         "mucho_corazón",
         "buena_vista_social_club",
         "latin",
         "springfield",
         "14:06:22",
         "monday"
        ],
        [
         "28",
         "D8D698A9",
         "romantici",
         "viola_valentino",
         "pop",
         "springfield",
         "08:23:21",
         "wednesday"
        ],
        [
         "29",
         "5661F63E",
         "purcell_dido_and_aeneas_act_3_see_the_flags_destruction_s_our_delight_the_wit_ches_dance",
         "teresa_shaw",
         "classical",
         "shelbyville",
         "08:33:58",
         "wednesday"
        ],
        [
         "30",
         "EBA5A8B2",
         "päivän_nousu_nostajani",
         "värttina_",
         "world",
         "shelbyville",
         "08:00:31",
         "friday"
        ],
        [
         "31",
         "F6A44469",
         "veritas_universalis",
         "devathorn",
         "metal",
         "shelbyville",
         "20:19:42",
         "friday"
        ],
        [
         "32",
         "84AFC19A",
         "carry_on",
         "young_rising_sons",
         "alternative",
         "shelbyville",
         "20:24:51",
         "monday"
        ],
        [
         "33",
         "809CAFB1",
         "break_me_down",
         "steve_angello",
         "dance",
         "springfield",
         "14:42:31",
         "monday"
        ],
        [
         "34",
         "B416A40F",
         "maybe",
         "maria_michelle",
         "ruspop",
         "springfield",
         "14:49:21",
         "friday"
        ],
        [
         "36",
         "FCDF1C8E",
         "nasebanaru",
         "zen",
         "reggae",
         "springfield",
         "20:19:36",
         "wednesday"
        ],
        [
         "37",
         "C800FA98",
         "body_talk",
         "ratt",
         "rock",
         "springfield",
         "08:45:16",
         "monday"
        ],
        [
         "38",
         "14FBD1E5",
         "solteras",
         "beauty_brain",
         "dance",
         "shelbyville",
         "20:33:11",
         "friday"
        ],
        [
         "39",
         "2CF53316",
         "chicago_new_york",
         "the_aislers_set",
         "alternative",
         "shelbyville",
         "20:29:00",
         "wednesday"
        ],
        [
         "40",
         "77979A66",
         "sci_fi",
         null,
         "rusrap",
         "shelbyville",
         "08:45:43",
         "monday"
        ],
        [
         "41",
         "9202C4F4",
         "good_morning_sunshine",
         "brick",
         "rnb",
         "shelbyville",
         "21:54:19",
         "monday"
        ],
        [
         "42",
         "F9AD83A7",
         "fancy",
         "grey_killer",
         "triphop",
         "springfield",
         "14:53:39",
         "friday"
        ],
        [
         "43",
         "9A22399C",
         "sweet_october",
         "ministers_of_music",
         "dance",
         "springfield",
         "20:32:33",
         "friday"
        ],
        [
         "44",
         "CD0BE030",
         "falling_for_me",
         "benson_taylor",
         "pop",
         "springfield",
         "09:21:00",
         "friday"
        ],
        [
         "45",
         "E6072F55",
         "sos",
         "peter_cetera",
         "pop",
         "springfield",
         "20:10:04",
         "wednesday"
        ],
        [
         "46",
         "825997A5",
         "glorious_feeling",
         "joelistics",
         "hip",
         "springfield",
         "21:46:34",
         "friday"
        ],
        [
         "47",
         "A1749681",
         "downfall",
         "the_voss",
         "dance",
         "shelbyville",
         "20:07:58",
         "monday"
        ],
        [
         "48",
         "8D0DCE83",
         "little_bitty_pretty_one",
         "thurston_harris",
         "blues",
         "springfield",
         "09:41:14",
         "friday"
        ],
        [
         "49",
         "2A35001B",
         "can_you_feel_the_love_tonight",
         "disney_peaceful_piano",
         "instrumental",
         "shelbyville",
         "21:51:37",
         "friday"
        ],
        [
         "50",
         "3DBEB447",
         "entrance",
         "sun_electric",
         "dance",
         "springfield",
         "08:36:27",
         "monday"
        ],
        [
         "51",
         "107EBCED",
         "lightbulbs",
         "the_uchpochmack",
         "rusrock",
         "springfield",
         "21:02:57",
         "wednesday"
        ]
       ],
       "shape": {
        "columns": 7,
        "rows": 59991
       }
      },
      "text/html": [
       "<div>\n",
       "<style scoped>\n",
       "    .dataframe tbody tr th:only-of-type {\n",
       "        vertical-align: middle;\n",
       "    }\n",
       "\n",
       "    .dataframe tbody tr th {\n",
       "        vertical-align: top;\n",
       "    }\n",
       "\n",
       "    .dataframe thead th {\n",
       "        text-align: right;\n",
       "    }\n",
       "</style>\n",
       "<table border=\"1\" class=\"dataframe\">\n",
       "  <thead>\n",
       "    <tr style=\"text-align: right;\">\n",
       "      <th></th>\n",
       "      <th>userid</th>\n",
       "      <th>track</th>\n",
       "      <th>artist</th>\n",
       "      <th>genre</th>\n",
       "      <th>city</th>\n",
       "      <th>time</th>\n",
       "      <th>day</th>\n",
       "    </tr>\n",
       "  </thead>\n",
       "  <tbody>\n",
       "    <tr>\n",
       "      <th>0</th>\n",
       "      <td>FFB692EC</td>\n",
       "      <td>kamigata_to_boots</td>\n",
       "      <td>the_mass_missile</td>\n",
       "      <td>rock</td>\n",
       "      <td>shelbyville</td>\n",
       "      <td>20:28:33</td>\n",
       "      <td>wednesday</td>\n",
       "    </tr>\n",
       "    <tr>\n",
       "      <th>1</th>\n",
       "      <td>55204538</td>\n",
       "      <td>delayed_because_of_accident</td>\n",
       "      <td>andreas_rönnberg</td>\n",
       "      <td>rock</td>\n",
       "      <td>springfield</td>\n",
       "      <td>14:07:09</td>\n",
       "      <td>friday</td>\n",
       "    </tr>\n",
       "    <tr>\n",
       "      <th>2</th>\n",
       "      <td>20EC38</td>\n",
       "      <td>funiculì_funiculà</td>\n",
       "      <td>mario_lanza</td>\n",
       "      <td>pop</td>\n",
       "      <td>shelbyville</td>\n",
       "      <td>20:58:07</td>\n",
       "      <td>wednesday</td>\n",
       "    </tr>\n",
       "    <tr>\n",
       "      <th>3</th>\n",
       "      <td>A3DD03C9</td>\n",
       "      <td>dragons_in_the_sunset</td>\n",
       "      <td>fire_ice</td>\n",
       "      <td>folk</td>\n",
       "      <td>shelbyville</td>\n",
       "      <td>08:37:09</td>\n",
       "      <td>monday</td>\n",
       "    </tr>\n",
       "    <tr>\n",
       "      <th>4</th>\n",
       "      <td>E2DC1FAE</td>\n",
       "      <td>soul_people</td>\n",
       "      <td>space_echo</td>\n",
       "      <td>dance</td>\n",
       "      <td>springfield</td>\n",
       "      <td>08:34:34</td>\n",
       "      <td>monday</td>\n",
       "    </tr>\n",
       "    <tr>\n",
       "      <th>...</th>\n",
       "      <td>...</td>\n",
       "      <td>...</td>\n",
       "      <td>...</td>\n",
       "      <td>...</td>\n",
       "      <td>...</td>\n",
       "      <td>...</td>\n",
       "      <td>...</td>\n",
       "    </tr>\n",
       "    <tr>\n",
       "      <th>61248</th>\n",
       "      <td>729CBB09</td>\n",
       "      <td>my_name</td>\n",
       "      <td>mclean</td>\n",
       "      <td>rnb</td>\n",
       "      <td>springfield</td>\n",
       "      <td>13:32:28</td>\n",
       "      <td>wednesday</td>\n",
       "    </tr>\n",
       "    <tr>\n",
       "      <th>61249</th>\n",
       "      <td>D08D4A55</td>\n",
       "      <td>maybe_one_day_feat_black_spade_</td>\n",
       "      <td>blu_exile</td>\n",
       "      <td>hip</td>\n",
       "      <td>shelbyville</td>\n",
       "      <td>10:00:00</td>\n",
       "      <td>monday</td>\n",
       "    </tr>\n",
       "    <tr>\n",
       "      <th>61250</th>\n",
       "      <td>C5E3A0D5</td>\n",
       "      <td>jalopiina</td>\n",
       "      <td>&lt;NA&gt;</td>\n",
       "      <td>industrial</td>\n",
       "      <td>springfield</td>\n",
       "      <td>20:09:26</td>\n",
       "      <td>friday</td>\n",
       "    </tr>\n",
       "    <tr>\n",
       "      <th>61251</th>\n",
       "      <td>321D0506</td>\n",
       "      <td>freight_train</td>\n",
       "      <td>chas_mcdevitt</td>\n",
       "      <td>rock</td>\n",
       "      <td>springfield</td>\n",
       "      <td>21:43:59</td>\n",
       "      <td>friday</td>\n",
       "    </tr>\n",
       "    <tr>\n",
       "      <th>61252</th>\n",
       "      <td>3A64EF84</td>\n",
       "      <td>tell_me_sweet_little_lies</td>\n",
       "      <td>monica_lopez</td>\n",
       "      <td>country</td>\n",
       "      <td>springfield</td>\n",
       "      <td>21:59:46</td>\n",
       "      <td>friday</td>\n",
       "    </tr>\n",
       "  </tbody>\n",
       "</table>\n",
       "<p>59991 rows × 7 columns</p>\n",
       "</div>"
      ],
      "text/plain": [
       "         userid                            track            artist       genre         city      time        day\n",
       "0      FFB692EC                kamigata_to_boots  the_mass_missile        rock  shelbyville  20:28:33  wednesday\n",
       "1      55204538      delayed_because_of_accident  andreas_rönnberg        rock  springfield  14:07:09     friday\n",
       "2        20EC38                funiculì_funiculà       mario_lanza         pop  shelbyville  20:58:07  wednesday\n",
       "3      A3DD03C9            dragons_in_the_sunset          fire_ice        folk  shelbyville  08:37:09     monday\n",
       "4      E2DC1FAE                      soul_people        space_echo       dance  springfield  08:34:34     monday\n",
       "...         ...                              ...               ...         ...          ...       ...        ...\n",
       "61248  729CBB09                          my_name            mclean         rnb  springfield  13:32:28  wednesday\n",
       "61249  D08D4A55  maybe_one_day_feat_black_spade_         blu_exile         hip  shelbyville  10:00:00     monday\n",
       "61250  C5E3A0D5                        jalopiina              <NA>  industrial  springfield  20:09:26     friday\n",
       "61251  321D0506                    freight_train     chas_mcdevitt        rock  springfield  21:43:59     friday\n",
       "61252  3A64EF84        tell_me_sweet_little_lies      monica_lopez     country  springfield  21:59:46     friday\n",
       "\n",
       "[59991 rows x 7 columns]"
      ]
     },
     "execution_count": 15,
     "metadata": {},
     "output_type": "execute_result"
    }
   ],
   "source": [
    "# Delete pd.NA missing values within 'track' and 'artist' columns\n",
    "df_music = df_music.loc[~(df_music['track'].isna() & df_music['artist'].isna()), :]\n",
    "df_music"
   ]
  },
  {
   "cell_type": "markdown",
   "id": "20e36a3f",
   "metadata": {},
   "source": [
    "##### `LSPL`\n",
    "\n",
    "**Note:** \n",
    "\n",
    "The analysis indicates that missing values in the 'track' column predominantly align with those in the 'artist' column. Since these rows lack essential information\n",
    "\n",
    "__Solution__: Missing values ​​in both columns ['track', 'artist'] were deleted.   \n",
    "__Impact__: This helped eliminate irrelevant values while retaining the meaningful data in the DataFrame.."
   ]
  },
  {
   "cell_type": "code",
   "execution_count": 16,
   "id": "50a5a1f8",
   "metadata": {},
   "outputs": [
    {
     "data": {
      "application/vnd.microsoft.datawrangler.viewer.v0+json": {
       "columns": [
        {
         "name": "index",
         "rawType": "int64",
         "type": "integer"
        },
        {
         "name": "userid",
         "rawType": "object",
         "type": "string"
        },
        {
         "name": "track",
         "rawType": "object",
         "type": "string"
        },
        {
         "name": "artist",
         "rawType": "object",
         "type": "string"
        },
        {
         "name": "genre",
         "rawType": "object",
         "type": "string"
        },
        {
         "name": "city",
         "rawType": "object",
         "type": "string"
        },
        {
         "name": "time",
         "rawType": "object",
         "type": "string"
        },
        {
         "name": "day",
         "rawType": "object",
         "type": "string"
        }
       ],
       "ref": "cbeb8ec2-0ab3-442f-abf3-7c1b9ac0b8de",
       "rows": [
        [
         "0",
         "FFB692EC",
         "kamigata_to_boots",
         "the_mass_missile",
         "rock",
         "shelbyville",
         "20:28:33",
         "wednesday"
        ],
        [
         "1",
         "55204538",
         "delayed_because_of_accident",
         "andreas_rönnberg",
         "rock",
         "springfield",
         "14:07:09",
         "friday"
        ],
        [
         "2",
         "20EC38",
         "funiculì_funiculà",
         "mario_lanza",
         "pop",
         "shelbyville",
         "20:58:07",
         "wednesday"
        ],
        [
         "3",
         "A3DD03C9",
         "dragons_in_the_sunset",
         "fire_ice",
         "folk",
         "shelbyville",
         "08:37:09",
         "monday"
        ],
        [
         "4",
         "E2DC1FAE",
         "soul_people",
         "space_echo",
         "dance",
         "springfield",
         "08:34:34",
         "monday"
        ],
        [
         "5",
         "842029A1",
         "chains",
         "obladaet",
         "rusrap",
         "shelbyville",
         "13:09:41",
         "friday"
        ],
        [
         "6",
         "4CB90AA5",
         "true",
         "roman_messer",
         "dance",
         "springfield",
         "13:00:07",
         "wednesday"
        ],
        [
         "7",
         "F03E1C1F",
         "feeling_this_way",
         "polina_griffith",
         "dance",
         "springfield",
         "20:47:49",
         "wednesday"
        ],
        [
         "8",
         "8FA1D3BE",
         "l_estate",
         "julia_dalia",
         "ruspop",
         "springfield",
         "09:17:40",
         "friday"
        ],
        [
         "9",
         "E772D5C0",
         "pessimist",
         "unknown",
         "dance",
         "shelbyville",
         "21:20:49",
         "wednesday"
        ],
        [
         "10",
         "BC5A3A29",
         "gool_la_mita",
         "shireen_abdul_wahab",
         "world",
         "springfield",
         "14:08:42",
         "monday"
        ],
        [
         "11",
         "8B5192C0",
         "is_there_anybody_out_there_panoramic_paralysis_mix",
         "pink_floyd_floydhead",
         "electronic",
         "springfield",
         "13:47:49",
         "monday"
        ],
        [
         "12",
         "FF3FD2BD",
         "truth",
         "bamboo",
         "pop",
         "springfield",
         "09:19:49",
         "monday"
        ],
        [
         "13",
         "CC782B0F",
         "after_school_special",
         "detroit_grand_pubahs",
         "dance",
         "springfield",
         "20:04:12",
         "friday"
        ],
        [
         "14",
         "94EB25C2",
         "make_love_whenever_you_can",
         "arabesque",
         "pop",
         "shelbyville",
         "13:22:08",
         "wednesday"
        ],
        [
         "16",
         "81D05C7D",
         "slaves_of_fear",
         "health",
         "alternative",
         "shelbyville",
         "20:54:48",
         "monday"
        ],
        [
         "17",
         "39DE290E",
         "hallo_hallo",
         "die_klima_hawaiians",
         "folk",
         "shelbyville",
         "14:36:47",
         "monday"
        ],
        [
         "18",
         "58AE138A",
         "pat_a_cake",
         "mother_goose_club",
         "children",
         "shelbyville",
         "20:04:56",
         "monday"
        ],
        [
         "19",
         "772F5B59",
         "sweetback",
         "the_fabulous_three",
         "rnb",
         "springfield",
         "13:56:42",
         "wednesday"
        ],
        [
         "20",
         "201CF2A8",
         "ya_ll_in_trouble",
         "lil_tee_chill_tank_young_buck_brother_mohammed_and_tara",
         "hip",
         "springfield",
         "08:46:03",
         "monday"
        ],
        [
         "21",
         "44B8E869",
         "nanovirus",
         "exotype",
         "rock",
         "springfield",
         "21:36:40",
         "monday"
        ],
        [
         "22",
         "B8E29C9C",
         "the_drunken_scotsman",
         "ménage_à_moi",
         "folk",
         "shelbyville",
         "20:20:49",
         "wednesday"
        ],
        [
         "23",
         "A729591B",
         "gavotte",
         "hachidai_nakamura",
         "jazz",
         "springfield",
         "13:56:00",
         "monday"
        ],
        [
         "24",
         "8BA8855",
         "a_universal_weakness",
         "lowercase_noises",
         "postrock",
         "shelbyville",
         "21:17:25",
         "wednesday"
        ],
        [
         "25",
         "A4504035",
         "cradle_in_bethlehem",
         "nat_king_cole",
         "jazz",
         "shelbyville",
         "09:23:01",
         "wednesday"
        ],
        [
         "26",
         "982219FD",
         "we_not_speak_americano",
         "genio_band",
         "pop",
         "shelbyville",
         "20:03:03",
         "monday"
        ],
        [
         "27",
         "9CC6AA46",
         "mucho_corazón",
         "buena_vista_social_club",
         "latin",
         "springfield",
         "14:06:22",
         "monday"
        ],
        [
         "28",
         "D8D698A9",
         "romantici",
         "viola_valentino",
         "pop",
         "springfield",
         "08:23:21",
         "wednesday"
        ],
        [
         "29",
         "5661F63E",
         "purcell_dido_and_aeneas_act_3_see_the_flags_destruction_s_our_delight_the_wit_ches_dance",
         "teresa_shaw",
         "classical",
         "shelbyville",
         "08:33:58",
         "wednesday"
        ],
        [
         "30",
         "EBA5A8B2",
         "päivän_nousu_nostajani",
         "värttina_",
         "world",
         "shelbyville",
         "08:00:31",
         "friday"
        ],
        [
         "31",
         "F6A44469",
         "veritas_universalis",
         "devathorn",
         "metal",
         "shelbyville",
         "20:19:42",
         "friday"
        ],
        [
         "32",
         "84AFC19A",
         "carry_on",
         "young_rising_sons",
         "alternative",
         "shelbyville",
         "20:24:51",
         "monday"
        ],
        [
         "33",
         "809CAFB1",
         "break_me_down",
         "steve_angello",
         "dance",
         "springfield",
         "14:42:31",
         "monday"
        ],
        [
         "34",
         "B416A40F",
         "maybe",
         "maria_michelle",
         "ruspop",
         "springfield",
         "14:49:21",
         "friday"
        ],
        [
         "36",
         "FCDF1C8E",
         "nasebanaru",
         "zen",
         "reggae",
         "springfield",
         "20:19:36",
         "wednesday"
        ],
        [
         "37",
         "C800FA98",
         "body_talk",
         "ratt",
         "rock",
         "springfield",
         "08:45:16",
         "monday"
        ],
        [
         "38",
         "14FBD1E5",
         "solteras",
         "beauty_brain",
         "dance",
         "shelbyville",
         "20:33:11",
         "friday"
        ],
        [
         "39",
         "2CF53316",
         "chicago_new_york",
         "the_aislers_set",
         "alternative",
         "shelbyville",
         "20:29:00",
         "wednesday"
        ],
        [
         "40",
         "77979A66",
         "sci_fi",
         "unknown",
         "rusrap",
         "shelbyville",
         "08:45:43",
         "monday"
        ],
        [
         "41",
         "9202C4F4",
         "good_morning_sunshine",
         "brick",
         "rnb",
         "shelbyville",
         "21:54:19",
         "monday"
        ],
        [
         "42",
         "F9AD83A7",
         "fancy",
         "grey_killer",
         "triphop",
         "springfield",
         "14:53:39",
         "friday"
        ],
        [
         "43",
         "9A22399C",
         "sweet_october",
         "ministers_of_music",
         "dance",
         "springfield",
         "20:32:33",
         "friday"
        ],
        [
         "44",
         "CD0BE030",
         "falling_for_me",
         "benson_taylor",
         "pop",
         "springfield",
         "09:21:00",
         "friday"
        ],
        [
         "45",
         "E6072F55",
         "sos",
         "peter_cetera",
         "pop",
         "springfield",
         "20:10:04",
         "wednesday"
        ],
        [
         "46",
         "825997A5",
         "glorious_feeling",
         "joelistics",
         "hip",
         "springfield",
         "21:46:34",
         "friday"
        ],
        [
         "47",
         "A1749681",
         "downfall",
         "the_voss",
         "dance",
         "shelbyville",
         "20:07:58",
         "monday"
        ],
        [
         "48",
         "8D0DCE83",
         "little_bitty_pretty_one",
         "thurston_harris",
         "blues",
         "springfield",
         "09:41:14",
         "friday"
        ],
        [
         "49",
         "2A35001B",
         "can_you_feel_the_love_tonight",
         "disney_peaceful_piano",
         "instrumental",
         "shelbyville",
         "21:51:37",
         "friday"
        ],
        [
         "50",
         "3DBEB447",
         "entrance",
         "sun_electric",
         "dance",
         "springfield",
         "08:36:27",
         "monday"
        ],
        [
         "51",
         "107EBCED",
         "lightbulbs",
         "the_uchpochmack",
         "rusrock",
         "springfield",
         "21:02:57",
         "wednesday"
        ]
       ],
       "shape": {
        "columns": 7,
        "rows": 59991
       }
      },
      "text/html": [
       "<div>\n",
       "<style scoped>\n",
       "    .dataframe tbody tr th:only-of-type {\n",
       "        vertical-align: middle;\n",
       "    }\n",
       "\n",
       "    .dataframe tbody tr th {\n",
       "        vertical-align: top;\n",
       "    }\n",
       "\n",
       "    .dataframe thead th {\n",
       "        text-align: right;\n",
       "    }\n",
       "</style>\n",
       "<table border=\"1\" class=\"dataframe\">\n",
       "  <thead>\n",
       "    <tr style=\"text-align: right;\">\n",
       "      <th></th>\n",
       "      <th>userid</th>\n",
       "      <th>track</th>\n",
       "      <th>artist</th>\n",
       "      <th>genre</th>\n",
       "      <th>city</th>\n",
       "      <th>time</th>\n",
       "      <th>day</th>\n",
       "    </tr>\n",
       "  </thead>\n",
       "  <tbody>\n",
       "    <tr>\n",
       "      <th>0</th>\n",
       "      <td>FFB692EC</td>\n",
       "      <td>kamigata_to_boots</td>\n",
       "      <td>the_mass_missile</td>\n",
       "      <td>rock</td>\n",
       "      <td>shelbyville</td>\n",
       "      <td>20:28:33</td>\n",
       "      <td>wednesday</td>\n",
       "    </tr>\n",
       "    <tr>\n",
       "      <th>1</th>\n",
       "      <td>55204538</td>\n",
       "      <td>delayed_because_of_accident</td>\n",
       "      <td>andreas_rönnberg</td>\n",
       "      <td>rock</td>\n",
       "      <td>springfield</td>\n",
       "      <td>14:07:09</td>\n",
       "      <td>friday</td>\n",
       "    </tr>\n",
       "    <tr>\n",
       "      <th>2</th>\n",
       "      <td>20EC38</td>\n",
       "      <td>funiculì_funiculà</td>\n",
       "      <td>mario_lanza</td>\n",
       "      <td>pop</td>\n",
       "      <td>shelbyville</td>\n",
       "      <td>20:58:07</td>\n",
       "      <td>wednesday</td>\n",
       "    </tr>\n",
       "    <tr>\n",
       "      <th>3</th>\n",
       "      <td>A3DD03C9</td>\n",
       "      <td>dragons_in_the_sunset</td>\n",
       "      <td>fire_ice</td>\n",
       "      <td>folk</td>\n",
       "      <td>shelbyville</td>\n",
       "      <td>08:37:09</td>\n",
       "      <td>monday</td>\n",
       "    </tr>\n",
       "    <tr>\n",
       "      <th>4</th>\n",
       "      <td>E2DC1FAE</td>\n",
       "      <td>soul_people</td>\n",
       "      <td>space_echo</td>\n",
       "      <td>dance</td>\n",
       "      <td>springfield</td>\n",
       "      <td>08:34:34</td>\n",
       "      <td>monday</td>\n",
       "    </tr>\n",
       "    <tr>\n",
       "      <th>...</th>\n",
       "      <td>...</td>\n",
       "      <td>...</td>\n",
       "      <td>...</td>\n",
       "      <td>...</td>\n",
       "      <td>...</td>\n",
       "      <td>...</td>\n",
       "      <td>...</td>\n",
       "    </tr>\n",
       "    <tr>\n",
       "      <th>61248</th>\n",
       "      <td>729CBB09</td>\n",
       "      <td>my_name</td>\n",
       "      <td>mclean</td>\n",
       "      <td>rnb</td>\n",
       "      <td>springfield</td>\n",
       "      <td>13:32:28</td>\n",
       "      <td>wednesday</td>\n",
       "    </tr>\n",
       "    <tr>\n",
       "      <th>61249</th>\n",
       "      <td>D08D4A55</td>\n",
       "      <td>maybe_one_day_feat_black_spade_</td>\n",
       "      <td>blu_exile</td>\n",
       "      <td>hip</td>\n",
       "      <td>shelbyville</td>\n",
       "      <td>10:00:00</td>\n",
       "      <td>monday</td>\n",
       "    </tr>\n",
       "    <tr>\n",
       "      <th>61250</th>\n",
       "      <td>C5E3A0D5</td>\n",
       "      <td>jalopiina</td>\n",
       "      <td>unknown</td>\n",
       "      <td>industrial</td>\n",
       "      <td>springfield</td>\n",
       "      <td>20:09:26</td>\n",
       "      <td>friday</td>\n",
       "    </tr>\n",
       "    <tr>\n",
       "      <th>61251</th>\n",
       "      <td>321D0506</td>\n",
       "      <td>freight_train</td>\n",
       "      <td>chas_mcdevitt</td>\n",
       "      <td>rock</td>\n",
       "      <td>springfield</td>\n",
       "      <td>21:43:59</td>\n",
       "      <td>friday</td>\n",
       "    </tr>\n",
       "    <tr>\n",
       "      <th>61252</th>\n",
       "      <td>3A64EF84</td>\n",
       "      <td>tell_me_sweet_little_lies</td>\n",
       "      <td>monica_lopez</td>\n",
       "      <td>country</td>\n",
       "      <td>springfield</td>\n",
       "      <td>21:59:46</td>\n",
       "      <td>friday</td>\n",
       "    </tr>\n",
       "  </tbody>\n",
       "</table>\n",
       "<p>59991 rows × 7 columns</p>\n",
       "</div>"
      ],
      "text/plain": [
       "         userid                            track            artist       genre         city      time        day\n",
       "0      FFB692EC                kamigata_to_boots  the_mass_missile        rock  shelbyville  20:28:33  wednesday\n",
       "1      55204538      delayed_because_of_accident  andreas_rönnberg        rock  springfield  14:07:09     friday\n",
       "2        20EC38                funiculì_funiculà       mario_lanza         pop  shelbyville  20:58:07  wednesday\n",
       "3      A3DD03C9            dragons_in_the_sunset          fire_ice        folk  shelbyville  08:37:09     monday\n",
       "4      E2DC1FAE                      soul_people        space_echo       dance  springfield  08:34:34     monday\n",
       "...         ...                              ...               ...         ...          ...       ...        ...\n",
       "61248  729CBB09                          my_name            mclean         rnb  springfield  13:32:28  wednesday\n",
       "61249  D08D4A55  maybe_one_day_feat_black_spade_         blu_exile         hip  shelbyville  10:00:00     monday\n",
       "61250  C5E3A0D5                        jalopiina           unknown  industrial  springfield  20:09:26     friday\n",
       "61251  321D0506                    freight_train     chas_mcdevitt        rock  springfield  21:43:59     friday\n",
       "61252  3A64EF84        tell_me_sweet_little_lies      monica_lopez     country  springfield  21:59:46     friday\n",
       "\n",
       "[59991 rows x 7 columns]"
      ]
     },
     "execution_count": 16,
     "metadata": {},
     "output_type": "execute_result"
    }
   ],
   "source": [
    "# pd.NA missing values imputation with 'unknown'\n",
    "df_music = df_music.fillna('unknown')\n",
    "df_music"
   ]
  },
  {
   "cell_type": "markdown",
   "id": "3674cf13",
   "metadata": {},
   "source": [
    "##### `LSPL`\n",
    "\n",
    "**Note:** \n",
    "\n",
    "Null values ​​were found in the track, artist, and genre columns.\n",
    "\n",
    "__Solution__: Missing values ​​in these columns were replaced with the string _'unknown'_.   \n",
    "__Impact__: This helped maintain the integrity of the dataset and prevent errors during analysis."
   ]
  },
  {
   "cell_type": "markdown",
   "id": "33af8b36",
   "metadata": {},
   "source": [
    "### 3.3 Implicit duplicates"
   ]
  },
  {
   "cell_type": "markdown",
   "id": "9db00f22",
   "metadata": {},
   "source": [
    "#### 3.3.1 Implicit duplicates check"
   ]
  },
  {
   "cell_type": "code",
   "execution_count": 17,
   "id": "a4aa4ca1",
   "metadata": {},
   "outputs": [
    {
     "data": {
      "text/html": [
       "> Implicit duplicates:\n"
      ],
      "text/plain": [
       "<IPython.core.display.HTML object>"
      ]
     },
     "metadata": {},
     "output_type": "display_data"
    },
    {
     "data": {
      "text/html": [
       "\n",
       "> Processing column: ['<i>genre</i>']"
      ],
      "text/plain": [
       "<IPython.core.display.HTML object>"
      ]
     },
     "metadata": {},
     "output_type": "display_data"
    },
    {
     "name": "stderr",
     "output_type": "stream",
     "text": [
      "> Comparing column ['genre']: 100%|██████████| 268/268 [00:01<00:00, 187.59 values/s]\n"
     ]
    },
    {
     "data": {
      "text/html": [
       "\n",
       "> Results for column ['<i>genre</i>']:"
      ],
      "text/plain": [
       "<IPython.core.display.HTML object>"
      ]
     },
     "metadata": {},
     "output_type": "display_data"
    },
    {
     "data": {
      "text/html": [
       "  ['<i>genre</i>'] '<b>rock</b>' → '['postrock', 'rusrock', 'folkrock', 'stonerrock', 'deutschrock', 'rockabilly']'"
      ],
      "text/plain": [
       "<IPython.core.display.HTML object>"
      ]
     },
     "metadata": {},
     "output_type": "display_data"
    },
    {
     "data": {
      "text/html": [
       "  ['<i>genre</i>'] '<b>pop</b>' → '['ruspop', 'jpop', 'k_pop', 'electropop', 'dancepop', 'cantopop', 'popeurodance', 'popelectronic', 'synthpop', 'indipop', 'mandopop']'"
      ],
      "text/plain": [
       "<IPython.core.display.HTML object>"
      ]
     },
     "metadata": {},
     "output_type": "display_data"
    },
    {
     "data": {
      "text/html": [
       "  ['<i>genre</i>'] '<b>folk</b>' → '['folkmetal', 'folkrock', 'eurofolk', 'folklore', 'folktronica']'"
      ],
      "text/plain": [
       "<IPython.core.display.HTML object>"
      ]
     },
     "metadata": {},
     "output_type": "display_data"
    },
    {
     "data": {
      "text/html": [
       "  ['<i>genre</i>'] '<b>dance</b>' → '['dancehall', 'dancepop', 'popeurodance']'"
      ],
      "text/plain": [
       "<IPython.core.display.HTML object>"
      ]
     },
     "metadata": {},
     "output_type": "display_data"
    },
    {
     "data": {
      "text/html": [
       "  ['<i>genre</i>'] '<b>rusrap</b>' → '['rap']'"
      ],
      "text/plain": [
       "<IPython.core.display.HTML object>"
      ]
     },
     "metadata": {},
     "output_type": "display_data"
    },
    {
     "data": {
      "text/html": [
       "  ['<i>genre</i>'] '<b>ruspop</b>' → '['pop']'"
      ],
      "text/plain": [
       "<IPython.core.display.HTML object>"
      ]
     },
     "metadata": {},
     "output_type": "display_data"
    },
    {
     "data": {
      "text/html": [
       "  ['<i>genre</i>'] '<b>world</b>' → '['worldbeat']'"
      ],
      "text/plain": [
       "<IPython.core.display.HTML object>"
      ]
     },
     "metadata": {},
     "output_type": "display_data"
    },
    {
     "data": {
      "text/html": [
       "  ['<i>genre</i>'] '<b>electronic</b>' → '['loungeelectronic', 'popelectronic']'"
      ],
      "text/plain": [
       "<IPython.core.display.HTML object>"
      ]
     },
     "metadata": {},
     "output_type": "display_data"
    },
    {
     "data": {
      "text/html": [
       "  ['<i>genre</i>'] '<b>alternative</b>' → '['native']'"
      ],
      "text/plain": [
       "<IPython.core.display.HTML object>"
      ]
     },
     "metadata": {},
     "output_type": "display_data"
    },
    {
     "data": {
      "text/html": [
       "  ['<i>genre</i>'] '<b>hip</b>' → '['hiphop', 'hip_hop']'"
      ],
      "text/plain": [
       "<IPython.core.display.HTML object>"
      ]
     },
     "metadata": {},
     "output_type": "display_data"
    },
    {
     "data": {
      "text/html": [
       "  ['<i>genre</i>'] '<b>jazz</b>' → '['conjazz', 'nujazz', 'tradjazz']'"
      ],
      "text/plain": [
       "<IPython.core.display.HTML object>"
      ]
     },
     "metadata": {},
     "output_type": "display_data"
    },
    {
     "data": {
      "text/html": [
       "  ['<i>genre</i>'] '<b>postrock</b>' → '['rock', 'post']'"
      ],
      "text/plain": [
       "<IPython.core.display.HTML object>"
      ]
     },
     "metadata": {},
     "output_type": "display_data"
    },
    {
     "data": {
      "text/html": [
       "  ['<i>genre</i>'] '<b>latin</b>' → '['latino']'"
      ],
      "text/plain": [
       "<IPython.core.display.HTML object>"
      ]
     },
     "metadata": {},
     "output_type": "display_data"
    },
    {
     "data": {
      "text/html": [
       "  ['<i>genre</i>'] '<b>classical</b>' → '['classicmetal']'"
      ],
      "text/plain": [
       "<IPython.core.display.HTML object>"
      ]
     },
     "metadata": {},
     "output_type": "display_data"
    },
    {
     "data": {
      "text/html": [
       "  ['<i>genre</i>'] '<b>metal</b>' → '['progmetal', 'folkmetal', 'numetal', 'extrememetal', 'metalcore', 'classicmetal', 'epicmetal']'"
      ],
      "text/plain": [
       "<IPython.core.display.HTML object>"
      ]
     },
     "metadata": {},
     "output_type": "display_data"
    },
    {
     "data": {
      "text/html": [
       "  ['<i>genre</i>'] '<b>reggae</b>' → '['reggaeton']'"
      ],
      "text/plain": [
       "<IPython.core.display.HTML object>"
      ]
     },
     "metadata": {},
     "output_type": "display_data"
    },
    {
     "data": {
      "text/html": [
       "  ['<i>genre</i>'] '<b>triphop</b>' → '['trip', 'hop']'"
      ],
      "text/plain": [
       "<IPython.core.display.HTML object>"
      ]
     },
     "metadata": {},
     "output_type": "display_data"
    },
    {
     "data": {
      "text/html": [
       "  ['<i>genre</i>'] '<b>rusrock</b>' → '['rock']'"
      ],
      "text/plain": [
       "<IPython.core.display.HTML object>"
      ]
     },
     "metadata": {},
     "output_type": "display_data"
    },
    {
     "data": {
      "text/html": [
       "  ['<i>genre</i>'] '<b>türk</b>' → '['türkçe', 'variété']'"
      ],
      "text/plain": [
       "<IPython.core.display.HTML object>"
      ]
     },
     "metadata": {},
     "output_type": "display_data"
    },
    {
     "data": {
      "text/html": [
       "  ['<i>genre</i>'] '<b>post</b>' → '['postrock', 'posthardcore']'"
      ],
      "text/plain": [
       "<IPython.core.display.HTML object>"
      ]
     },
     "metadata": {},
     "output_type": "display_data"
    },
    {
     "data": {
      "text/html": [
       "  ['<i>genre</i>'] '<b>conjazz</b>' → '['jazz']'"
      ],
      "text/plain": [
       "<IPython.core.display.HTML object>"
      ]
     },
     "metadata": {},
     "output_type": "display_data"
    },
    {
     "data": {
      "text/html": [
       "  ['<i>genre</i>'] '<b>posthardcore</b>' → '['post', 'hardcore']'"
      ],
      "text/plain": [
       "<IPython.core.display.HTML object>"
      ]
     },
     "metadata": {},
     "output_type": "display_data"
    },
    {
     "data": {
      "text/html": [
       "  ['<i>genre</i>'] '<b>videogame</b>' → '['vi']'"
      ],
      "text/plain": [
       "<IPython.core.display.HTML object>"
      ]
     },
     "metadata": {},
     "output_type": "display_data"
    },
    {
     "data": {
      "text/html": [
       "  ['<i>genre</i>'] '<b>techno</b>' → '['tech', 'hardtechno']'"
      ],
      "text/plain": [
       "<IPython.core.display.HTML object>"
      ]
     },
     "metadata": {},
     "output_type": "display_data"
    },
    {
     "data": {
      "text/html": [
       "  ['<i>genre</i>'] '<b>reggaeton</b>' → '['reggae']'"
      ],
      "text/plain": [
       "<IPython.core.display.HTML object>"
      ]
     },
     "metadata": {},
     "output_type": "display_data"
    },
    {
     "data": {
      "text/html": [
       "  ['<i>genre</i>'] '<b>soundtrack</b>' → '['sound']'"
      ],
      "text/plain": [
       "<IPython.core.display.HTML object>"
      ]
     },
     "metadata": {},
     "output_type": "display_data"
    },
    {
     "data": {
      "text/html": [
       "  ['<i>genre</i>'] '<b>western</b>' → '['eastern']'"
      ],
      "text/plain": [
       "<IPython.core.display.HTML object>"
      ]
     },
     "metadata": {},
     "output_type": "display_data"
    },
    {
     "data": {
      "text/html": [
       "  ['<i>genre</i>'] '<b>rap</b>' → '['rusrap']'"
      ],
      "text/plain": [
       "<IPython.core.display.HTML object>"
      ]
     },
     "metadata": {},
     "output_type": "display_data"
    },
    {
     "data": {
      "text/html": [
       "  ['<i>genre</i>'] '<b>progmetal</b>' → '['metal']'"
      ],
      "text/plain": [
       "<IPython.core.display.HTML object>"
      ]
     },
     "metadata": {},
     "output_type": "display_data"
    },
    {
     "data": {
      "text/html": [
       "  ['<i>genre</i>'] '<b>new</b>' → '['newage', 'newwave']'"
      ],
      "text/plain": [
       "<IPython.core.display.HTML object>"
      ]
     },
     "metadata": {},
     "output_type": "display_data"
    },
    {
     "data": {
      "text/html": [
       "  ['<i>genre</i>'] '<b>soul</b>' → '['soulful']'"
      ],
      "text/plain": [
       "<IPython.core.display.HTML object>"
      ]
     },
     "metadata": {},
     "output_type": "display_data"
    },
    {
     "data": {
      "text/html": [
       "  ['<i>genre</i>'] '<b>jpop</b>' → '['pop']'"
      ],
      "text/plain": [
       "<IPython.core.display.HTML object>"
      ]
     },
     "metadata": {},
     "output_type": "display_data"
    },
    {
     "data": {
      "text/html": [
       "  ['<i>genre</i>'] '<b>nujazz</b>' → '['jazz', 'nu']'"
      ],
      "text/plain": [
       "<IPython.core.display.HTML object>"
      ]
     },
     "metadata": {},
     "output_type": "display_data"
    },
    {
     "data": {
      "text/html": [
       "  ['<i>genre</i>'] '<b>folkmetal</b>' → '['folk', 'metal']'"
      ],
      "text/plain": [
       "<IPython.core.display.HTML object>"
      ]
     },
     "metadata": {},
     "output_type": "display_data"
    },
    {
     "data": {
      "text/html": [
       "  ['<i>genre</i>'] '<b>hardcore</b>' → '['posthardcore']'"
      ],
      "text/plain": [
       "<IPython.core.display.HTML object>"
      ]
     },
     "metadata": {},
     "output_type": "display_data"
    },
    {
     "data": {
      "text/html": [
       "  ['<i>genre</i>'] '<b>numetal</b>' → '['metal', 'nu']'"
      ],
      "text/plain": [
       "<IPython.core.display.HTML object>"
      ]
     },
     "metadata": {},
     "output_type": "display_data"
    },
    {
     "data": {
      "text/html": [
       "  ['<i>genre</i>'] '<b>tango</b>' → '['argentinetango']'"
      ],
      "text/plain": [
       "<IPython.core.display.HTML object>"
      ]
     },
     "metadata": {},
     "output_type": "display_data"
    },
    {
     "data": {
      "text/html": [
       "  ['<i>genre</i>'] '<b>loungeelectronic</b>' → '['electronic', 'lounge']'"
      ],
      "text/plain": [
       "<IPython.core.display.HTML object>"
      ]
     },
     "metadata": {},
     "output_type": "display_data"
    },
    {
     "data": {
      "text/html": [
       "  ['<i>genre</i>'] '<b>dubstep</b>' → '['dub']'"
      ],
      "text/plain": [
       "<IPython.core.display.HTML object>"
      ]
     },
     "metadata": {},
     "output_type": "display_data"
    },
    {
     "data": {
      "text/html": [
       "  ['<i>genre</i>'] '<b>folkrock</b>' → '['rock', 'folk']'"
      ],
      "text/plain": [
       "<IPython.core.display.HTML object>"
      ]
     },
     "metadata": {},
     "output_type": "display_data"
    },
    {
     "data": {
      "text/html": [
       "  ['<i>genre</i>'] '<b>hiphop</b>' → '['hip', 'hip_hop', 'hop']'"
      ],
      "text/plain": [
       "<IPython.core.display.HTML object>"
      ]
     },
     "metadata": {},
     "output_type": "display_data"
    },
    {
     "data": {
      "text/html": [
       "  ['<i>genre</i>'] '<b>extrememetal</b>' → '['metal']'"
      ],
      "text/plain": [
       "<IPython.core.display.HTML object>"
      ]
     },
     "metadata": {},
     "output_type": "display_data"
    },
    {
     "data": {
      "text/html": [
       "  ['<i>genre</i>'] '<b>türkçe</b>' → '['türk', 'variété']'"
      ],
      "text/plain": [
       "<IPython.core.display.HTML object>"
      ]
     },
     "metadata": {},
     "output_type": "display_data"
    },
    {
     "data": {
      "text/html": [
       "  ['<i>genre</i>'] '<b>metalcore</b>' → '['metal']'"
      ],
      "text/plain": [
       "<IPython.core.display.HTML object>"
      ]
     },
     "metadata": {},
     "output_type": "display_data"
    },
    {
     "data": {
      "text/html": [
       "  ['<i>genre</i>'] '<b>argentinetango</b>' → '['tango']'"
      ],
      "text/plain": [
       "<IPython.core.display.HTML object>"
      ]
     },
     "metadata": {},
     "output_type": "display_data"
    },
    {
     "data": {
      "text/html": [
       "  ['<i>genre</i>'] '<b>eurofolk</b>' → '['folk']'"
      ],
      "text/plain": [
       "<IPython.core.display.HTML object>"
      ]
     },
     "metadata": {},
     "output_type": "display_data"
    },
    {
     "data": {
      "text/html": [
       "  ['<i>genre</i>'] '<b>stonerrock</b>' → '['rock']'"
      ],
      "text/plain": [
       "<IPython.core.display.HTML object>"
      ]
     },
     "metadata": {},
     "output_type": "display_data"
    },
    {
     "data": {
      "text/html": [
       "  ['<i>genre</i>'] '<b>variété</b>' → '['türk', 'türkçe']'"
      ],
      "text/plain": [
       "<IPython.core.display.HTML object>"
      ]
     },
     "metadata": {},
     "output_type": "display_data"
    },
    {
     "data": {
      "text/html": [
       "  ['<i>genre</i>'] '<b>nu</b>' → '['nujazz', 'numetal']'"
      ],
      "text/plain": [
       "<IPython.core.display.HTML object>"
      ]
     },
     "metadata": {},
     "output_type": "display_data"
    },
    {
     "data": {
      "text/html": [
       "  ['<i>genre</i>'] '<b>newage</b>' → '['new']'"
      ],
      "text/plain": [
       "<IPython.core.display.HTML object>"
      ]
     },
     "metadata": {},
     "output_type": "display_data"
    },
    {
     "data": {
      "text/html": [
       "  ['<i>genre</i>'] '<b>k_pop</b>' → '['pop']'"
      ],
      "text/plain": [
       "<IPython.core.display.HTML object>"
      ]
     },
     "metadata": {},
     "output_type": "display_data"
    },
    {
     "data": {
      "text/html": [
       "  ['<i>genre</i>'] '<b>dub</b>' → '['dubstep']'"
      ],
      "text/plain": [
       "<IPython.core.display.HTML object>"
      ]
     },
     "metadata": {},
     "output_type": "display_data"
    },
    {
     "data": {
      "text/html": [
       "  ['<i>genre</i>'] '<b>classicmetal</b>' → '['classical', 'metal']'"
      ],
      "text/plain": [
       "<IPython.core.display.HTML object>"
      ]
     },
     "metadata": {},
     "output_type": "display_data"
    },
    {
     "data": {
      "text/html": [
       "  ['<i>genre</i>'] '<b>tech</b>' → '['techno', 'hardtechno']'"
      ],
      "text/plain": [
       "<IPython.core.display.HTML object>"
      ]
     },
     "metadata": {},
     "output_type": "display_data"
    },
    {
     "data": {
      "text/html": [
       "  ['<i>genre</i>'] '<b>newwave</b>' → '['new']'"
      ],
      "text/plain": [
       "<IPython.core.display.HTML object>"
      ]
     },
     "metadata": {},
     "output_type": "display_data"
    },
    {
     "data": {
      "text/html": [
       "  ['<i>genre</i>'] '<b>dancehall</b>' → '['dance']'"
      ],
      "text/plain": [
       "<IPython.core.display.HTML object>"
      ]
     },
     "metadata": {},
     "output_type": "display_data"
    },
    {
     "data": {
      "text/html": [
       "  ['<i>genre</i>'] '<b>top</b>' → '['cantopop']'"
      ],
      "text/plain": [
       "<IPython.core.display.HTML object>"
      ]
     },
     "metadata": {},
     "output_type": "display_data"
    },
    {
     "data": {
      "text/html": [
       "  ['<i>genre</i>'] '<b>tradjazz</b>' → '['jazz']'"
      ],
      "text/plain": [
       "<IPython.core.display.HTML object>"
      ]
     },
     "metadata": {},
     "output_type": "display_data"
    },
    {
     "data": {
      "text/html": [
       "  ['<i>genre</i>'] '<b>epicmetal</b>' → '['metal']'"
      ],
      "text/plain": [
       "<IPython.core.display.HTML object>"
      ]
     },
     "metadata": {},
     "output_type": "display_data"
    },
    {
     "data": {
      "text/html": [
       "  ['<i>genre</i>'] '<b>hip_hop</b>' → '['hip', 'hiphop', 'hop']'"
      ],
      "text/plain": [
       "<IPython.core.display.HTML object>"
      ]
     },
     "metadata": {},
     "output_type": "display_data"
    },
    {
     "data": {
      "text/html": [
       "  ['<i>genre</i>'] '<b>deutschrock</b>' → '['rock']'"
      ],
      "text/plain": [
       "<IPython.core.display.HTML object>"
      ]
     },
     "metadata": {},
     "output_type": "display_data"
    },
    {
     "data": {
      "text/html": [
       "  ['<i>genre</i>'] '<b>eastern</b>' → '['western']'"
      ],
      "text/plain": [
       "<IPython.core.display.HTML object>"
      ]
     },
     "metadata": {},
     "output_type": "display_data"
    },
    {
     "data": {
      "text/html": [
       "  ['<i>genre</i>'] '<b>electropop</b>' → '['pop']'"
      ],
      "text/plain": [
       "<IPython.core.display.HTML object>"
      ]
     },
     "metadata": {},
     "output_type": "display_data"
    },
    {
     "data": {
      "text/html": [
       "  ['<i>genre</i>'] '<b>folklore</b>' → '['folk']'"
      ],
      "text/plain": [
       "<IPython.core.display.HTML object>"
      ]
     },
     "metadata": {},
     "output_type": "display_data"
    },
    {
     "data": {
      "text/html": [
       "  ['<i>genre</i>'] '<b>sound</b>' → '['soundtrack']'"
      ],
      "text/plain": [
       "<IPython.core.display.HTML object>"
      ]
     },
     "metadata": {},
     "output_type": "display_data"
    },
    {
     "data": {
      "text/html": [
       "  ['<i>genre</i>'] '<b>trip</b>' → '['triphop']'"
      ],
      "text/plain": [
       "<IPython.core.display.HTML object>"
      ]
     },
     "metadata": {},
     "output_type": "display_data"
    },
    {
     "data": {
      "text/html": [
       "  ['<i>genre</i>'] '<b>dancepop</b>' → '['pop', 'dance']'"
      ],
      "text/plain": [
       "<IPython.core.display.HTML object>"
      ]
     },
     "metadata": {},
     "output_type": "display_data"
    },
    {
     "data": {
      "text/html": [
       "  ['<i>genre</i>'] '<b>rockabilly</b>' → '['rock']'"
      ],
      "text/plain": [
       "<IPython.core.display.HTML object>"
      ]
     },
     "metadata": {},
     "output_type": "display_data"
    },
    {
     "data": {
      "text/html": [
       "  ['<i>genre</i>'] '<b>hop</b>' → '['triphop', 'hiphop', 'hip_hop']'"
      ],
      "text/plain": [
       "<IPython.core.display.HTML object>"
      ]
     },
     "metadata": {},
     "output_type": "display_data"
    },
    {
     "data": {
      "text/html": [
       "  ['<i>genre</i>'] '<b>lounge</b>' → '['loungeelectronic']'"
      ],
      "text/plain": [
       "<IPython.core.display.HTML object>"
      ]
     },
     "metadata": {},
     "output_type": "display_data"
    },
    {
     "data": {
      "text/html": [
       "  ['<i>genre</i>'] '<b>cantopop</b>' → '['pop', 'top']'"
      ],
      "text/plain": [
       "<IPython.core.display.HTML object>"
      ]
     },
     "metadata": {},
     "output_type": "display_data"
    },
    {
     "data": {
      "text/html": [
       "  ['<i>genre</i>'] '<b>popeurodance</b>' → '['pop', 'dance']'"
      ],
      "text/plain": [
       "<IPython.core.display.HTML object>"
      ]
     },
     "metadata": {},
     "output_type": "display_data"
    },
    {
     "data": {
      "text/html": [
       "  ['<i>genre</i>'] '<b>vi</b>' → '['videogame']'"
      ],
      "text/plain": [
       "<IPython.core.display.HTML object>"
      ]
     },
     "metadata": {},
     "output_type": "display_data"
    },
    {
     "data": {
      "text/html": [
       "  ['<i>genre</i>'] '<b>folktronica</b>' → '['folk']'"
      ],
      "text/plain": [
       "<IPython.core.display.HTML object>"
      ]
     },
     "metadata": {},
     "output_type": "display_data"
    },
    {
     "data": {
      "text/html": [
       "  ['<i>genre</i>'] '<b>hardtechno</b>' → '['techno', 'tech']'"
      ],
      "text/plain": [
       "<IPython.core.display.HTML object>"
      ]
     },
     "metadata": {},
     "output_type": "display_data"
    },
    {
     "data": {
      "text/html": [
       "  ['<i>genre</i>'] '<b>latino</b>' → '['latin']'"
      ],
      "text/plain": [
       "<IPython.core.display.HTML object>"
      ]
     },
     "metadata": {},
     "output_type": "display_data"
    },
    {
     "data": {
      "text/html": [
       "  ['<i>genre</i>'] '<b>worldbeat</b>' → '['world']'"
      ],
      "text/plain": [
       "<IPython.core.display.HTML object>"
      ]
     },
     "metadata": {},
     "output_type": "display_data"
    },
    {
     "data": {
      "text/html": [
       "  ['<i>genre</i>'] '<b>popelectronic</b>' → '['pop', 'electronic']'"
      ],
      "text/plain": [
       "<IPython.core.display.HTML object>"
      ]
     },
     "metadata": {},
     "output_type": "display_data"
    },
    {
     "data": {
      "text/html": [
       "  ['<i>genre</i>'] '<b>native</b>' → '['alternative']'"
      ],
      "text/plain": [
       "<IPython.core.display.HTML object>"
      ]
     },
     "metadata": {},
     "output_type": "display_data"
    },
    {
     "data": {
      "text/html": [
       "  ['<i>genre</i>'] '<b>synthpop</b>' → '['pop']'"
      ],
      "text/plain": [
       "<IPython.core.display.HTML object>"
      ]
     },
     "metadata": {},
     "output_type": "display_data"
    },
    {
     "data": {
      "text/html": [
       "  ['<i>genre</i>'] '<b>soulful</b>' → '['soul']'"
      ],
      "text/plain": [
       "<IPython.core.display.HTML object>"
      ]
     },
     "metadata": {},
     "output_type": "display_data"
    },
    {
     "data": {
      "text/html": [
       "  ['<i>genre</i>'] '<b>indipop</b>' → '['pop']'"
      ],
      "text/plain": [
       "<IPython.core.display.HTML object>"
      ]
     },
     "metadata": {},
     "output_type": "display_data"
    },
    {
     "data": {
      "text/html": [
       "  ['<i>genre</i>'] '<b>mandopop</b>' → '['pop']'"
      ],
      "text/plain": [
       "<IPython.core.display.HTML object>"
      ]
     },
     "metadata": {},
     "output_type": "display_data"
    }
   ],
   "source": [
    "# Show implicit duplicates\n",
    "detect_implicit_duplicates(df_music, include=['genre'])"
   ]
  },
  {
   "cell_type": "markdown",
   "id": "a82bd0b0",
   "metadata": {},
   "source": [
    "#### 3.3.2 Implicit duplicates data imputation"
   ]
  },
  {
   "cell_type": "code",
   "execution_count": 18,
   "id": "93b036e5",
   "metadata": {},
   "outputs": [
    {
     "data": {
      "application/vnd.microsoft.datawrangler.viewer.v0+json": {
       "columns": [
        {
         "name": "index",
         "rawType": "int64",
         "type": "integer"
        },
        {
         "name": "userid",
         "rawType": "object",
         "type": "string"
        },
        {
         "name": "track",
         "rawType": "object",
         "type": "string"
        },
        {
         "name": "artist",
         "rawType": "object",
         "type": "string"
        },
        {
         "name": "genre",
         "rawType": "object",
         "type": "string"
        },
        {
         "name": "city",
         "rawType": "object",
         "type": "string"
        },
        {
         "name": "time",
         "rawType": "object",
         "type": "string"
        },
        {
         "name": "day",
         "rawType": "object",
         "type": "string"
        }
       ],
       "ref": "7cfc6b0d-9219-4859-b653-ae3997ec7b2a",
       "rows": [
        [
         "0",
         "FFB692EC",
         "kamigata_to_boots",
         "the_mass_missile",
         "rock",
         "shelbyville",
         "20:28:33",
         "wednesday"
        ],
        [
         "1",
         "55204538",
         "delayed_because_of_accident",
         "andreas_rönnberg",
         "rock",
         "springfield",
         "14:07:09",
         "friday"
        ],
        [
         "2",
         "20EC38",
         "funiculì_funiculà",
         "mario_lanza",
         "pop",
         "shelbyville",
         "20:58:07",
         "wednesday"
        ],
        [
         "3",
         "A3DD03C9",
         "dragons_in_the_sunset",
         "fire_ice",
         "folk",
         "shelbyville",
         "08:37:09",
         "monday"
        ],
        [
         "4",
         "E2DC1FAE",
         "soul_people",
         "space_echo",
         "dance",
         "springfield",
         "08:34:34",
         "monday"
        ],
        [
         "5",
         "842029A1",
         "chains",
         "obladaet",
         "rusrap",
         "shelbyville",
         "13:09:41",
         "friday"
        ],
        [
         "6",
         "4CB90AA5",
         "true",
         "roman_messer",
         "dance",
         "springfield",
         "13:00:07",
         "wednesday"
        ],
        [
         "7",
         "F03E1C1F",
         "feeling_this_way",
         "polina_griffith",
         "dance",
         "springfield",
         "20:47:49",
         "wednesday"
        ],
        [
         "8",
         "8FA1D3BE",
         "l_estate",
         "julia_dalia",
         "ruspop",
         "springfield",
         "09:17:40",
         "friday"
        ],
        [
         "9",
         "E772D5C0",
         "pessimist",
         "unknown",
         "dance",
         "shelbyville",
         "21:20:49",
         "wednesday"
        ],
        [
         "10",
         "BC5A3A29",
         "gool_la_mita",
         "shireen_abdul_wahab",
         "world",
         "springfield",
         "14:08:42",
         "monday"
        ],
        [
         "11",
         "8B5192C0",
         "is_there_anybody_out_there_panoramic_paralysis_mix",
         "pink_floyd_floydhead",
         "electronic",
         "springfield",
         "13:47:49",
         "monday"
        ],
        [
         "12",
         "FF3FD2BD",
         "truth",
         "bamboo",
         "pop",
         "springfield",
         "09:19:49",
         "monday"
        ],
        [
         "13",
         "CC782B0F",
         "after_school_special",
         "detroit_grand_pubahs",
         "dance",
         "springfield",
         "20:04:12",
         "friday"
        ],
        [
         "14",
         "94EB25C2",
         "make_love_whenever_you_can",
         "arabesque",
         "pop",
         "shelbyville",
         "13:22:08",
         "wednesday"
        ],
        [
         "16",
         "81D05C7D",
         "slaves_of_fear",
         "health",
         "alternative",
         "shelbyville",
         "20:54:48",
         "monday"
        ],
        [
         "17",
         "39DE290E",
         "hallo_hallo",
         "die_klima_hawaiians",
         "folk",
         "shelbyville",
         "14:36:47",
         "monday"
        ],
        [
         "18",
         "58AE138A",
         "pat_a_cake",
         "mother_goose_club",
         "children",
         "shelbyville",
         "20:04:56",
         "monday"
        ],
        [
         "19",
         "772F5B59",
         "sweetback",
         "the_fabulous_three",
         "rnb",
         "springfield",
         "13:56:42",
         "wednesday"
        ],
        [
         "20",
         "201CF2A8",
         "ya_ll_in_trouble",
         "lil_tee_chill_tank_young_buck_brother_mohammed_and_tara",
         "hip",
         "springfield",
         "08:46:03",
         "monday"
        ],
        [
         "21",
         "44B8E869",
         "nanovirus",
         "exotype",
         "rock",
         "springfield",
         "21:36:40",
         "monday"
        ],
        [
         "22",
         "B8E29C9C",
         "the_drunken_scotsman",
         "ménage_à_moi",
         "folk",
         "shelbyville",
         "20:20:49",
         "wednesday"
        ],
        [
         "23",
         "A729591B",
         "gavotte",
         "hachidai_nakamura",
         "jazz",
         "springfield",
         "13:56:00",
         "monday"
        ],
        [
         "24",
         "8BA8855",
         "a_universal_weakness",
         "lowercase_noises",
         "postrock",
         "shelbyville",
         "21:17:25",
         "wednesday"
        ],
        [
         "25",
         "A4504035",
         "cradle_in_bethlehem",
         "nat_king_cole",
         "jazz",
         "shelbyville",
         "09:23:01",
         "wednesday"
        ],
        [
         "26",
         "982219FD",
         "we_not_speak_americano",
         "genio_band",
         "pop",
         "shelbyville",
         "20:03:03",
         "monday"
        ],
        [
         "27",
         "9CC6AA46",
         "mucho_corazón",
         "buena_vista_social_club",
         "latin",
         "springfield",
         "14:06:22",
         "monday"
        ],
        [
         "28",
         "D8D698A9",
         "romantici",
         "viola_valentino",
         "pop",
         "springfield",
         "08:23:21",
         "wednesday"
        ],
        [
         "29",
         "5661F63E",
         "purcell_dido_and_aeneas_act_3_see_the_flags_destruction_s_our_delight_the_wit_ches_dance",
         "teresa_shaw",
         "classical",
         "shelbyville",
         "08:33:58",
         "wednesday"
        ],
        [
         "30",
         "EBA5A8B2",
         "päivän_nousu_nostajani",
         "värttina_",
         "world",
         "shelbyville",
         "08:00:31",
         "friday"
        ],
        [
         "31",
         "F6A44469",
         "veritas_universalis",
         "devathorn",
         "metal",
         "shelbyville",
         "20:19:42",
         "friday"
        ],
        [
         "32",
         "84AFC19A",
         "carry_on",
         "young_rising_sons",
         "alternative",
         "shelbyville",
         "20:24:51",
         "monday"
        ],
        [
         "33",
         "809CAFB1",
         "break_me_down",
         "steve_angello",
         "dance",
         "springfield",
         "14:42:31",
         "monday"
        ],
        [
         "34",
         "B416A40F",
         "maybe",
         "maria_michelle",
         "ruspop",
         "springfield",
         "14:49:21",
         "friday"
        ],
        [
         "36",
         "FCDF1C8E",
         "nasebanaru",
         "zen",
         "reggae",
         "springfield",
         "20:19:36",
         "wednesday"
        ],
        [
         "37",
         "C800FA98",
         "body_talk",
         "ratt",
         "rock",
         "springfield",
         "08:45:16",
         "monday"
        ],
        [
         "38",
         "14FBD1E5",
         "solteras",
         "beauty_brain",
         "dance",
         "shelbyville",
         "20:33:11",
         "friday"
        ],
        [
         "39",
         "2CF53316",
         "chicago_new_york",
         "the_aislers_set",
         "alternative",
         "shelbyville",
         "20:29:00",
         "wednesday"
        ],
        [
         "40",
         "77979A66",
         "sci_fi",
         "unknown",
         "rusrap",
         "shelbyville",
         "08:45:43",
         "monday"
        ],
        [
         "41",
         "9202C4F4",
         "good_morning_sunshine",
         "brick",
         "rnb",
         "shelbyville",
         "21:54:19",
         "monday"
        ],
        [
         "42",
         "F9AD83A7",
         "fancy",
         "grey_killer",
         "triphop",
         "springfield",
         "14:53:39",
         "friday"
        ],
        [
         "43",
         "9A22399C",
         "sweet_october",
         "ministers_of_music",
         "dance",
         "springfield",
         "20:32:33",
         "friday"
        ],
        [
         "44",
         "CD0BE030",
         "falling_for_me",
         "benson_taylor",
         "pop",
         "springfield",
         "09:21:00",
         "friday"
        ],
        [
         "45",
         "E6072F55",
         "sos",
         "peter_cetera",
         "pop",
         "springfield",
         "20:10:04",
         "wednesday"
        ],
        [
         "46",
         "825997A5",
         "glorious_feeling",
         "joelistics",
         "hip",
         "springfield",
         "21:46:34",
         "friday"
        ],
        [
         "47",
         "A1749681",
         "downfall",
         "the_voss",
         "dance",
         "shelbyville",
         "20:07:58",
         "monday"
        ],
        [
         "48",
         "8D0DCE83",
         "little_bitty_pretty_one",
         "thurston_harris",
         "blues",
         "springfield",
         "09:41:14",
         "friday"
        ],
        [
         "49",
         "2A35001B",
         "can_you_feel_the_love_tonight",
         "disney_peaceful_piano",
         "instrumental",
         "shelbyville",
         "21:51:37",
         "friday"
        ],
        [
         "50",
         "3DBEB447",
         "entrance",
         "sun_electric",
         "dance",
         "springfield",
         "08:36:27",
         "monday"
        ],
        [
         "51",
         "107EBCED",
         "lightbulbs",
         "the_uchpochmack",
         "rusrock",
         "springfield",
         "21:02:57",
         "wednesday"
        ]
       ],
       "shape": {
        "columns": 7,
        "rows": 59991
       }
      },
      "text/html": [
       "<div>\n",
       "<style scoped>\n",
       "    .dataframe tbody tr th:only-of-type {\n",
       "        vertical-align: middle;\n",
       "    }\n",
       "\n",
       "    .dataframe tbody tr th {\n",
       "        vertical-align: top;\n",
       "    }\n",
       "\n",
       "    .dataframe thead th {\n",
       "        text-align: right;\n",
       "    }\n",
       "</style>\n",
       "<table border=\"1\" class=\"dataframe\">\n",
       "  <thead>\n",
       "    <tr style=\"text-align: right;\">\n",
       "      <th></th>\n",
       "      <th>userid</th>\n",
       "      <th>track</th>\n",
       "      <th>artist</th>\n",
       "      <th>genre</th>\n",
       "      <th>city</th>\n",
       "      <th>time</th>\n",
       "      <th>day</th>\n",
       "    </tr>\n",
       "  </thead>\n",
       "  <tbody>\n",
       "    <tr>\n",
       "      <th>0</th>\n",
       "      <td>FFB692EC</td>\n",
       "      <td>kamigata_to_boots</td>\n",
       "      <td>the_mass_missile</td>\n",
       "      <td>rock</td>\n",
       "      <td>shelbyville</td>\n",
       "      <td>20:28:33</td>\n",
       "      <td>wednesday</td>\n",
       "    </tr>\n",
       "    <tr>\n",
       "      <th>1</th>\n",
       "      <td>55204538</td>\n",
       "      <td>delayed_because_of_accident</td>\n",
       "      <td>andreas_rönnberg</td>\n",
       "      <td>rock</td>\n",
       "      <td>springfield</td>\n",
       "      <td>14:07:09</td>\n",
       "      <td>friday</td>\n",
       "    </tr>\n",
       "    <tr>\n",
       "      <th>2</th>\n",
       "      <td>20EC38</td>\n",
       "      <td>funiculì_funiculà</td>\n",
       "      <td>mario_lanza</td>\n",
       "      <td>pop</td>\n",
       "      <td>shelbyville</td>\n",
       "      <td>20:58:07</td>\n",
       "      <td>wednesday</td>\n",
       "    </tr>\n",
       "    <tr>\n",
       "      <th>3</th>\n",
       "      <td>A3DD03C9</td>\n",
       "      <td>dragons_in_the_sunset</td>\n",
       "      <td>fire_ice</td>\n",
       "      <td>folk</td>\n",
       "      <td>shelbyville</td>\n",
       "      <td>08:37:09</td>\n",
       "      <td>monday</td>\n",
       "    </tr>\n",
       "    <tr>\n",
       "      <th>4</th>\n",
       "      <td>E2DC1FAE</td>\n",
       "      <td>soul_people</td>\n",
       "      <td>space_echo</td>\n",
       "      <td>dance</td>\n",
       "      <td>springfield</td>\n",
       "      <td>08:34:34</td>\n",
       "      <td>monday</td>\n",
       "    </tr>\n",
       "    <tr>\n",
       "      <th>...</th>\n",
       "      <td>...</td>\n",
       "      <td>...</td>\n",
       "      <td>...</td>\n",
       "      <td>...</td>\n",
       "      <td>...</td>\n",
       "      <td>...</td>\n",
       "      <td>...</td>\n",
       "    </tr>\n",
       "    <tr>\n",
       "      <th>61248</th>\n",
       "      <td>729CBB09</td>\n",
       "      <td>my_name</td>\n",
       "      <td>mclean</td>\n",
       "      <td>rnb</td>\n",
       "      <td>springfield</td>\n",
       "      <td>13:32:28</td>\n",
       "      <td>wednesday</td>\n",
       "    </tr>\n",
       "    <tr>\n",
       "      <th>61249</th>\n",
       "      <td>D08D4A55</td>\n",
       "      <td>maybe_one_day_feat_black_spade_</td>\n",
       "      <td>blu_exile</td>\n",
       "      <td>hip</td>\n",
       "      <td>shelbyville</td>\n",
       "      <td>10:00:00</td>\n",
       "      <td>monday</td>\n",
       "    </tr>\n",
       "    <tr>\n",
       "      <th>61250</th>\n",
       "      <td>C5E3A0D5</td>\n",
       "      <td>jalopiina</td>\n",
       "      <td>unknown</td>\n",
       "      <td>industrial</td>\n",
       "      <td>springfield</td>\n",
       "      <td>20:09:26</td>\n",
       "      <td>friday</td>\n",
       "    </tr>\n",
       "    <tr>\n",
       "      <th>61251</th>\n",
       "      <td>321D0506</td>\n",
       "      <td>freight_train</td>\n",
       "      <td>chas_mcdevitt</td>\n",
       "      <td>rock</td>\n",
       "      <td>springfield</td>\n",
       "      <td>21:43:59</td>\n",
       "      <td>friday</td>\n",
       "    </tr>\n",
       "    <tr>\n",
       "      <th>61252</th>\n",
       "      <td>3A64EF84</td>\n",
       "      <td>tell_me_sweet_little_lies</td>\n",
       "      <td>monica_lopez</td>\n",
       "      <td>country</td>\n",
       "      <td>springfield</td>\n",
       "      <td>21:59:46</td>\n",
       "      <td>friday</td>\n",
       "    </tr>\n",
       "  </tbody>\n",
       "</table>\n",
       "<p>59991 rows × 7 columns</p>\n",
       "</div>"
      ],
      "text/plain": [
       "         userid                            track            artist       genre         city      time        day\n",
       "0      FFB692EC                kamigata_to_boots  the_mass_missile        rock  shelbyville  20:28:33  wednesday\n",
       "1      55204538      delayed_because_of_accident  andreas_rönnberg        rock  springfield  14:07:09     friday\n",
       "2        20EC38                funiculì_funiculà       mario_lanza         pop  shelbyville  20:58:07  wednesday\n",
       "3      A3DD03C9            dragons_in_the_sunset          fire_ice        folk  shelbyville  08:37:09     monday\n",
       "4      E2DC1FAE                      soul_people        space_echo       dance  springfield  08:34:34     monday\n",
       "...         ...                              ...               ...         ...          ...       ...        ...\n",
       "61248  729CBB09                          my_name            mclean         rnb  springfield  13:32:28  wednesday\n",
       "61249  D08D4A55  maybe_one_day_feat_black_spade_         blu_exile         hip  shelbyville  10:00:00     monday\n",
       "61250  C5E3A0D5                        jalopiina           unknown  industrial  springfield  20:09:26     friday\n",
       "61251  321D0506                    freight_train     chas_mcdevitt        rock  springfield  21:43:59     friday\n",
       "61252  3A64EF84        tell_me_sweet_little_lies      monica_lopez     country  springfield  21:59:46     friday\n",
       "\n",
       "[59991 rows x 7 columns]"
      ]
     },
     "execution_count": 18,
     "metadata": {},
     "output_type": "execute_result"
    }
   ],
   "source": [
    "# Handling implicit duplicates for hop: triphop\n",
    "artist_triphop = df_music.loc[(df_music['genre'] == 'triphop'), 'artist'].unique()\n",
    "\n",
    "def trip_hop_genre(row):\n",
    "    if row['genre'] == 'hop':\n",
    "        if (row['artist'] in artist_triphop):\n",
    "            return 'triphop'\n",
    "        else:\n",
    "            return 'hop'\n",
    "    else:\n",
    "        return row['genre']\n",
    "\n",
    "df_music['genre'] = df_music.apply(trip_hop_genre, axis=1)\n",
    "\n",
    "df_music"
   ]
  },
  {
   "cell_type": "code",
   "execution_count": 19,
   "id": "060d9a8d",
   "metadata": {},
   "outputs": [
    {
     "data": {
      "application/vnd.microsoft.datawrangler.viewer.v0+json": {
       "columns": [
        {
         "name": "index",
         "rawType": "int64",
         "type": "integer"
        },
        {
         "name": "userid",
         "rawType": "object",
         "type": "string"
        },
        {
         "name": "track",
         "rawType": "object",
         "type": "string"
        },
        {
         "name": "artist",
         "rawType": "object",
         "type": "string"
        },
        {
         "name": "genre",
         "rawType": "object",
         "type": "string"
        },
        {
         "name": "city",
         "rawType": "object",
         "type": "string"
        },
        {
         "name": "time",
         "rawType": "object",
         "type": "string"
        },
        {
         "name": "day",
         "rawType": "object",
         "type": "string"
        }
       ],
       "ref": "56a3175b-030c-43a7-8109-37c95b945025",
       "rows": [
        [
         "0",
         "FFB692EC",
         "kamigata_to_boots",
         "the_mass_missile",
         "rock",
         "shelbyville",
         "20:28:33",
         "wednesday"
        ],
        [
         "1",
         "55204538",
         "delayed_because_of_accident",
         "andreas_rönnberg",
         "rock",
         "springfield",
         "14:07:09",
         "friday"
        ],
        [
         "2",
         "20EC38",
         "funiculì_funiculà",
         "mario_lanza",
         "pop",
         "shelbyville",
         "20:58:07",
         "wednesday"
        ],
        [
         "3",
         "A3DD03C9",
         "dragons_in_the_sunset",
         "fire_ice",
         "folk",
         "shelbyville",
         "08:37:09",
         "monday"
        ],
        [
         "4",
         "E2DC1FAE",
         "soul_people",
         "space_echo",
         "dance",
         "springfield",
         "08:34:34",
         "monday"
        ],
        [
         "5",
         "842029A1",
         "chains",
         "obladaet",
         "rusrap",
         "shelbyville",
         "13:09:41",
         "friday"
        ],
        [
         "6",
         "4CB90AA5",
         "true",
         "roman_messer",
         "dance",
         "springfield",
         "13:00:07",
         "wednesday"
        ],
        [
         "7",
         "F03E1C1F",
         "feeling_this_way",
         "polina_griffith",
         "dance",
         "springfield",
         "20:47:49",
         "wednesday"
        ],
        [
         "8",
         "8FA1D3BE",
         "l_estate",
         "julia_dalia",
         "ruspop",
         "springfield",
         "09:17:40",
         "friday"
        ],
        [
         "9",
         "E772D5C0",
         "pessimist",
         "unknown",
         "dance",
         "shelbyville",
         "21:20:49",
         "wednesday"
        ],
        [
         "10",
         "BC5A3A29",
         "gool_la_mita",
         "shireen_abdul_wahab",
         "world",
         "springfield",
         "14:08:42",
         "monday"
        ],
        [
         "11",
         "8B5192C0",
         "is_there_anybody_out_there_panoramic_paralysis_mix",
         "pink_floyd_floydhead",
         "electronic",
         "springfield",
         "13:47:49",
         "monday"
        ],
        [
         "12",
         "FF3FD2BD",
         "truth",
         "bamboo",
         "pop",
         "springfield",
         "09:19:49",
         "monday"
        ],
        [
         "13",
         "CC782B0F",
         "after_school_special",
         "detroit_grand_pubahs",
         "dance",
         "springfield",
         "20:04:12",
         "friday"
        ],
        [
         "14",
         "94EB25C2",
         "make_love_whenever_you_can",
         "arabesque",
         "pop",
         "shelbyville",
         "13:22:08",
         "wednesday"
        ],
        [
         "16",
         "81D05C7D",
         "slaves_of_fear",
         "health",
         "alternative",
         "shelbyville",
         "20:54:48",
         "monday"
        ],
        [
         "17",
         "39DE290E",
         "hallo_hallo",
         "die_klima_hawaiians",
         "folk",
         "shelbyville",
         "14:36:47",
         "monday"
        ],
        [
         "18",
         "58AE138A",
         "pat_a_cake",
         "mother_goose_club",
         "children",
         "shelbyville",
         "20:04:56",
         "monday"
        ],
        [
         "19",
         "772F5B59",
         "sweetback",
         "the_fabulous_three",
         "rnb",
         "springfield",
         "13:56:42",
         "wednesday"
        ],
        [
         "20",
         "201CF2A8",
         "ya_ll_in_trouble",
         "lil_tee_chill_tank_young_buck_brother_mohammed_and_tara",
         "hiphop",
         "springfield",
         "08:46:03",
         "monday"
        ],
        [
         "21",
         "44B8E869",
         "nanovirus",
         "exotype",
         "rock",
         "springfield",
         "21:36:40",
         "monday"
        ],
        [
         "22",
         "B8E29C9C",
         "the_drunken_scotsman",
         "ménage_à_moi",
         "folk",
         "shelbyville",
         "20:20:49",
         "wednesday"
        ],
        [
         "23",
         "A729591B",
         "gavotte",
         "hachidai_nakamura",
         "jazz",
         "springfield",
         "13:56:00",
         "monday"
        ],
        [
         "24",
         "8BA8855",
         "a_universal_weakness",
         "lowercase_noises",
         "postrock",
         "shelbyville",
         "21:17:25",
         "wednesday"
        ],
        [
         "25",
         "A4504035",
         "cradle_in_bethlehem",
         "nat_king_cole",
         "jazz",
         "shelbyville",
         "09:23:01",
         "wednesday"
        ],
        [
         "26",
         "982219FD",
         "we_not_speak_americano",
         "genio_band",
         "pop",
         "shelbyville",
         "20:03:03",
         "monday"
        ],
        [
         "27",
         "9CC6AA46",
         "mucho_corazón",
         "buena_vista_social_club",
         "latin",
         "springfield",
         "14:06:22",
         "monday"
        ],
        [
         "28",
         "D8D698A9",
         "romantici",
         "viola_valentino",
         "pop",
         "springfield",
         "08:23:21",
         "wednesday"
        ],
        [
         "29",
         "5661F63E",
         "purcell_dido_and_aeneas_act_3_see_the_flags_destruction_s_our_delight_the_wit_ches_dance",
         "teresa_shaw",
         "classical",
         "shelbyville",
         "08:33:58",
         "wednesday"
        ],
        [
         "30",
         "EBA5A8B2",
         "päivän_nousu_nostajani",
         "värttina_",
         "world",
         "shelbyville",
         "08:00:31",
         "friday"
        ],
        [
         "31",
         "F6A44469",
         "veritas_universalis",
         "devathorn",
         "metal",
         "shelbyville",
         "20:19:42",
         "friday"
        ],
        [
         "32",
         "84AFC19A",
         "carry_on",
         "young_rising_sons",
         "alternative",
         "shelbyville",
         "20:24:51",
         "monday"
        ],
        [
         "33",
         "809CAFB1",
         "break_me_down",
         "steve_angello",
         "dance",
         "springfield",
         "14:42:31",
         "monday"
        ],
        [
         "34",
         "B416A40F",
         "maybe",
         "maria_michelle",
         "ruspop",
         "springfield",
         "14:49:21",
         "friday"
        ],
        [
         "36",
         "FCDF1C8E",
         "nasebanaru",
         "zen",
         "reggae",
         "springfield",
         "20:19:36",
         "wednesday"
        ],
        [
         "37",
         "C800FA98",
         "body_talk",
         "ratt",
         "rock",
         "springfield",
         "08:45:16",
         "monday"
        ],
        [
         "38",
         "14FBD1E5",
         "solteras",
         "beauty_brain",
         "dance",
         "shelbyville",
         "20:33:11",
         "friday"
        ],
        [
         "39",
         "2CF53316",
         "chicago_new_york",
         "the_aislers_set",
         "alternative",
         "shelbyville",
         "20:29:00",
         "wednesday"
        ],
        [
         "40",
         "77979A66",
         "sci_fi",
         "unknown",
         "rusrap",
         "shelbyville",
         "08:45:43",
         "monday"
        ],
        [
         "41",
         "9202C4F4",
         "good_morning_sunshine",
         "brick",
         "rnb",
         "shelbyville",
         "21:54:19",
         "monday"
        ],
        [
         "42",
         "F9AD83A7",
         "fancy",
         "grey_killer",
         "triphop",
         "springfield",
         "14:53:39",
         "friday"
        ],
        [
         "43",
         "9A22399C",
         "sweet_october",
         "ministers_of_music",
         "dance",
         "springfield",
         "20:32:33",
         "friday"
        ],
        [
         "44",
         "CD0BE030",
         "falling_for_me",
         "benson_taylor",
         "pop",
         "springfield",
         "09:21:00",
         "friday"
        ],
        [
         "45",
         "E6072F55",
         "sos",
         "peter_cetera",
         "pop",
         "springfield",
         "20:10:04",
         "wednesday"
        ],
        [
         "46",
         "825997A5",
         "glorious_feeling",
         "joelistics",
         "hiphop",
         "springfield",
         "21:46:34",
         "friday"
        ],
        [
         "47",
         "A1749681",
         "downfall",
         "the_voss",
         "dance",
         "shelbyville",
         "20:07:58",
         "monday"
        ],
        [
         "48",
         "8D0DCE83",
         "little_bitty_pretty_one",
         "thurston_harris",
         "blues",
         "springfield",
         "09:41:14",
         "friday"
        ],
        [
         "49",
         "2A35001B",
         "can_you_feel_the_love_tonight",
         "disney_peaceful_piano",
         "instrumental",
         "shelbyville",
         "21:51:37",
         "friday"
        ],
        [
         "50",
         "3DBEB447",
         "entrance",
         "sun_electric",
         "dance",
         "springfield",
         "08:36:27",
         "monday"
        ],
        [
         "51",
         "107EBCED",
         "lightbulbs",
         "the_uchpochmack",
         "rusrock",
         "springfield",
         "21:02:57",
         "wednesday"
        ]
       ],
       "shape": {
        "columns": 7,
        "rows": 59991
       }
      },
      "text/html": [
       "<div>\n",
       "<style scoped>\n",
       "    .dataframe tbody tr th:only-of-type {\n",
       "        vertical-align: middle;\n",
       "    }\n",
       "\n",
       "    .dataframe tbody tr th {\n",
       "        vertical-align: top;\n",
       "    }\n",
       "\n",
       "    .dataframe thead th {\n",
       "        text-align: right;\n",
       "    }\n",
       "</style>\n",
       "<table border=\"1\" class=\"dataframe\">\n",
       "  <thead>\n",
       "    <tr style=\"text-align: right;\">\n",
       "      <th></th>\n",
       "      <th>userid</th>\n",
       "      <th>track</th>\n",
       "      <th>artist</th>\n",
       "      <th>genre</th>\n",
       "      <th>city</th>\n",
       "      <th>time</th>\n",
       "      <th>day</th>\n",
       "    </tr>\n",
       "  </thead>\n",
       "  <tbody>\n",
       "    <tr>\n",
       "      <th>0</th>\n",
       "      <td>FFB692EC</td>\n",
       "      <td>kamigata_to_boots</td>\n",
       "      <td>the_mass_missile</td>\n",
       "      <td>rock</td>\n",
       "      <td>shelbyville</td>\n",
       "      <td>20:28:33</td>\n",
       "      <td>wednesday</td>\n",
       "    </tr>\n",
       "    <tr>\n",
       "      <th>1</th>\n",
       "      <td>55204538</td>\n",
       "      <td>delayed_because_of_accident</td>\n",
       "      <td>andreas_rönnberg</td>\n",
       "      <td>rock</td>\n",
       "      <td>springfield</td>\n",
       "      <td>14:07:09</td>\n",
       "      <td>friday</td>\n",
       "    </tr>\n",
       "    <tr>\n",
       "      <th>2</th>\n",
       "      <td>20EC38</td>\n",
       "      <td>funiculì_funiculà</td>\n",
       "      <td>mario_lanza</td>\n",
       "      <td>pop</td>\n",
       "      <td>shelbyville</td>\n",
       "      <td>20:58:07</td>\n",
       "      <td>wednesday</td>\n",
       "    </tr>\n",
       "    <tr>\n",
       "      <th>3</th>\n",
       "      <td>A3DD03C9</td>\n",
       "      <td>dragons_in_the_sunset</td>\n",
       "      <td>fire_ice</td>\n",
       "      <td>folk</td>\n",
       "      <td>shelbyville</td>\n",
       "      <td>08:37:09</td>\n",
       "      <td>monday</td>\n",
       "    </tr>\n",
       "    <tr>\n",
       "      <th>4</th>\n",
       "      <td>E2DC1FAE</td>\n",
       "      <td>soul_people</td>\n",
       "      <td>space_echo</td>\n",
       "      <td>dance</td>\n",
       "      <td>springfield</td>\n",
       "      <td>08:34:34</td>\n",
       "      <td>monday</td>\n",
       "    </tr>\n",
       "    <tr>\n",
       "      <th>...</th>\n",
       "      <td>...</td>\n",
       "      <td>...</td>\n",
       "      <td>...</td>\n",
       "      <td>...</td>\n",
       "      <td>...</td>\n",
       "      <td>...</td>\n",
       "      <td>...</td>\n",
       "    </tr>\n",
       "    <tr>\n",
       "      <th>61248</th>\n",
       "      <td>729CBB09</td>\n",
       "      <td>my_name</td>\n",
       "      <td>mclean</td>\n",
       "      <td>rnb</td>\n",
       "      <td>springfield</td>\n",
       "      <td>13:32:28</td>\n",
       "      <td>wednesday</td>\n",
       "    </tr>\n",
       "    <tr>\n",
       "      <th>61249</th>\n",
       "      <td>D08D4A55</td>\n",
       "      <td>maybe_one_day_feat_black_spade_</td>\n",
       "      <td>blu_exile</td>\n",
       "      <td>hiphop</td>\n",
       "      <td>shelbyville</td>\n",
       "      <td>10:00:00</td>\n",
       "      <td>monday</td>\n",
       "    </tr>\n",
       "    <tr>\n",
       "      <th>61250</th>\n",
       "      <td>C5E3A0D5</td>\n",
       "      <td>jalopiina</td>\n",
       "      <td>unknown</td>\n",
       "      <td>industrial</td>\n",
       "      <td>springfield</td>\n",
       "      <td>20:09:26</td>\n",
       "      <td>friday</td>\n",
       "    </tr>\n",
       "    <tr>\n",
       "      <th>61251</th>\n",
       "      <td>321D0506</td>\n",
       "      <td>freight_train</td>\n",
       "      <td>chas_mcdevitt</td>\n",
       "      <td>rock</td>\n",
       "      <td>springfield</td>\n",
       "      <td>21:43:59</td>\n",
       "      <td>friday</td>\n",
       "    </tr>\n",
       "    <tr>\n",
       "      <th>61252</th>\n",
       "      <td>3A64EF84</td>\n",
       "      <td>tell_me_sweet_little_lies</td>\n",
       "      <td>monica_lopez</td>\n",
       "      <td>country</td>\n",
       "      <td>springfield</td>\n",
       "      <td>21:59:46</td>\n",
       "      <td>friday</td>\n",
       "    </tr>\n",
       "  </tbody>\n",
       "</table>\n",
       "<p>59991 rows × 7 columns</p>\n",
       "</div>"
      ],
      "text/plain": [
       "         userid                            track            artist       genre         city      time        day\n",
       "0      FFB692EC                kamigata_to_boots  the_mass_missile        rock  shelbyville  20:28:33  wednesday\n",
       "1      55204538      delayed_because_of_accident  andreas_rönnberg        rock  springfield  14:07:09     friday\n",
       "2        20EC38                funiculì_funiculà       mario_lanza         pop  shelbyville  20:58:07  wednesday\n",
       "3      A3DD03C9            dragons_in_the_sunset          fire_ice        folk  shelbyville  08:37:09     monday\n",
       "4      E2DC1FAE                      soul_people        space_echo       dance  springfield  08:34:34     monday\n",
       "...         ...                              ...               ...         ...          ...       ...        ...\n",
       "61248  729CBB09                          my_name            mclean         rnb  springfield  13:32:28  wednesday\n",
       "61249  D08D4A55  maybe_one_day_feat_black_spade_         blu_exile      hiphop  shelbyville  10:00:00     monday\n",
       "61250  C5E3A0D5                        jalopiina           unknown  industrial  springfield  20:09:26     friday\n",
       "61251  321D0506                    freight_train     chas_mcdevitt        rock  springfield  21:43:59     friday\n",
       "61252  3A64EF84        tell_me_sweet_little_lies      monica_lopez     country  springfield  21:59:46     friday\n",
       "\n",
       "[59991 rows x 7 columns]"
      ]
     },
     "execution_count": 19,
     "metadata": {},
     "output_type": "execute_result"
    }
   ],
   "source": [
    "# Handling implicit duplicates for hiphop: hip, hop, hip_hop\n",
    "df_music['genre'] = df_music['genre'].replace({'hip': 'hiphop', 'hop': 'hiphop', 'hip_hop': 'hiphop'})\n",
    "df_music"
   ]
  },
  {
   "cell_type": "code",
   "execution_count": 20,
   "id": "3360e2da",
   "metadata": {},
   "outputs": [
    {
     "data": {
      "application/vnd.microsoft.datawrangler.viewer.v0+json": {
       "columns": [
        {
         "name": "index",
         "rawType": "int64",
         "type": "integer"
        },
        {
         "name": "userid",
         "rawType": "object",
         "type": "string"
        },
        {
         "name": "track",
         "rawType": "object",
         "type": "string"
        },
        {
         "name": "artist",
         "rawType": "object",
         "type": "string"
        },
        {
         "name": "genre",
         "rawType": "object",
         "type": "string"
        },
        {
         "name": "city",
         "rawType": "object",
         "type": "string"
        },
        {
         "name": "time",
         "rawType": "object",
         "type": "string"
        },
        {
         "name": "day",
         "rawType": "object",
         "type": "string"
        }
       ],
       "ref": "83d7c7fd-3a16-41f5-91f7-66fd96e08c35",
       "rows": [
        [
         "0",
         "FFB692EC",
         "kamigata_to_boots",
         "the_mass_missile",
         "rock",
         "shelbyville",
         "20:28:33",
         "wednesday"
        ],
        [
         "1",
         "55204538",
         "delayed_because_of_accident",
         "andreas_rönnberg",
         "rock",
         "springfield",
         "14:07:09",
         "friday"
        ],
        [
         "2",
         "20EC38",
         "funiculì_funiculà",
         "mario_lanza",
         "pop",
         "shelbyville",
         "20:58:07",
         "wednesday"
        ],
        [
         "3",
         "A3DD03C9",
         "dragons_in_the_sunset",
         "fire_ice",
         "folk",
         "shelbyville",
         "08:37:09",
         "monday"
        ],
        [
         "4",
         "E2DC1FAE",
         "soul_people",
         "space_echo",
         "dance",
         "springfield",
         "08:34:34",
         "monday"
        ],
        [
         "5",
         "842029A1",
         "chains",
         "obladaet",
         "rusrap",
         "shelbyville",
         "13:09:41",
         "friday"
        ],
        [
         "6",
         "4CB90AA5",
         "true",
         "roman_messer",
         "dance",
         "springfield",
         "13:00:07",
         "wednesday"
        ],
        [
         "7",
         "F03E1C1F",
         "feeling_this_way",
         "polina_griffith",
         "dance",
         "springfield",
         "20:47:49",
         "wednesday"
        ],
        [
         "8",
         "8FA1D3BE",
         "l_estate",
         "julia_dalia",
         "ruspop",
         "springfield",
         "09:17:40",
         "friday"
        ],
        [
         "9",
         "E772D5C0",
         "pessimist",
         "unknown",
         "dance",
         "shelbyville",
         "21:20:49",
         "wednesday"
        ],
        [
         "10",
         "BC5A3A29",
         "gool_la_mita",
         "shireen_abdul_wahab",
         "world",
         "springfield",
         "14:08:42",
         "monday"
        ],
        [
         "11",
         "8B5192C0",
         "is_there_anybody_out_there_panoramic_paralysis_mix",
         "pink_floyd_floydhead",
         "electronic",
         "springfield",
         "13:47:49",
         "monday"
        ],
        [
         "12",
         "FF3FD2BD",
         "truth",
         "bamboo",
         "pop",
         "springfield",
         "09:19:49",
         "monday"
        ],
        [
         "13",
         "CC782B0F",
         "after_school_special",
         "detroit_grand_pubahs",
         "dance",
         "springfield",
         "20:04:12",
         "friday"
        ],
        [
         "14",
         "94EB25C2",
         "make_love_whenever_you_can",
         "arabesque",
         "pop",
         "shelbyville",
         "13:22:08",
         "wednesday"
        ],
        [
         "16",
         "81D05C7D",
         "slaves_of_fear",
         "health",
         "alternative",
         "shelbyville",
         "20:54:48",
         "monday"
        ],
        [
         "17",
         "39DE290E",
         "hallo_hallo",
         "die_klima_hawaiians",
         "folk",
         "shelbyville",
         "14:36:47",
         "monday"
        ],
        [
         "18",
         "58AE138A",
         "pat_a_cake",
         "mother_goose_club",
         "children",
         "shelbyville",
         "20:04:56",
         "monday"
        ],
        [
         "19",
         "772F5B59",
         "sweetback",
         "the_fabulous_three",
         "rnb",
         "springfield",
         "13:56:42",
         "wednesday"
        ],
        [
         "20",
         "201CF2A8",
         "ya_ll_in_trouble",
         "lil_tee_chill_tank_young_buck_brother_mohammed_and_tara",
         "hiphop",
         "springfield",
         "08:46:03",
         "monday"
        ],
        [
         "21",
         "44B8E869",
         "nanovirus",
         "exotype",
         "rock",
         "springfield",
         "21:36:40",
         "monday"
        ],
        [
         "22",
         "B8E29C9C",
         "the_drunken_scotsman",
         "ménage_à_moi",
         "folk",
         "shelbyville",
         "20:20:49",
         "wednesday"
        ],
        [
         "23",
         "A729591B",
         "gavotte",
         "hachidai_nakamura",
         "jazz",
         "springfield",
         "13:56:00",
         "monday"
        ],
        [
         "24",
         "8BA8855",
         "a_universal_weakness",
         "lowercase_noises",
         "postrock",
         "shelbyville",
         "21:17:25",
         "wednesday"
        ],
        [
         "25",
         "A4504035",
         "cradle_in_bethlehem",
         "nat_king_cole",
         "jazz",
         "shelbyville",
         "09:23:01",
         "wednesday"
        ],
        [
         "26",
         "982219FD",
         "we_not_speak_americano",
         "genio_band",
         "pop",
         "shelbyville",
         "20:03:03",
         "monday"
        ],
        [
         "27",
         "9CC6AA46",
         "mucho_corazón",
         "buena_vista_social_club",
         "latin",
         "springfield",
         "14:06:22",
         "monday"
        ],
        [
         "28",
         "D8D698A9",
         "romantici",
         "viola_valentino",
         "pop",
         "springfield",
         "08:23:21",
         "wednesday"
        ],
        [
         "29",
         "5661F63E",
         "purcell_dido_and_aeneas_act_3_see_the_flags_destruction_s_our_delight_the_wit_ches_dance",
         "teresa_shaw",
         "classical",
         "shelbyville",
         "08:33:58",
         "wednesday"
        ],
        [
         "30",
         "EBA5A8B2",
         "päivän_nousu_nostajani",
         "värttina_",
         "world",
         "shelbyville",
         "08:00:31",
         "friday"
        ],
        [
         "31",
         "F6A44469",
         "veritas_universalis",
         "devathorn",
         "metal",
         "shelbyville",
         "20:19:42",
         "friday"
        ],
        [
         "32",
         "84AFC19A",
         "carry_on",
         "young_rising_sons",
         "alternative",
         "shelbyville",
         "20:24:51",
         "monday"
        ],
        [
         "33",
         "809CAFB1",
         "break_me_down",
         "steve_angello",
         "dance",
         "springfield",
         "14:42:31",
         "monday"
        ],
        [
         "34",
         "B416A40F",
         "maybe",
         "maria_michelle",
         "ruspop",
         "springfield",
         "14:49:21",
         "friday"
        ],
        [
         "36",
         "FCDF1C8E",
         "nasebanaru",
         "zen",
         "reggae",
         "springfield",
         "20:19:36",
         "wednesday"
        ],
        [
         "37",
         "C800FA98",
         "body_talk",
         "ratt",
         "rock",
         "springfield",
         "08:45:16",
         "monday"
        ],
        [
         "38",
         "14FBD1E5",
         "solteras",
         "beauty_brain",
         "dance",
         "shelbyville",
         "20:33:11",
         "friday"
        ],
        [
         "39",
         "2CF53316",
         "chicago_new_york",
         "the_aislers_set",
         "alternative",
         "shelbyville",
         "20:29:00",
         "wednesday"
        ],
        [
         "40",
         "77979A66",
         "sci_fi",
         "unknown",
         "rusrap",
         "shelbyville",
         "08:45:43",
         "monday"
        ],
        [
         "41",
         "9202C4F4",
         "good_morning_sunshine",
         "brick",
         "rnb",
         "shelbyville",
         "21:54:19",
         "monday"
        ],
        [
         "42",
         "F9AD83A7",
         "fancy",
         "grey_killer",
         "triphop",
         "springfield",
         "14:53:39",
         "friday"
        ],
        [
         "43",
         "9A22399C",
         "sweet_october",
         "ministers_of_music",
         "dance",
         "springfield",
         "20:32:33",
         "friday"
        ],
        [
         "44",
         "CD0BE030",
         "falling_for_me",
         "benson_taylor",
         "pop",
         "springfield",
         "09:21:00",
         "friday"
        ],
        [
         "45",
         "E6072F55",
         "sos",
         "peter_cetera",
         "pop",
         "springfield",
         "20:10:04",
         "wednesday"
        ],
        [
         "46",
         "825997A5",
         "glorious_feeling",
         "joelistics",
         "hiphop",
         "springfield",
         "21:46:34",
         "friday"
        ],
        [
         "47",
         "A1749681",
         "downfall",
         "the_voss",
         "dance",
         "shelbyville",
         "20:07:58",
         "monday"
        ],
        [
         "48",
         "8D0DCE83",
         "little_bitty_pretty_one",
         "thurston_harris",
         "blues",
         "springfield",
         "09:41:14",
         "friday"
        ],
        [
         "49",
         "2A35001B",
         "can_you_feel_the_love_tonight",
         "disney_peaceful_piano",
         "instrumental",
         "shelbyville",
         "21:51:37",
         "friday"
        ],
        [
         "50",
         "3DBEB447",
         "entrance",
         "sun_electric",
         "dance",
         "springfield",
         "08:36:27",
         "monday"
        ],
        [
         "51",
         "107EBCED",
         "lightbulbs",
         "the_uchpochmack",
         "rusrock",
         "springfield",
         "21:02:57",
         "wednesday"
        ]
       ],
       "shape": {
        "columns": 7,
        "rows": 59991
       }
      },
      "text/html": [
       "<div>\n",
       "<style scoped>\n",
       "    .dataframe tbody tr th:only-of-type {\n",
       "        vertical-align: middle;\n",
       "    }\n",
       "\n",
       "    .dataframe tbody tr th {\n",
       "        vertical-align: top;\n",
       "    }\n",
       "\n",
       "    .dataframe thead th {\n",
       "        text-align: right;\n",
       "    }\n",
       "</style>\n",
       "<table border=\"1\" class=\"dataframe\">\n",
       "  <thead>\n",
       "    <tr style=\"text-align: right;\">\n",
       "      <th></th>\n",
       "      <th>userid</th>\n",
       "      <th>track</th>\n",
       "      <th>artist</th>\n",
       "      <th>genre</th>\n",
       "      <th>city</th>\n",
       "      <th>time</th>\n",
       "      <th>day</th>\n",
       "    </tr>\n",
       "  </thead>\n",
       "  <tbody>\n",
       "    <tr>\n",
       "      <th>0</th>\n",
       "      <td>FFB692EC</td>\n",
       "      <td>kamigata_to_boots</td>\n",
       "      <td>the_mass_missile</td>\n",
       "      <td>rock</td>\n",
       "      <td>shelbyville</td>\n",
       "      <td>20:28:33</td>\n",
       "      <td>wednesday</td>\n",
       "    </tr>\n",
       "    <tr>\n",
       "      <th>1</th>\n",
       "      <td>55204538</td>\n",
       "      <td>delayed_because_of_accident</td>\n",
       "      <td>andreas_rönnberg</td>\n",
       "      <td>rock</td>\n",
       "      <td>springfield</td>\n",
       "      <td>14:07:09</td>\n",
       "      <td>friday</td>\n",
       "    </tr>\n",
       "    <tr>\n",
       "      <th>2</th>\n",
       "      <td>20EC38</td>\n",
       "      <td>funiculì_funiculà</td>\n",
       "      <td>mario_lanza</td>\n",
       "      <td>pop</td>\n",
       "      <td>shelbyville</td>\n",
       "      <td>20:58:07</td>\n",
       "      <td>wednesday</td>\n",
       "    </tr>\n",
       "    <tr>\n",
       "      <th>3</th>\n",
       "      <td>A3DD03C9</td>\n",
       "      <td>dragons_in_the_sunset</td>\n",
       "      <td>fire_ice</td>\n",
       "      <td>folk</td>\n",
       "      <td>shelbyville</td>\n",
       "      <td>08:37:09</td>\n",
       "      <td>monday</td>\n",
       "    </tr>\n",
       "    <tr>\n",
       "      <th>4</th>\n",
       "      <td>E2DC1FAE</td>\n",
       "      <td>soul_people</td>\n",
       "      <td>space_echo</td>\n",
       "      <td>dance</td>\n",
       "      <td>springfield</td>\n",
       "      <td>08:34:34</td>\n",
       "      <td>monday</td>\n",
       "    </tr>\n",
       "    <tr>\n",
       "      <th>...</th>\n",
       "      <td>...</td>\n",
       "      <td>...</td>\n",
       "      <td>...</td>\n",
       "      <td>...</td>\n",
       "      <td>...</td>\n",
       "      <td>...</td>\n",
       "      <td>...</td>\n",
       "    </tr>\n",
       "    <tr>\n",
       "      <th>61248</th>\n",
       "      <td>729CBB09</td>\n",
       "      <td>my_name</td>\n",
       "      <td>mclean</td>\n",
       "      <td>rnb</td>\n",
       "      <td>springfield</td>\n",
       "      <td>13:32:28</td>\n",
       "      <td>wednesday</td>\n",
       "    </tr>\n",
       "    <tr>\n",
       "      <th>61249</th>\n",
       "      <td>D08D4A55</td>\n",
       "      <td>maybe_one_day_feat_black_spade_</td>\n",
       "      <td>blu_exile</td>\n",
       "      <td>hiphop</td>\n",
       "      <td>shelbyville</td>\n",
       "      <td>10:00:00</td>\n",
       "      <td>monday</td>\n",
       "    </tr>\n",
       "    <tr>\n",
       "      <th>61250</th>\n",
       "      <td>C5E3A0D5</td>\n",
       "      <td>jalopiina</td>\n",
       "      <td>unknown</td>\n",
       "      <td>industrial</td>\n",
       "      <td>springfield</td>\n",
       "      <td>20:09:26</td>\n",
       "      <td>friday</td>\n",
       "    </tr>\n",
       "    <tr>\n",
       "      <th>61251</th>\n",
       "      <td>321D0506</td>\n",
       "      <td>freight_train</td>\n",
       "      <td>chas_mcdevitt</td>\n",
       "      <td>rock</td>\n",
       "      <td>springfield</td>\n",
       "      <td>21:43:59</td>\n",
       "      <td>friday</td>\n",
       "    </tr>\n",
       "    <tr>\n",
       "      <th>61252</th>\n",
       "      <td>3A64EF84</td>\n",
       "      <td>tell_me_sweet_little_lies</td>\n",
       "      <td>monica_lopez</td>\n",
       "      <td>country</td>\n",
       "      <td>springfield</td>\n",
       "      <td>21:59:46</td>\n",
       "      <td>friday</td>\n",
       "    </tr>\n",
       "  </tbody>\n",
       "</table>\n",
       "<p>59991 rows × 7 columns</p>\n",
       "</div>"
      ],
      "text/plain": [
       "         userid                            track            artist       genre         city      time        day\n",
       "0      FFB692EC                kamigata_to_boots  the_mass_missile        rock  shelbyville  20:28:33  wednesday\n",
       "1      55204538      delayed_because_of_accident  andreas_rönnberg        rock  springfield  14:07:09     friday\n",
       "2        20EC38                funiculì_funiculà       mario_lanza         pop  shelbyville  20:58:07  wednesday\n",
       "3      A3DD03C9            dragons_in_the_sunset          fire_ice        folk  shelbyville  08:37:09     monday\n",
       "4      E2DC1FAE                      soul_people        space_echo       dance  springfield  08:34:34     monday\n",
       "...         ...                              ...               ...         ...          ...       ...        ...\n",
       "61248  729CBB09                          my_name            mclean         rnb  springfield  13:32:28  wednesday\n",
       "61249  D08D4A55  maybe_one_day_feat_black_spade_         blu_exile      hiphop  shelbyville  10:00:00     monday\n",
       "61250  C5E3A0D5                        jalopiina           unknown  industrial  springfield  20:09:26     friday\n",
       "61251  321D0506                    freight_train     chas_mcdevitt        rock  springfield  21:43:59     friday\n",
       "61252  3A64EF84        tell_me_sweet_little_lies      monica_lopez     country  springfield  21:59:46     friday\n",
       "\n",
       "[59991 rows x 7 columns]"
      ]
     },
     "execution_count": 20,
     "metadata": {},
     "output_type": "execute_result"
    }
   ],
   "source": [
    "# Handling implicit duplicates for nu: nujazz, numetal\n",
    "artist_nujazz = df_music.loc[(df_music['genre'] == 'nujazz'), 'artist'].unique()\n",
    "artist_numetal = df_music.loc[(df_music['genre'] == 'numetal'), 'artist'].unique()\n",
    "artist_disco = df_music.loc[(df_music['genre'] == 'disco'), 'artist'].unique()\n",
    "artist_funk = df_music.loc[(df_music['genre'] == 'funk'), 'artist'].unique()\n",
    "\n",
    "def nu_genre(row):\n",
    "    if row['genre'] == 'nu':\n",
    "        if (row['artist'] in artist_disco):\n",
    "            return 'nudisco'\n",
    "        elif (row['artist'] in artist_funk):\n",
    "            return 'nufunk'\n",
    "        elif (row['artist'] in artist_numetal):\n",
    "            return 'numetal'\n",
    "        elif (row['artist'] in artist_nujazz):\n",
    "            return 'nujazz'\n",
    "        else:\n",
    "            return 'nu'\n",
    "    else:\n",
    "        return row['genre']\n",
    "\n",
    "df_music['genre'] = df_music.apply(nu_genre, axis=1)\n",
    "\n",
    "df_music"
   ]
  },
  {
   "cell_type": "code",
   "execution_count": 21,
   "id": "4a1f30de",
   "metadata": {},
   "outputs": [
    {
     "data": {
      "application/vnd.microsoft.datawrangler.viewer.v0+json": {
       "columns": [
        {
         "name": "index",
         "rawType": "int64",
         "type": "integer"
        },
        {
         "name": "userid",
         "rawType": "object",
         "type": "string"
        },
        {
         "name": "track",
         "rawType": "object",
         "type": "string"
        },
        {
         "name": "artist",
         "rawType": "object",
         "type": "string"
        },
        {
         "name": "genre",
         "rawType": "object",
         "type": "string"
        },
        {
         "name": "city",
         "rawType": "object",
         "type": "string"
        },
        {
         "name": "time",
         "rawType": "object",
         "type": "string"
        },
        {
         "name": "day",
         "rawType": "object",
         "type": "string"
        }
       ],
       "ref": "8eee1999-eb4b-4b21-992f-8a323e04274d",
       "rows": [
        [
         "0",
         "FFB692EC",
         "kamigata_to_boots",
         "the_mass_missile",
         "rock",
         "shelbyville",
         "20:28:33",
         "wednesday"
        ],
        [
         "1",
         "55204538",
         "delayed_because_of_accident",
         "andreas_rönnberg",
         "rock",
         "springfield",
         "14:07:09",
         "friday"
        ],
        [
         "2",
         "20EC38",
         "funiculì_funiculà",
         "mario_lanza",
         "pop",
         "shelbyville",
         "20:58:07",
         "wednesday"
        ],
        [
         "3",
         "A3DD03C9",
         "dragons_in_the_sunset",
         "fire_ice",
         "folk",
         "shelbyville",
         "08:37:09",
         "monday"
        ],
        [
         "4",
         "E2DC1FAE",
         "soul_people",
         "space_echo",
         "dance",
         "springfield",
         "08:34:34",
         "monday"
        ],
        [
         "5",
         "842029A1",
         "chains",
         "obladaet",
         "rusrap",
         "shelbyville",
         "13:09:41",
         "friday"
        ],
        [
         "6",
         "4CB90AA5",
         "true",
         "roman_messer",
         "dance",
         "springfield",
         "13:00:07",
         "wednesday"
        ],
        [
         "7",
         "F03E1C1F",
         "feeling_this_way",
         "polina_griffith",
         "dance",
         "springfield",
         "20:47:49",
         "wednesday"
        ],
        [
         "8",
         "8FA1D3BE",
         "l_estate",
         "julia_dalia",
         "ruspop",
         "springfield",
         "09:17:40",
         "friday"
        ],
        [
         "9",
         "E772D5C0",
         "pessimist",
         "unknown",
         "dance",
         "shelbyville",
         "21:20:49",
         "wednesday"
        ],
        [
         "10",
         "BC5A3A29",
         "gool_la_mita",
         "shireen_abdul_wahab",
         "world",
         "springfield",
         "14:08:42",
         "monday"
        ],
        [
         "11",
         "8B5192C0",
         "is_there_anybody_out_there_panoramic_paralysis_mix",
         "pink_floyd_floydhead",
         "electronic",
         "springfield",
         "13:47:49",
         "monday"
        ],
        [
         "12",
         "FF3FD2BD",
         "truth",
         "bamboo",
         "pop",
         "springfield",
         "09:19:49",
         "monday"
        ],
        [
         "13",
         "CC782B0F",
         "after_school_special",
         "detroit_grand_pubahs",
         "dance",
         "springfield",
         "20:04:12",
         "friday"
        ],
        [
         "14",
         "94EB25C2",
         "make_love_whenever_you_can",
         "arabesque",
         "pop",
         "shelbyville",
         "13:22:08",
         "wednesday"
        ],
        [
         "16",
         "81D05C7D",
         "slaves_of_fear",
         "health",
         "alternative",
         "shelbyville",
         "20:54:48",
         "monday"
        ],
        [
         "17",
         "39DE290E",
         "hallo_hallo",
         "die_klima_hawaiians",
         "folk",
         "shelbyville",
         "14:36:47",
         "monday"
        ],
        [
         "18",
         "58AE138A",
         "pat_a_cake",
         "mother_goose_club",
         "children",
         "shelbyville",
         "20:04:56",
         "monday"
        ],
        [
         "19",
         "772F5B59",
         "sweetback",
         "the_fabulous_three",
         "rnb",
         "springfield",
         "13:56:42",
         "wednesday"
        ],
        [
         "20",
         "201CF2A8",
         "ya_ll_in_trouble",
         "lil_tee_chill_tank_young_buck_brother_mohammed_and_tara",
         "hiphop",
         "springfield",
         "08:46:03",
         "monday"
        ],
        [
         "21",
         "44B8E869",
         "nanovirus",
         "exotype",
         "rock",
         "springfield",
         "21:36:40",
         "monday"
        ],
        [
         "22",
         "B8E29C9C",
         "the_drunken_scotsman",
         "ménage_à_moi",
         "folk",
         "shelbyville",
         "20:20:49",
         "wednesday"
        ],
        [
         "23",
         "A729591B",
         "gavotte",
         "hachidai_nakamura",
         "jazz",
         "springfield",
         "13:56:00",
         "monday"
        ],
        [
         "24",
         "8BA8855",
         "a_universal_weakness",
         "lowercase_noises",
         "postrock",
         "shelbyville",
         "21:17:25",
         "wednesday"
        ],
        [
         "25",
         "A4504035",
         "cradle_in_bethlehem",
         "nat_king_cole",
         "jazz",
         "shelbyville",
         "09:23:01",
         "wednesday"
        ],
        [
         "26",
         "982219FD",
         "we_not_speak_americano",
         "genio_band",
         "pop",
         "shelbyville",
         "20:03:03",
         "monday"
        ],
        [
         "27",
         "9CC6AA46",
         "mucho_corazón",
         "buena_vista_social_club",
         "latin",
         "springfield",
         "14:06:22",
         "monday"
        ],
        [
         "28",
         "D8D698A9",
         "romantici",
         "viola_valentino",
         "pop",
         "springfield",
         "08:23:21",
         "wednesday"
        ],
        [
         "29",
         "5661F63E",
         "purcell_dido_and_aeneas_act_3_see_the_flags_destruction_s_our_delight_the_wit_ches_dance",
         "teresa_shaw",
         "classical",
         "shelbyville",
         "08:33:58",
         "wednesday"
        ],
        [
         "30",
         "EBA5A8B2",
         "päivän_nousu_nostajani",
         "värttina_",
         "world",
         "shelbyville",
         "08:00:31",
         "friday"
        ],
        [
         "31",
         "F6A44469",
         "veritas_universalis",
         "devathorn",
         "metal",
         "shelbyville",
         "20:19:42",
         "friday"
        ],
        [
         "32",
         "84AFC19A",
         "carry_on",
         "young_rising_sons",
         "alternative",
         "shelbyville",
         "20:24:51",
         "monday"
        ],
        [
         "33",
         "809CAFB1",
         "break_me_down",
         "steve_angello",
         "dance",
         "springfield",
         "14:42:31",
         "monday"
        ],
        [
         "34",
         "B416A40F",
         "maybe",
         "maria_michelle",
         "ruspop",
         "springfield",
         "14:49:21",
         "friday"
        ],
        [
         "36",
         "FCDF1C8E",
         "nasebanaru",
         "zen",
         "reggae",
         "springfield",
         "20:19:36",
         "wednesday"
        ],
        [
         "37",
         "C800FA98",
         "body_talk",
         "ratt",
         "rock",
         "springfield",
         "08:45:16",
         "monday"
        ],
        [
         "38",
         "14FBD1E5",
         "solteras",
         "beauty_brain",
         "dance",
         "shelbyville",
         "20:33:11",
         "friday"
        ],
        [
         "39",
         "2CF53316",
         "chicago_new_york",
         "the_aislers_set",
         "alternative",
         "shelbyville",
         "20:29:00",
         "wednesday"
        ],
        [
         "40",
         "77979A66",
         "sci_fi",
         "unknown",
         "rusrap",
         "shelbyville",
         "08:45:43",
         "monday"
        ],
        [
         "41",
         "9202C4F4",
         "good_morning_sunshine",
         "brick",
         "rnb",
         "shelbyville",
         "21:54:19",
         "monday"
        ],
        [
         "42",
         "F9AD83A7",
         "fancy",
         "grey_killer",
         "triphop",
         "springfield",
         "14:53:39",
         "friday"
        ],
        [
         "43",
         "9A22399C",
         "sweet_october",
         "ministers_of_music",
         "dance",
         "springfield",
         "20:32:33",
         "friday"
        ],
        [
         "44",
         "CD0BE030",
         "falling_for_me",
         "benson_taylor",
         "pop",
         "springfield",
         "09:21:00",
         "friday"
        ],
        [
         "45",
         "E6072F55",
         "sos",
         "peter_cetera",
         "pop",
         "springfield",
         "20:10:04",
         "wednesday"
        ],
        [
         "46",
         "825997A5",
         "glorious_feeling",
         "joelistics",
         "hiphop",
         "springfield",
         "21:46:34",
         "friday"
        ],
        [
         "47",
         "A1749681",
         "downfall",
         "the_voss",
         "dance",
         "shelbyville",
         "20:07:58",
         "monday"
        ],
        [
         "48",
         "8D0DCE83",
         "little_bitty_pretty_one",
         "thurston_harris",
         "blues",
         "springfield",
         "09:41:14",
         "friday"
        ],
        [
         "49",
         "2A35001B",
         "can_you_feel_the_love_tonight",
         "disney_peaceful_piano",
         "instrumental",
         "shelbyville",
         "21:51:37",
         "friday"
        ],
        [
         "50",
         "3DBEB447",
         "entrance",
         "sun_electric",
         "dance",
         "springfield",
         "08:36:27",
         "monday"
        ],
        [
         "51",
         "107EBCED",
         "lightbulbs",
         "the_uchpochmack",
         "rusrock",
         "springfield",
         "21:02:57",
         "wednesday"
        ]
       ],
       "shape": {
        "columns": 7,
        "rows": 59991
       }
      },
      "text/html": [
       "<div>\n",
       "<style scoped>\n",
       "    .dataframe tbody tr th:only-of-type {\n",
       "        vertical-align: middle;\n",
       "    }\n",
       "\n",
       "    .dataframe tbody tr th {\n",
       "        vertical-align: top;\n",
       "    }\n",
       "\n",
       "    .dataframe thead th {\n",
       "        text-align: right;\n",
       "    }\n",
       "</style>\n",
       "<table border=\"1\" class=\"dataframe\">\n",
       "  <thead>\n",
       "    <tr style=\"text-align: right;\">\n",
       "      <th></th>\n",
       "      <th>userid</th>\n",
       "      <th>track</th>\n",
       "      <th>artist</th>\n",
       "      <th>genre</th>\n",
       "      <th>city</th>\n",
       "      <th>time</th>\n",
       "      <th>day</th>\n",
       "    </tr>\n",
       "  </thead>\n",
       "  <tbody>\n",
       "    <tr>\n",
       "      <th>0</th>\n",
       "      <td>FFB692EC</td>\n",
       "      <td>kamigata_to_boots</td>\n",
       "      <td>the_mass_missile</td>\n",
       "      <td>rock</td>\n",
       "      <td>shelbyville</td>\n",
       "      <td>20:28:33</td>\n",
       "      <td>wednesday</td>\n",
       "    </tr>\n",
       "    <tr>\n",
       "      <th>1</th>\n",
       "      <td>55204538</td>\n",
       "      <td>delayed_because_of_accident</td>\n",
       "      <td>andreas_rönnberg</td>\n",
       "      <td>rock</td>\n",
       "      <td>springfield</td>\n",
       "      <td>14:07:09</td>\n",
       "      <td>friday</td>\n",
       "    </tr>\n",
       "    <tr>\n",
       "      <th>2</th>\n",
       "      <td>20EC38</td>\n",
       "      <td>funiculì_funiculà</td>\n",
       "      <td>mario_lanza</td>\n",
       "      <td>pop</td>\n",
       "      <td>shelbyville</td>\n",
       "      <td>20:58:07</td>\n",
       "      <td>wednesday</td>\n",
       "    </tr>\n",
       "    <tr>\n",
       "      <th>3</th>\n",
       "      <td>A3DD03C9</td>\n",
       "      <td>dragons_in_the_sunset</td>\n",
       "      <td>fire_ice</td>\n",
       "      <td>folk</td>\n",
       "      <td>shelbyville</td>\n",
       "      <td>08:37:09</td>\n",
       "      <td>monday</td>\n",
       "    </tr>\n",
       "    <tr>\n",
       "      <th>4</th>\n",
       "      <td>E2DC1FAE</td>\n",
       "      <td>soul_people</td>\n",
       "      <td>space_echo</td>\n",
       "      <td>dance</td>\n",
       "      <td>springfield</td>\n",
       "      <td>08:34:34</td>\n",
       "      <td>monday</td>\n",
       "    </tr>\n",
       "    <tr>\n",
       "      <th>...</th>\n",
       "      <td>...</td>\n",
       "      <td>...</td>\n",
       "      <td>...</td>\n",
       "      <td>...</td>\n",
       "      <td>...</td>\n",
       "      <td>...</td>\n",
       "      <td>...</td>\n",
       "    </tr>\n",
       "    <tr>\n",
       "      <th>61248</th>\n",
       "      <td>729CBB09</td>\n",
       "      <td>my_name</td>\n",
       "      <td>mclean</td>\n",
       "      <td>rnb</td>\n",
       "      <td>springfield</td>\n",
       "      <td>13:32:28</td>\n",
       "      <td>wednesday</td>\n",
       "    </tr>\n",
       "    <tr>\n",
       "      <th>61249</th>\n",
       "      <td>D08D4A55</td>\n",
       "      <td>maybe_one_day_feat_black_spade_</td>\n",
       "      <td>blu_exile</td>\n",
       "      <td>hiphop</td>\n",
       "      <td>shelbyville</td>\n",
       "      <td>10:00:00</td>\n",
       "      <td>monday</td>\n",
       "    </tr>\n",
       "    <tr>\n",
       "      <th>61250</th>\n",
       "      <td>C5E3A0D5</td>\n",
       "      <td>jalopiina</td>\n",
       "      <td>unknown</td>\n",
       "      <td>industrial</td>\n",
       "      <td>springfield</td>\n",
       "      <td>20:09:26</td>\n",
       "      <td>friday</td>\n",
       "    </tr>\n",
       "    <tr>\n",
       "      <th>61251</th>\n",
       "      <td>321D0506</td>\n",
       "      <td>freight_train</td>\n",
       "      <td>chas_mcdevitt</td>\n",
       "      <td>rock</td>\n",
       "      <td>springfield</td>\n",
       "      <td>21:43:59</td>\n",
       "      <td>friday</td>\n",
       "    </tr>\n",
       "    <tr>\n",
       "      <th>61252</th>\n",
       "      <td>3A64EF84</td>\n",
       "      <td>tell_me_sweet_little_lies</td>\n",
       "      <td>monica_lopez</td>\n",
       "      <td>country</td>\n",
       "      <td>springfield</td>\n",
       "      <td>21:59:46</td>\n",
       "      <td>friday</td>\n",
       "    </tr>\n",
       "  </tbody>\n",
       "</table>\n",
       "<p>59991 rows × 7 columns</p>\n",
       "</div>"
      ],
      "text/plain": [
       "         userid                            track            artist       genre         city      time        day\n",
       "0      FFB692EC                kamigata_to_boots  the_mass_missile        rock  shelbyville  20:28:33  wednesday\n",
       "1      55204538      delayed_because_of_accident  andreas_rönnberg        rock  springfield  14:07:09     friday\n",
       "2        20EC38                funiculì_funiculà       mario_lanza         pop  shelbyville  20:58:07  wednesday\n",
       "3      A3DD03C9            dragons_in_the_sunset          fire_ice        folk  shelbyville  08:37:09     monday\n",
       "4      E2DC1FAE                      soul_people        space_echo       dance  springfield  08:34:34     monday\n",
       "...         ...                              ...               ...         ...          ...       ...        ...\n",
       "61248  729CBB09                          my_name            mclean         rnb  springfield  13:32:28  wednesday\n",
       "61249  D08D4A55  maybe_one_day_feat_black_spade_         blu_exile      hiphop  shelbyville  10:00:00     monday\n",
       "61250  C5E3A0D5                        jalopiina           unknown  industrial  springfield  20:09:26     friday\n",
       "61251  321D0506                    freight_train     chas_mcdevitt        rock  springfield  21:43:59     friday\n",
       "61252  3A64EF84        tell_me_sweet_little_lies      monica_lopez     country  springfield  21:59:46     friday\n",
       "\n",
       "[59991 rows x 7 columns]"
      ]
     },
     "execution_count": 21,
     "metadata": {},
     "output_type": "execute_result"
    }
   ],
   "source": [
    "# Handling implicit duplicates for tango: argentinetango\n",
    "df_music.loc[(df_music['genre'] == 'argentinetango'), 'genre'] = 'tango'\n",
    "df_music"
   ]
  },
  {
   "cell_type": "code",
   "execution_count": 22,
   "id": "1797a4f8",
   "metadata": {},
   "outputs": [
    {
     "data": {
      "application/vnd.microsoft.datawrangler.viewer.v0+json": {
       "columns": [
        {
         "name": "index",
         "rawType": "int64",
         "type": "integer"
        },
        {
         "name": "userid",
         "rawType": "object",
         "type": "string"
        },
        {
         "name": "track",
         "rawType": "object",
         "type": "string"
        },
        {
         "name": "artist",
         "rawType": "object",
         "type": "string"
        },
        {
         "name": "genre",
         "rawType": "object",
         "type": "string"
        },
        {
         "name": "city",
         "rawType": "object",
         "type": "string"
        },
        {
         "name": "time",
         "rawType": "object",
         "type": "string"
        },
        {
         "name": "day",
         "rawType": "object",
         "type": "string"
        }
       ],
       "ref": "cd10b99e-22b8-4f9d-9666-4e81fb06d5b7",
       "rows": [
        [
         "0",
         "FFB692EC",
         "kamigata_to_boots",
         "the_mass_missile",
         "rock",
         "shelbyville",
         "20:28:33",
         "wednesday"
        ],
        [
         "1",
         "55204538",
         "delayed_because_of_accident",
         "andreas_rönnberg",
         "rock",
         "springfield",
         "14:07:09",
         "friday"
        ],
        [
         "2",
         "20EC38",
         "funiculì_funiculà",
         "mario_lanza",
         "pop",
         "shelbyville",
         "20:58:07",
         "wednesday"
        ],
        [
         "3",
         "A3DD03C9",
         "dragons_in_the_sunset",
         "fire_ice",
         "folk",
         "shelbyville",
         "08:37:09",
         "monday"
        ],
        [
         "4",
         "E2DC1FAE",
         "soul_people",
         "space_echo",
         "dance",
         "springfield",
         "08:34:34",
         "monday"
        ],
        [
         "5",
         "842029A1",
         "chains",
         "obladaet",
         "rusrap",
         "shelbyville",
         "13:09:41",
         "friday"
        ],
        [
         "6",
         "4CB90AA5",
         "true",
         "roman_messer",
         "dance",
         "springfield",
         "13:00:07",
         "wednesday"
        ],
        [
         "7",
         "F03E1C1F",
         "feeling_this_way",
         "polina_griffith",
         "dance",
         "springfield",
         "20:47:49",
         "wednesday"
        ],
        [
         "8",
         "8FA1D3BE",
         "l_estate",
         "julia_dalia",
         "ruspop",
         "springfield",
         "09:17:40",
         "friday"
        ],
        [
         "9",
         "E772D5C0",
         "pessimist",
         "unknown",
         "dance",
         "shelbyville",
         "21:20:49",
         "wednesday"
        ],
        [
         "10",
         "BC5A3A29",
         "gool_la_mita",
         "shireen_abdul_wahab",
         "world",
         "springfield",
         "14:08:42",
         "monday"
        ],
        [
         "11",
         "8B5192C0",
         "is_there_anybody_out_there_panoramic_paralysis_mix",
         "pink_floyd_floydhead",
         "electronic",
         "springfield",
         "13:47:49",
         "monday"
        ],
        [
         "12",
         "FF3FD2BD",
         "truth",
         "bamboo",
         "pop",
         "springfield",
         "09:19:49",
         "monday"
        ],
        [
         "13",
         "CC782B0F",
         "after_school_special",
         "detroit_grand_pubahs",
         "dance",
         "springfield",
         "20:04:12",
         "friday"
        ],
        [
         "14",
         "94EB25C2",
         "make_love_whenever_you_can",
         "arabesque",
         "pop",
         "shelbyville",
         "13:22:08",
         "wednesday"
        ],
        [
         "16",
         "81D05C7D",
         "slaves_of_fear",
         "health",
         "alternative",
         "shelbyville",
         "20:54:48",
         "monday"
        ],
        [
         "17",
         "39DE290E",
         "hallo_hallo",
         "die_klima_hawaiians",
         "folk",
         "shelbyville",
         "14:36:47",
         "monday"
        ],
        [
         "18",
         "58AE138A",
         "pat_a_cake",
         "mother_goose_club",
         "children",
         "shelbyville",
         "20:04:56",
         "monday"
        ],
        [
         "19",
         "772F5B59",
         "sweetback",
         "the_fabulous_three",
         "rnb",
         "springfield",
         "13:56:42",
         "wednesday"
        ],
        [
         "20",
         "201CF2A8",
         "ya_ll_in_trouble",
         "lil_tee_chill_tank_young_buck_brother_mohammed_and_tara",
         "hiphop",
         "springfield",
         "08:46:03",
         "monday"
        ],
        [
         "21",
         "44B8E869",
         "nanovirus",
         "exotype",
         "rock",
         "springfield",
         "21:36:40",
         "monday"
        ],
        [
         "22",
         "B8E29C9C",
         "the_drunken_scotsman",
         "ménage_à_moi",
         "folk",
         "shelbyville",
         "20:20:49",
         "wednesday"
        ],
        [
         "23",
         "A729591B",
         "gavotte",
         "hachidai_nakamura",
         "jazz",
         "springfield",
         "13:56:00",
         "monday"
        ],
        [
         "24",
         "8BA8855",
         "a_universal_weakness",
         "lowercase_noises",
         "postrock",
         "shelbyville",
         "21:17:25",
         "wednesday"
        ],
        [
         "25",
         "A4504035",
         "cradle_in_bethlehem",
         "nat_king_cole",
         "jazz",
         "shelbyville",
         "09:23:01",
         "wednesday"
        ],
        [
         "26",
         "982219FD",
         "we_not_speak_americano",
         "genio_band",
         "pop",
         "shelbyville",
         "20:03:03",
         "monday"
        ],
        [
         "27",
         "9CC6AA46",
         "mucho_corazón",
         "buena_vista_social_club",
         "latin",
         "springfield",
         "14:06:22",
         "monday"
        ],
        [
         "28",
         "D8D698A9",
         "romantici",
         "viola_valentino",
         "pop",
         "springfield",
         "08:23:21",
         "wednesday"
        ],
        [
         "29",
         "5661F63E",
         "purcell_dido_and_aeneas_act_3_see_the_flags_destruction_s_our_delight_the_wit_ches_dance",
         "teresa_shaw",
         "classical",
         "shelbyville",
         "08:33:58",
         "wednesday"
        ],
        [
         "30",
         "EBA5A8B2",
         "päivän_nousu_nostajani",
         "värttina_",
         "world",
         "shelbyville",
         "08:00:31",
         "friday"
        ],
        [
         "31",
         "F6A44469",
         "veritas_universalis",
         "devathorn",
         "metal",
         "shelbyville",
         "20:19:42",
         "friday"
        ],
        [
         "32",
         "84AFC19A",
         "carry_on",
         "young_rising_sons",
         "alternative",
         "shelbyville",
         "20:24:51",
         "monday"
        ],
        [
         "33",
         "809CAFB1",
         "break_me_down",
         "steve_angello",
         "dance",
         "springfield",
         "14:42:31",
         "monday"
        ],
        [
         "34",
         "B416A40F",
         "maybe",
         "maria_michelle",
         "ruspop",
         "springfield",
         "14:49:21",
         "friday"
        ],
        [
         "36",
         "FCDF1C8E",
         "nasebanaru",
         "zen",
         "reggae",
         "springfield",
         "20:19:36",
         "wednesday"
        ],
        [
         "37",
         "C800FA98",
         "body_talk",
         "ratt",
         "rock",
         "springfield",
         "08:45:16",
         "monday"
        ],
        [
         "38",
         "14FBD1E5",
         "solteras",
         "beauty_brain",
         "dance",
         "shelbyville",
         "20:33:11",
         "friday"
        ],
        [
         "39",
         "2CF53316",
         "chicago_new_york",
         "the_aislers_set",
         "alternative",
         "shelbyville",
         "20:29:00",
         "wednesday"
        ],
        [
         "40",
         "77979A66",
         "sci_fi",
         "unknown",
         "rusrap",
         "shelbyville",
         "08:45:43",
         "monday"
        ],
        [
         "41",
         "9202C4F4",
         "good_morning_sunshine",
         "brick",
         "rnb",
         "shelbyville",
         "21:54:19",
         "monday"
        ],
        [
         "42",
         "F9AD83A7",
         "fancy",
         "grey_killer",
         "triphop",
         "springfield",
         "14:53:39",
         "friday"
        ],
        [
         "43",
         "9A22399C",
         "sweet_october",
         "ministers_of_music",
         "dance",
         "springfield",
         "20:32:33",
         "friday"
        ],
        [
         "44",
         "CD0BE030",
         "falling_for_me",
         "benson_taylor",
         "pop",
         "springfield",
         "09:21:00",
         "friday"
        ],
        [
         "45",
         "E6072F55",
         "sos",
         "peter_cetera",
         "pop",
         "springfield",
         "20:10:04",
         "wednesday"
        ],
        [
         "46",
         "825997A5",
         "glorious_feeling",
         "joelistics",
         "hiphop",
         "springfield",
         "21:46:34",
         "friday"
        ],
        [
         "47",
         "A1749681",
         "downfall",
         "the_voss",
         "dance",
         "shelbyville",
         "20:07:58",
         "monday"
        ],
        [
         "48",
         "8D0DCE83",
         "little_bitty_pretty_one",
         "thurston_harris",
         "blues",
         "springfield",
         "09:41:14",
         "friday"
        ],
        [
         "49",
         "2A35001B",
         "can_you_feel_the_love_tonight",
         "disney_peaceful_piano",
         "instrumental",
         "shelbyville",
         "21:51:37",
         "friday"
        ],
        [
         "50",
         "3DBEB447",
         "entrance",
         "sun_electric",
         "dance",
         "springfield",
         "08:36:27",
         "monday"
        ],
        [
         "51",
         "107EBCED",
         "lightbulbs",
         "the_uchpochmack",
         "rusrock",
         "springfield",
         "21:02:57",
         "wednesday"
        ]
       ],
       "shape": {
        "columns": 7,
        "rows": 59991
       }
      },
      "text/html": [
       "<div>\n",
       "<style scoped>\n",
       "    .dataframe tbody tr th:only-of-type {\n",
       "        vertical-align: middle;\n",
       "    }\n",
       "\n",
       "    .dataframe tbody tr th {\n",
       "        vertical-align: top;\n",
       "    }\n",
       "\n",
       "    .dataframe thead th {\n",
       "        text-align: right;\n",
       "    }\n",
       "</style>\n",
       "<table border=\"1\" class=\"dataframe\">\n",
       "  <thead>\n",
       "    <tr style=\"text-align: right;\">\n",
       "      <th></th>\n",
       "      <th>userid</th>\n",
       "      <th>track</th>\n",
       "      <th>artist</th>\n",
       "      <th>genre</th>\n",
       "      <th>city</th>\n",
       "      <th>time</th>\n",
       "      <th>day</th>\n",
       "    </tr>\n",
       "  </thead>\n",
       "  <tbody>\n",
       "    <tr>\n",
       "      <th>0</th>\n",
       "      <td>FFB692EC</td>\n",
       "      <td>kamigata_to_boots</td>\n",
       "      <td>the_mass_missile</td>\n",
       "      <td>rock</td>\n",
       "      <td>shelbyville</td>\n",
       "      <td>20:28:33</td>\n",
       "      <td>wednesday</td>\n",
       "    </tr>\n",
       "    <tr>\n",
       "      <th>1</th>\n",
       "      <td>55204538</td>\n",
       "      <td>delayed_because_of_accident</td>\n",
       "      <td>andreas_rönnberg</td>\n",
       "      <td>rock</td>\n",
       "      <td>springfield</td>\n",
       "      <td>14:07:09</td>\n",
       "      <td>friday</td>\n",
       "    </tr>\n",
       "    <tr>\n",
       "      <th>2</th>\n",
       "      <td>20EC38</td>\n",
       "      <td>funiculì_funiculà</td>\n",
       "      <td>mario_lanza</td>\n",
       "      <td>pop</td>\n",
       "      <td>shelbyville</td>\n",
       "      <td>20:58:07</td>\n",
       "      <td>wednesday</td>\n",
       "    </tr>\n",
       "    <tr>\n",
       "      <th>3</th>\n",
       "      <td>A3DD03C9</td>\n",
       "      <td>dragons_in_the_sunset</td>\n",
       "      <td>fire_ice</td>\n",
       "      <td>folk</td>\n",
       "      <td>shelbyville</td>\n",
       "      <td>08:37:09</td>\n",
       "      <td>monday</td>\n",
       "    </tr>\n",
       "    <tr>\n",
       "      <th>4</th>\n",
       "      <td>E2DC1FAE</td>\n",
       "      <td>soul_people</td>\n",
       "      <td>space_echo</td>\n",
       "      <td>dance</td>\n",
       "      <td>springfield</td>\n",
       "      <td>08:34:34</td>\n",
       "      <td>monday</td>\n",
       "    </tr>\n",
       "    <tr>\n",
       "      <th>...</th>\n",
       "      <td>...</td>\n",
       "      <td>...</td>\n",
       "      <td>...</td>\n",
       "      <td>...</td>\n",
       "      <td>...</td>\n",
       "      <td>...</td>\n",
       "      <td>...</td>\n",
       "    </tr>\n",
       "    <tr>\n",
       "      <th>61248</th>\n",
       "      <td>729CBB09</td>\n",
       "      <td>my_name</td>\n",
       "      <td>mclean</td>\n",
       "      <td>rnb</td>\n",
       "      <td>springfield</td>\n",
       "      <td>13:32:28</td>\n",
       "      <td>wednesday</td>\n",
       "    </tr>\n",
       "    <tr>\n",
       "      <th>61249</th>\n",
       "      <td>D08D4A55</td>\n",
       "      <td>maybe_one_day_feat_black_spade_</td>\n",
       "      <td>blu_exile</td>\n",
       "      <td>hiphop</td>\n",
       "      <td>shelbyville</td>\n",
       "      <td>10:00:00</td>\n",
       "      <td>monday</td>\n",
       "    </tr>\n",
       "    <tr>\n",
       "      <th>61250</th>\n",
       "      <td>C5E3A0D5</td>\n",
       "      <td>jalopiina</td>\n",
       "      <td>unknown</td>\n",
       "      <td>industrial</td>\n",
       "      <td>springfield</td>\n",
       "      <td>20:09:26</td>\n",
       "      <td>friday</td>\n",
       "    </tr>\n",
       "    <tr>\n",
       "      <th>61251</th>\n",
       "      <td>321D0506</td>\n",
       "      <td>freight_train</td>\n",
       "      <td>chas_mcdevitt</td>\n",
       "      <td>rock</td>\n",
       "      <td>springfield</td>\n",
       "      <td>21:43:59</td>\n",
       "      <td>friday</td>\n",
       "    </tr>\n",
       "    <tr>\n",
       "      <th>61252</th>\n",
       "      <td>3A64EF84</td>\n",
       "      <td>tell_me_sweet_little_lies</td>\n",
       "      <td>monica_lopez</td>\n",
       "      <td>country</td>\n",
       "      <td>springfield</td>\n",
       "      <td>21:59:46</td>\n",
       "      <td>friday</td>\n",
       "    </tr>\n",
       "  </tbody>\n",
       "</table>\n",
       "<p>59991 rows × 7 columns</p>\n",
       "</div>"
      ],
      "text/plain": [
       "         userid                            track            artist       genre         city      time        day\n",
       "0      FFB692EC                kamigata_to_boots  the_mass_missile        rock  shelbyville  20:28:33  wednesday\n",
       "1      55204538      delayed_because_of_accident  andreas_rönnberg        rock  springfield  14:07:09     friday\n",
       "2        20EC38                funiculì_funiculà       mario_lanza         pop  shelbyville  20:58:07  wednesday\n",
       "3      A3DD03C9            dragons_in_the_sunset          fire_ice        folk  shelbyville  08:37:09     monday\n",
       "4      E2DC1FAE                      soul_people        space_echo       dance  springfield  08:34:34     monday\n",
       "...         ...                              ...               ...         ...          ...       ...        ...\n",
       "61248  729CBB09                          my_name            mclean         rnb  springfield  13:32:28  wednesday\n",
       "61249  D08D4A55  maybe_one_day_feat_black_spade_         blu_exile      hiphop  shelbyville  10:00:00     monday\n",
       "61250  C5E3A0D5                        jalopiina           unknown  industrial  springfield  20:09:26     friday\n",
       "61251  321D0506                    freight_train     chas_mcdevitt        rock  springfield  21:43:59     friday\n",
       "61252  3A64EF84        tell_me_sweet_little_lies      monica_lopez     country  springfield  21:59:46     friday\n",
       "\n",
       "[59991 rows x 7 columns]"
      ]
     },
     "execution_count": 22,
     "metadata": {},
     "output_type": "execute_result"
    }
   ],
   "source": [
    "# Handling implicit duplicates for latin: latino\n",
    "df_music.loc[(df_music['genre'] == 'latino'), 'genre'] = 'latin'\n",
    "df_music"
   ]
  },
  {
   "cell_type": "markdown",
   "id": "c4dbfbf2",
   "metadata": {},
   "source": [
    "##### `LSPL`\n",
    "\n",
    "**Note:** \n",
    "\n",
    "Variants of the hip-hop genre (hip, hop, hip-hop), nu genre (nujazz, numetal, nudisco, nufunk), latino genre (latin), argentinetango (tango) were found.\n",
    "\n",
    "__Solution__: A function was created to replace these variants with a single standard value or assigning correct genre.\n",
    "\n",
    "__Impact__: This improved data consistency and allowed for more accurate analysis of music genres.\n"
   ]
  },
  {
   "cell_type": "markdown",
   "id": "404b7e2b",
   "metadata": {},
   "source": [
    "### 3.4 Casting to category data type"
   ]
  },
  {
   "cell_type": "code",
   "execution_count": 23,
   "id": "f9909bf0",
   "metadata": {},
   "outputs": [
    {
     "data": {
      "text/html": [
       "> Amount of unique values for column ['<i>genre</i>']:\n"
      ],
      "text/plain": [
       "<IPython.core.display.HTML object>"
      ]
     },
     "metadata": {},
     "output_type": "display_data"
    },
    {
     "name": "stdout",
     "output_type": "stream",
     "text": [
      "genre\n",
      "pop           8184\n",
      "dance         6334\n",
      "rock          5769\n",
      "electronic    5518\n",
      "hiphop        3020\n",
      "              ... \n",
      "irish            1\n",
      "mandopop         1\n",
      "forró            1\n",
      "dirty            1\n",
      "regional         1\n",
      "Name: count, Length: 264, dtype: int64\n"
     ]
    },
    {
     "data": {
      "text/html": [
       "> Amount of unique values for column ['<i>city</i>']:\n"
      ],
      "text/plain": [
       "<IPython.core.display.HTML object>"
      ]
     },
     "metadata": {},
     "output_type": "display_data"
    },
    {
     "name": "stdout",
     "output_type": "stream",
     "text": [
      "city\n",
      "springfield    41873\n",
      "shelbyville    18118\n",
      "Name: count, dtype: int64\n",
      "\n"
     ]
    },
    {
     "data": {
      "text/html": [
       "> Amount of unique values for column ['<i>day</i>']:\n"
      ],
      "text/plain": [
       "<IPython.core.display.HTML object>"
      ]
     },
     "metadata": {},
     "output_type": "display_data"
    },
    {
     "name": "stdout",
     "output_type": "stream",
     "text": [
      "day\n",
      "friday       21475\n",
      "monday       20799\n",
      "wednesday    17717\n",
      "Name: count, dtype: int64\n"
     ]
    }
   ],
   "source": [
    "# Checking if chosen columns can be imputated to category dtype\n",
    "display(HTML(f\"> Amount of unique values for column ['<i>genre</i>']:\\n\"))\n",
    "print(df_music['genre'].value_counts())\n",
    "display(HTML(f\"> Amount of unique values for column ['<i>city</i>']:\\n\"))\n",
    "print(df_music['city'].value_counts())\n",
    "print()\n",
    "display(HTML(f\"> Amount of unique values for column ['<i>day</i>']:\\n\"))\n",
    "print(df_music['day'].value_counts())"
   ]
  },
  {
   "cell_type": "code",
   "execution_count": 24,
   "id": "c640c91e",
   "metadata": {},
   "outputs": [
    {
     "data": {
      "text/html": [
       "> Data types before imputation:\n"
      ],
      "text/plain": [
       "<IPython.core.display.HTML object>"
      ]
     },
     "metadata": {},
     "output_type": "display_data"
    },
    {
     "name": "stdout",
     "output_type": "stream",
     "text": [
      "genre    object\n",
      "city     object\n",
      "day      object\n",
      "dtype: object\n"
     ]
    }
   ],
   "source": [
    "# Checking dtypes before imputation\n",
    "display(HTML(f\"> Data types before imputation:\\n\"))\n",
    "print(df_music.loc[:, ['genre', 'city', 'day']].dtypes)"
   ]
  },
  {
   "cell_type": "code",
   "execution_count": 25,
   "id": "931aac25",
   "metadata": {},
   "outputs": [],
   "source": [
    "# Casting to category dtype\n",
    "df_music['genre'] = df_music['genre'].astype('category')\n",
    "df_music['city'] = df_music['city'].astype('category')\n",
    "df_music['day'] = df_music['day'].astype('category')"
   ]
  },
  {
   "cell_type": "code",
   "execution_count": 26,
   "id": "f2a0b419",
   "metadata": {},
   "outputs": [
    {
     "data": {
      "text/html": [
       "> Data types after imputation:\n"
      ],
      "text/plain": [
       "<IPython.core.display.HTML object>"
      ]
     },
     "metadata": {},
     "output_type": "display_data"
    },
    {
     "name": "stdout",
     "output_type": "stream",
     "text": [
      "genre    category\n",
      "city     category\n",
      "day      category\n",
      "dtype: object\n"
     ]
    }
   ],
   "source": [
    "# Checking dtypes after imputation\n",
    "display(HTML(f\"> Data types after imputation:\\n\"))\n",
    "print(df_music.loc[:, ['genre', 'city', 'day']].dtypes)"
   ]
  },
  {
   "cell_type": "markdown",
   "id": "29e29a0b",
   "metadata": {},
   "source": [
    "### 3.5 Casting to datetime data type"
   ]
  },
  {
   "cell_type": "code",
   "execution_count": 27,
   "id": "725d6af2",
   "metadata": {},
   "outputs": [],
   "source": [
    "df_music = normalize_datetime(df_music, include=[\"time\"], frmt=\"%H:%M:%S\")"
   ]
  },
  {
   "cell_type": "markdown",
   "id": "2e05402a",
   "metadata": {},
   "source": [
    "## __4. Final cleaning dataframe review__"
   ]
  },
  {
   "cell_type": "code",
   "execution_count": 28,
   "id": "f65c3ff3",
   "metadata": {},
   "outputs": [
    {
     "data": {
      "application/vnd.microsoft.datawrangler.viewer.v0+json": {
       "columns": [
        {
         "name": "index",
         "rawType": "int64",
         "type": "integer"
        },
        {
         "name": "userid",
         "rawType": "object",
         "type": "string"
        },
        {
         "name": "track",
         "rawType": "object",
         "type": "string"
        },
        {
         "name": "artist",
         "rawType": "object",
         "type": "string"
        },
        {
         "name": "genre",
         "rawType": "category",
         "type": "unknown"
        },
        {
         "name": "city",
         "rawType": "category",
         "type": "unknown"
        },
        {
         "name": "time",
         "rawType": "object",
         "type": "unknown"
        },
        {
         "name": "day",
         "rawType": "category",
         "type": "unknown"
        }
       ],
       "ref": "22e4ab01-963c-4227-98e4-6ac3b76a9f7e",
       "rows": [
        [
         "0",
         "FFB692EC",
         "kamigata_to_boots",
         "the_mass_missile",
         "rock",
         "shelbyville",
         "20:28:33",
         "wednesday"
        ],
        [
         "1",
         "55204538",
         "delayed_because_of_accident",
         "andreas_rönnberg",
         "rock",
         "springfield",
         "14:07:09",
         "friday"
        ],
        [
         "2",
         "20EC38",
         "funiculì_funiculà",
         "mario_lanza",
         "pop",
         "shelbyville",
         "20:58:07",
         "wednesday"
        ],
        [
         "3",
         "A3DD03C9",
         "dragons_in_the_sunset",
         "fire_ice",
         "folk",
         "shelbyville",
         "08:37:09",
         "monday"
        ],
        [
         "4",
         "E2DC1FAE",
         "soul_people",
         "space_echo",
         "dance",
         "springfield",
         "08:34:34",
         "monday"
        ],
        [
         "5",
         "842029A1",
         "chains",
         "obladaet",
         "rusrap",
         "shelbyville",
         "13:09:41",
         "friday"
        ],
        [
         "6",
         "4CB90AA5",
         "true",
         "roman_messer",
         "dance",
         "springfield",
         "13:00:07",
         "wednesday"
        ],
        [
         "7",
         "F03E1C1F",
         "feeling_this_way",
         "polina_griffith",
         "dance",
         "springfield",
         "20:47:49",
         "wednesday"
        ],
        [
         "8",
         "8FA1D3BE",
         "l_estate",
         "julia_dalia",
         "ruspop",
         "springfield",
         "09:17:40",
         "friday"
        ],
        [
         "9",
         "E772D5C0",
         "pessimist",
         "unknown",
         "dance",
         "shelbyville",
         "21:20:49",
         "wednesday"
        ],
        [
         "10",
         "BC5A3A29",
         "gool_la_mita",
         "shireen_abdul_wahab",
         "world",
         "springfield",
         "14:08:42",
         "monday"
        ],
        [
         "11",
         "8B5192C0",
         "is_there_anybody_out_there_panoramic_paralysis_mix",
         "pink_floyd_floydhead",
         "electronic",
         "springfield",
         "13:47:49",
         "monday"
        ],
        [
         "12",
         "FF3FD2BD",
         "truth",
         "bamboo",
         "pop",
         "springfield",
         "09:19:49",
         "monday"
        ],
        [
         "13",
         "CC782B0F",
         "after_school_special",
         "detroit_grand_pubahs",
         "dance",
         "springfield",
         "20:04:12",
         "friday"
        ],
        [
         "14",
         "94EB25C2",
         "make_love_whenever_you_can",
         "arabesque",
         "pop",
         "shelbyville",
         "13:22:08",
         "wednesday"
        ],
        [
         "16",
         "81D05C7D",
         "slaves_of_fear",
         "health",
         "alternative",
         "shelbyville",
         "20:54:48",
         "monday"
        ],
        [
         "17",
         "39DE290E",
         "hallo_hallo",
         "die_klima_hawaiians",
         "folk",
         "shelbyville",
         "14:36:47",
         "monday"
        ],
        [
         "18",
         "58AE138A",
         "pat_a_cake",
         "mother_goose_club",
         "children",
         "shelbyville",
         "20:04:56",
         "monday"
        ],
        [
         "19",
         "772F5B59",
         "sweetback",
         "the_fabulous_three",
         "rnb",
         "springfield",
         "13:56:42",
         "wednesday"
        ],
        [
         "20",
         "201CF2A8",
         "ya_ll_in_trouble",
         "lil_tee_chill_tank_young_buck_brother_mohammed_and_tara",
         "hiphop",
         "springfield",
         "08:46:03",
         "monday"
        ],
        [
         "21",
         "44B8E869",
         "nanovirus",
         "exotype",
         "rock",
         "springfield",
         "21:36:40",
         "monday"
        ],
        [
         "22",
         "B8E29C9C",
         "the_drunken_scotsman",
         "ménage_à_moi",
         "folk",
         "shelbyville",
         "20:20:49",
         "wednesday"
        ],
        [
         "23",
         "A729591B",
         "gavotte",
         "hachidai_nakamura",
         "jazz",
         "springfield",
         "13:56:00",
         "monday"
        ],
        [
         "24",
         "8BA8855",
         "a_universal_weakness",
         "lowercase_noises",
         "postrock",
         "shelbyville",
         "21:17:25",
         "wednesday"
        ],
        [
         "25",
         "A4504035",
         "cradle_in_bethlehem",
         "nat_king_cole",
         "jazz",
         "shelbyville",
         "09:23:01",
         "wednesday"
        ],
        [
         "26",
         "982219FD",
         "we_not_speak_americano",
         "genio_band",
         "pop",
         "shelbyville",
         "20:03:03",
         "monday"
        ],
        [
         "27",
         "9CC6AA46",
         "mucho_corazón",
         "buena_vista_social_club",
         "latin",
         "springfield",
         "14:06:22",
         "monday"
        ],
        [
         "28",
         "D8D698A9",
         "romantici",
         "viola_valentino",
         "pop",
         "springfield",
         "08:23:21",
         "wednesday"
        ],
        [
         "29",
         "5661F63E",
         "purcell_dido_and_aeneas_act_3_see_the_flags_destruction_s_our_delight_the_wit_ches_dance",
         "teresa_shaw",
         "classical",
         "shelbyville",
         "08:33:58",
         "wednesday"
        ],
        [
         "30",
         "EBA5A8B2",
         "päivän_nousu_nostajani",
         "värttina_",
         "world",
         "shelbyville",
         "08:00:31",
         "friday"
        ],
        [
         "31",
         "F6A44469",
         "veritas_universalis",
         "devathorn",
         "metal",
         "shelbyville",
         "20:19:42",
         "friday"
        ],
        [
         "32",
         "84AFC19A",
         "carry_on",
         "young_rising_sons",
         "alternative",
         "shelbyville",
         "20:24:51",
         "monday"
        ],
        [
         "33",
         "809CAFB1",
         "break_me_down",
         "steve_angello",
         "dance",
         "springfield",
         "14:42:31",
         "monday"
        ],
        [
         "34",
         "B416A40F",
         "maybe",
         "maria_michelle",
         "ruspop",
         "springfield",
         "14:49:21",
         "friday"
        ],
        [
         "36",
         "FCDF1C8E",
         "nasebanaru",
         "zen",
         "reggae",
         "springfield",
         "20:19:36",
         "wednesday"
        ],
        [
         "37",
         "C800FA98",
         "body_talk",
         "ratt",
         "rock",
         "springfield",
         "08:45:16",
         "monday"
        ],
        [
         "38",
         "14FBD1E5",
         "solteras",
         "beauty_brain",
         "dance",
         "shelbyville",
         "20:33:11",
         "friday"
        ],
        [
         "39",
         "2CF53316",
         "chicago_new_york",
         "the_aislers_set",
         "alternative",
         "shelbyville",
         "20:29:00",
         "wednesday"
        ],
        [
         "40",
         "77979A66",
         "sci_fi",
         "unknown",
         "rusrap",
         "shelbyville",
         "08:45:43",
         "monday"
        ],
        [
         "41",
         "9202C4F4",
         "good_morning_sunshine",
         "brick",
         "rnb",
         "shelbyville",
         "21:54:19",
         "monday"
        ],
        [
         "42",
         "F9AD83A7",
         "fancy",
         "grey_killer",
         "triphop",
         "springfield",
         "14:53:39",
         "friday"
        ],
        [
         "43",
         "9A22399C",
         "sweet_october",
         "ministers_of_music",
         "dance",
         "springfield",
         "20:32:33",
         "friday"
        ],
        [
         "44",
         "CD0BE030",
         "falling_for_me",
         "benson_taylor",
         "pop",
         "springfield",
         "09:21:00",
         "friday"
        ],
        [
         "45",
         "E6072F55",
         "sos",
         "peter_cetera",
         "pop",
         "springfield",
         "20:10:04",
         "wednesday"
        ],
        [
         "46",
         "825997A5",
         "glorious_feeling",
         "joelistics",
         "hiphop",
         "springfield",
         "21:46:34",
         "friday"
        ],
        [
         "47",
         "A1749681",
         "downfall",
         "the_voss",
         "dance",
         "shelbyville",
         "20:07:58",
         "monday"
        ],
        [
         "48",
         "8D0DCE83",
         "little_bitty_pretty_one",
         "thurston_harris",
         "blues",
         "springfield",
         "09:41:14",
         "friday"
        ],
        [
         "49",
         "2A35001B",
         "can_you_feel_the_love_tonight",
         "disney_peaceful_piano",
         "instrumental",
         "shelbyville",
         "21:51:37",
         "friday"
        ],
        [
         "50",
         "3DBEB447",
         "entrance",
         "sun_electric",
         "dance",
         "springfield",
         "08:36:27",
         "monday"
        ],
        [
         "51",
         "107EBCED",
         "lightbulbs",
         "the_uchpochmack",
         "rusrock",
         "springfield",
         "21:02:57",
         "wednesday"
        ]
       ],
       "shape": {
        "columns": 7,
        "rows": 59991
       }
      },
      "text/html": [
       "<div>\n",
       "<style scoped>\n",
       "    .dataframe tbody tr th:only-of-type {\n",
       "        vertical-align: middle;\n",
       "    }\n",
       "\n",
       "    .dataframe tbody tr th {\n",
       "        vertical-align: top;\n",
       "    }\n",
       "\n",
       "    .dataframe thead th {\n",
       "        text-align: right;\n",
       "    }\n",
       "</style>\n",
       "<table border=\"1\" class=\"dataframe\">\n",
       "  <thead>\n",
       "    <tr style=\"text-align: right;\">\n",
       "      <th></th>\n",
       "      <th>userid</th>\n",
       "      <th>track</th>\n",
       "      <th>artist</th>\n",
       "      <th>genre</th>\n",
       "      <th>city</th>\n",
       "      <th>time</th>\n",
       "      <th>day</th>\n",
       "    </tr>\n",
       "  </thead>\n",
       "  <tbody>\n",
       "    <tr>\n",
       "      <th>0</th>\n",
       "      <td>FFB692EC</td>\n",
       "      <td>kamigata_to_boots</td>\n",
       "      <td>the_mass_missile</td>\n",
       "      <td>rock</td>\n",
       "      <td>shelbyville</td>\n",
       "      <td>20:28:33</td>\n",
       "      <td>wednesday</td>\n",
       "    </tr>\n",
       "    <tr>\n",
       "      <th>1</th>\n",
       "      <td>55204538</td>\n",
       "      <td>delayed_because_of_accident</td>\n",
       "      <td>andreas_rönnberg</td>\n",
       "      <td>rock</td>\n",
       "      <td>springfield</td>\n",
       "      <td>14:07:09</td>\n",
       "      <td>friday</td>\n",
       "    </tr>\n",
       "    <tr>\n",
       "      <th>2</th>\n",
       "      <td>20EC38</td>\n",
       "      <td>funiculì_funiculà</td>\n",
       "      <td>mario_lanza</td>\n",
       "      <td>pop</td>\n",
       "      <td>shelbyville</td>\n",
       "      <td>20:58:07</td>\n",
       "      <td>wednesday</td>\n",
       "    </tr>\n",
       "    <tr>\n",
       "      <th>3</th>\n",
       "      <td>A3DD03C9</td>\n",
       "      <td>dragons_in_the_sunset</td>\n",
       "      <td>fire_ice</td>\n",
       "      <td>folk</td>\n",
       "      <td>shelbyville</td>\n",
       "      <td>08:37:09</td>\n",
       "      <td>monday</td>\n",
       "    </tr>\n",
       "    <tr>\n",
       "      <th>4</th>\n",
       "      <td>E2DC1FAE</td>\n",
       "      <td>soul_people</td>\n",
       "      <td>space_echo</td>\n",
       "      <td>dance</td>\n",
       "      <td>springfield</td>\n",
       "      <td>08:34:34</td>\n",
       "      <td>monday</td>\n",
       "    </tr>\n",
       "    <tr>\n",
       "      <th>...</th>\n",
       "      <td>...</td>\n",
       "      <td>...</td>\n",
       "      <td>...</td>\n",
       "      <td>...</td>\n",
       "      <td>...</td>\n",
       "      <td>...</td>\n",
       "      <td>...</td>\n",
       "    </tr>\n",
       "    <tr>\n",
       "      <th>61248</th>\n",
       "      <td>729CBB09</td>\n",
       "      <td>my_name</td>\n",
       "      <td>mclean</td>\n",
       "      <td>rnb</td>\n",
       "      <td>springfield</td>\n",
       "      <td>13:32:28</td>\n",
       "      <td>wednesday</td>\n",
       "    </tr>\n",
       "    <tr>\n",
       "      <th>61249</th>\n",
       "      <td>D08D4A55</td>\n",
       "      <td>maybe_one_day_feat_black_spade_</td>\n",
       "      <td>blu_exile</td>\n",
       "      <td>hiphop</td>\n",
       "      <td>shelbyville</td>\n",
       "      <td>10:00:00</td>\n",
       "      <td>monday</td>\n",
       "    </tr>\n",
       "    <tr>\n",
       "      <th>61250</th>\n",
       "      <td>C5E3A0D5</td>\n",
       "      <td>jalopiina</td>\n",
       "      <td>unknown</td>\n",
       "      <td>industrial</td>\n",
       "      <td>springfield</td>\n",
       "      <td>20:09:26</td>\n",
       "      <td>friday</td>\n",
       "    </tr>\n",
       "    <tr>\n",
       "      <th>61251</th>\n",
       "      <td>321D0506</td>\n",
       "      <td>freight_train</td>\n",
       "      <td>chas_mcdevitt</td>\n",
       "      <td>rock</td>\n",
       "      <td>springfield</td>\n",
       "      <td>21:43:59</td>\n",
       "      <td>friday</td>\n",
       "    </tr>\n",
       "    <tr>\n",
       "      <th>61252</th>\n",
       "      <td>3A64EF84</td>\n",
       "      <td>tell_me_sweet_little_lies</td>\n",
       "      <td>monica_lopez</td>\n",
       "      <td>country</td>\n",
       "      <td>springfield</td>\n",
       "      <td>21:59:46</td>\n",
       "      <td>friday</td>\n",
       "    </tr>\n",
       "  </tbody>\n",
       "</table>\n",
       "<p>59991 rows × 7 columns</p>\n",
       "</div>"
      ],
      "text/plain": [
       "         userid                            track            artist       genre         city      time        day\n",
       "0      FFB692EC                kamigata_to_boots  the_mass_missile        rock  shelbyville  20:28:33  wednesday\n",
       "1      55204538      delayed_because_of_accident  andreas_rönnberg        rock  springfield  14:07:09     friday\n",
       "2        20EC38                funiculì_funiculà       mario_lanza         pop  shelbyville  20:58:07  wednesday\n",
       "3      A3DD03C9            dragons_in_the_sunset          fire_ice        folk  shelbyville  08:37:09     monday\n",
       "4      E2DC1FAE                      soul_people        space_echo       dance  springfield  08:34:34     monday\n",
       "...         ...                              ...               ...         ...          ...       ...        ...\n",
       "61248  729CBB09                          my_name            mclean         rnb  springfield  13:32:28  wednesday\n",
       "61249  D08D4A55  maybe_one_day_feat_black_spade_         blu_exile      hiphop  shelbyville  10:00:00     monday\n",
       "61250  C5E3A0D5                        jalopiina           unknown  industrial  springfield  20:09:26     friday\n",
       "61251  321D0506                    freight_train     chas_mcdevitt        rock  springfield  21:43:59     friday\n",
       "61252  3A64EF84        tell_me_sweet_little_lies      monica_lopez     country  springfield  21:59:46     friday\n",
       "\n",
       "[59991 rows x 7 columns]"
      ]
     },
     "execution_count": 28,
     "metadata": {},
     "output_type": "execute_result"
    }
   ],
   "source": [
    "df_music"
   ]
  },
  {
   "cell_type": "code",
   "execution_count": 29,
   "id": "d95c8af7",
   "metadata": {},
   "outputs": [
    {
     "name": "stdout",
     "output_type": "stream",
     "text": [
      "<class 'pandas.core.frame.DataFrame'>\n",
      "Index: 59991 entries, 0 to 61252\n",
      "Data columns (total 7 columns):\n",
      " #   Column  Non-Null Count  Dtype   \n",
      "---  ------  --------------  -----   \n",
      " 0   userid  59991 non-null  object  \n",
      " 1   track   59991 non-null  object  \n",
      " 2   artist  59991 non-null  object  \n",
      " 3   genre   59991 non-null  category\n",
      " 4   city    59991 non-null  category\n",
      " 5   time    59991 non-null  object  \n",
      " 6   day     59991 non-null  category\n",
      "dtypes: category(3), object(4)\n",
      "memory usage: 2.5+ MB\n"
     ]
    }
   ],
   "source": [
    "df_music.info()"
   ]
  },
  {
   "cell_type": "code",
   "execution_count": 30,
   "id": "1fc1cf91",
   "metadata": {},
   "outputs": [
    {
     "data": {
      "text/plain": [
       "datetime.time"
      ]
     },
     "execution_count": 30,
     "metadata": {},
     "output_type": "execute_result"
    }
   ],
   "source": [
    "type(df_music['time'].iloc[0])"
   ]
  },
  {
   "cell_type": "code",
   "execution_count": 31,
   "id": "aa3e504f",
   "metadata": {},
   "outputs": [],
   "source": [
    "df_music = df_music.reset_index(drop=True)"
   ]
  },
  {
   "cell_type": "code",
   "execution_count": 32,
   "id": "9609e36c",
   "metadata": {},
   "outputs": [
    {
     "name": "stdout",
     "output_type": "stream",
     "text": [
      "<class 'pandas.core.frame.DataFrame'>\n",
      "RangeIndex: 59991 entries, 0 to 59990\n",
      "Data columns (total 7 columns):\n",
      " #   Column  Non-Null Count  Dtype   \n",
      "---  ------  --------------  -----   \n",
      " 0   userid  59991 non-null  object  \n",
      " 1   track   59991 non-null  object  \n",
      " 2   artist  59991 non-null  object  \n",
      " 3   genre   59991 non-null  category\n",
      " 4   city    59991 non-null  category\n",
      " 5   time    59991 non-null  object  \n",
      " 6   day     59991 non-null  category\n",
      "dtypes: category(3), object(4)\n",
      "memory usage: 2.1+ MB\n"
     ]
    }
   ],
   "source": [
    "df_music.info()"
   ]
  },
  {
   "cell_type": "markdown",
   "id": "d1c7b3ee",
   "metadata": {},
   "source": [
    "## __5. Generate a new clean Data set .csv file__"
   ]
  },
  {
   "cell_type": "code",
   "execution_count": 33,
   "id": "594c9231",
   "metadata": {},
   "outputs": [],
   "source": [
    "project_root = Path.cwd().parent\n",
    "processed_path = project_root / \"data\" / \"processed\" / \"music_clean.csv\"\n",
    "\n",
    "df_music.to_csv(processed_path, index=False)"
   ]
  }
 ],
 "metadata": {
  "kernelspec": {
   "display_name": "Win11_Python-Mature-PipVenv-Github-3.10",
   "language": "python",
   "name": "python3"
  },
  "language_info": {
   "codemirror_mode": {
    "name": "ipython",
    "version": 3
   },
   "file_extension": ".py",
   "mimetype": "text/x-python",
   "name": "python",
   "nbconvert_exporter": "python",
   "pygments_lexer": "ipython3",
   "version": "3.10.0"
  }
 },
 "nbformat": 4,
 "nbformat_minor": 5
}
