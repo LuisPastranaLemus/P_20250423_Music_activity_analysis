{
 "cells": [
  {
   "cell_type": "markdown",
   "id": "7849e41b",
   "metadata": {},
   "source": [
    "#### Feature Engineering  \n",
    "Dataset: _music_clean_   \n",
    "Author: Luis Sergio Pastrana Lemus  \n",
    "Date: 2025-04-23"
   ]
  },
  {
   "cell_type": "markdown",
   "id": "415af0e2",
   "metadata": {},
   "source": [
    "## __1. Libraries__"
   ]
  },
  {
   "cell_type": "code",
   "execution_count": 1,
   "id": "eacf5d9a",
   "metadata": {},
   "outputs": [],
   "source": [
    "from IPython.display import display, HTML\n",
    "import os\n",
    "import pandas as pd\n",
    "from pathlib import Path\n",
    "import sys\n",
    "\n",
    "# Define project root dynamically, gets the current directory from whick the notebook belongs and moves one level upper\n",
    "project_root = Path.cwd().parent\n",
    "\n",
    "# Add src to sys.path if it is not already\n",
    "if str(project_root) not in sys.path:\n",
    "    sys.path.append(str(project_root))\n",
    "\n",
    "# Import function directly (more controlled than import *)\n",
    "from src import *"
   ]
  },
  {
   "cell_type": "markdown",
   "id": "3be37b0b",
   "metadata": {},
   "source": [
    "## __2. Path to Data file__"
   ]
  },
  {
   "cell_type": "code",
   "execution_count": 2,
   "id": "7e7a75e0",
   "metadata": {},
   "outputs": [],
   "source": [
    "# Build route to data file and upload\n",
    "data_file_path = project_root / \"data\" / \"processed\"\n",
    "df_music = load_dataset_from_csv(data_file_path, \"music_clean.csv\", sep=',', header='infer', keep_default_na=False)\n"
   ]
  },
  {
   "cell_type": "code",
   "execution_count": 3,
   "id": "db15faef",
   "metadata": {},
   "outputs": [],
   "source": [
    "# Format notebook output\n",
    "format_notebook()"
   ]
  },
  {
   "cell_type": "markdown",
   "id": "c5bc07b2",
   "metadata": {},
   "source": [
    "## 3 __Casting to data types__"
   ]
  },
  {
   "cell_type": "markdown",
   "id": "2724341b",
   "metadata": {},
   "source": [
    "### 3.1 Casting to category data type"
   ]
  },
  {
   "cell_type": "code",
   "execution_count": 4,
   "id": "9469508d",
   "metadata": {},
   "outputs": [],
   "source": [
    "# Casting to category dtype\n",
    "df_music['genre'] = df_music['genre'].astype('category')\n",
    "df_music['city'] = df_music['city'].astype('category')\n",
    "df_music['day'] = df_music['day'].astype('category')"
   ]
  },
  {
   "cell_type": "code",
   "execution_count": 5,
   "id": "96eae6a1",
   "metadata": {},
   "outputs": [
    {
     "data": {
      "text/html": [
       "> Data types after imputation:\n"
      ],
      "text/plain": [
       "<IPython.core.display.HTML object>"
      ]
     },
     "metadata": {},
     "output_type": "display_data"
    },
    {
     "name": "stdout",
     "output_type": "stream",
     "text": [
      "genre    category\n",
      "city     category\n",
      "day      category\n",
      "dtype: object\n"
     ]
    }
   ],
   "source": [
    "# Checking dtypes after imputation\n",
    "display(HTML(f\"> Data types after imputation:\\n\"))\n",
    "print(df_music.loc[:, ['genre', 'city', 'day']].dtypes)"
   ]
  },
  {
   "cell_type": "markdown",
   "id": "d0a6d354",
   "metadata": {},
   "source": [
    "### 3.1 Casting to datetime data type"
   ]
  },
  {
   "cell_type": "code",
   "execution_count": 6,
   "id": "2c1ef923",
   "metadata": {},
   "outputs": [
    {
     "data": {
      "text/plain": [
       "datetime.time"
      ]
     },
     "execution_count": 6,
     "metadata": {},
     "output_type": "execute_result"
    }
   ],
   "source": [
    "df_music = normalize_datetime(df_music, include=[\"time\"], frmt=\"%H:%M:%S\")\n",
    "\n",
    "type(df_music['time'].iloc[0])"
   ]
  },
  {
   "cell_type": "code",
   "execution_count": 7,
   "id": "b9854511",
   "metadata": {},
   "outputs": [
    {
     "data": {
      "application/vnd.microsoft.datawrangler.viewer.v0+json": {
       "columns": [
        {
         "name": "index",
         "rawType": "int64",
         "type": "integer"
        },
        {
         "name": "userid",
         "rawType": "object",
         "type": "string"
        },
        {
         "name": "track",
         "rawType": "object",
         "type": "string"
        },
        {
         "name": "artist",
         "rawType": "object",
         "type": "string"
        },
        {
         "name": "genre",
         "rawType": "category",
         "type": "unknown"
        },
        {
         "name": "city",
         "rawType": "category",
         "type": "unknown"
        },
        {
         "name": "time",
         "rawType": "object",
         "type": "unknown"
        },
        {
         "name": "day",
         "rawType": "category",
         "type": "unknown"
        },
        {
         "name": "hour",
         "rawType": "int64",
         "type": "integer"
        }
       ],
       "ref": "c24d2009-805e-42dd-a47d-e0c70f22fd3a",
       "rows": [
        [
         "0",
         "FFB692EC",
         "kamigata_to_boots",
         "the_mass_missile",
         "rock",
         "shelbyville",
         "20:28:33",
         "wednesday",
         "20"
        ],
        [
         "1",
         "55204538",
         "delayed_because_of_accident",
         "andreas_rönnberg",
         "rock",
         "springfield",
         "14:07:09",
         "friday",
         "14"
        ],
        [
         "2",
         "20EC38",
         "funiculì_funiculà",
         "mario_lanza",
         "pop",
         "shelbyville",
         "20:58:07",
         "wednesday",
         "20"
        ],
        [
         "3",
         "A3DD03C9",
         "dragons_in_the_sunset",
         "fire_ice",
         "folk",
         "shelbyville",
         "08:37:09",
         "monday",
         "8"
        ],
        [
         "4",
         "E2DC1FAE",
         "soul_people",
         "space_echo",
         "dance",
         "springfield",
         "08:34:34",
         "monday",
         "8"
        ],
        [
         "5",
         "842029A1",
         "chains",
         "obladaet",
         "rusrap",
         "shelbyville",
         "13:09:41",
         "friday",
         "13"
        ],
        [
         "6",
         "4CB90AA5",
         "true",
         "roman_messer",
         "dance",
         "springfield",
         "13:00:07",
         "wednesday",
         "13"
        ],
        [
         "7",
         "F03E1C1F",
         "feeling_this_way",
         "polina_griffith",
         "dance",
         "springfield",
         "20:47:49",
         "wednesday",
         "20"
        ],
        [
         "8",
         "8FA1D3BE",
         "l_estate",
         "julia_dalia",
         "ruspop",
         "springfield",
         "09:17:40",
         "friday",
         "9"
        ],
        [
         "9",
         "E772D5C0",
         "pessimist",
         "unknown",
         "dance",
         "shelbyville",
         "21:20:49",
         "wednesday",
         "21"
        ],
        [
         "10",
         "BC5A3A29",
         "gool_la_mita",
         "shireen_abdul_wahab",
         "world",
         "springfield",
         "14:08:42",
         "monday",
         "14"
        ],
        [
         "11",
         "8B5192C0",
         "is_there_anybody_out_there_panoramic_paralysis_mix",
         "pink_floyd_floydhead",
         "electronic",
         "springfield",
         "13:47:49",
         "monday",
         "13"
        ],
        [
         "12",
         "FF3FD2BD",
         "truth",
         "bamboo",
         "pop",
         "springfield",
         "09:19:49",
         "monday",
         "9"
        ],
        [
         "13",
         "CC782B0F",
         "after_school_special",
         "detroit_grand_pubahs",
         "dance",
         "springfield",
         "20:04:12",
         "friday",
         "20"
        ],
        [
         "14",
         "94EB25C2",
         "make_love_whenever_you_can",
         "arabesque",
         "pop",
         "shelbyville",
         "13:22:08",
         "wednesday",
         "13"
        ],
        [
         "15",
         "81D05C7D",
         "slaves_of_fear",
         "health",
         "alternative",
         "shelbyville",
         "20:54:48",
         "monday",
         "20"
        ],
        [
         "16",
         "39DE290E",
         "hallo_hallo",
         "die_klima_hawaiians",
         "folk",
         "shelbyville",
         "14:36:47",
         "monday",
         "14"
        ],
        [
         "17",
         "58AE138A",
         "pat_a_cake",
         "mother_goose_club",
         "children",
         "shelbyville",
         "20:04:56",
         "monday",
         "20"
        ],
        [
         "18",
         "772F5B59",
         "sweetback",
         "the_fabulous_three",
         "rnb",
         "springfield",
         "13:56:42",
         "wednesday",
         "13"
        ],
        [
         "19",
         "201CF2A8",
         "ya_ll_in_trouble",
         "lil_tee_chill_tank_young_buck_brother_mohammed_and_tara",
         "hiphop",
         "springfield",
         "08:46:03",
         "monday",
         "8"
        ],
        [
         "20",
         "44B8E869",
         "nanovirus",
         "exotype",
         "rock",
         "springfield",
         "21:36:40",
         "monday",
         "21"
        ],
        [
         "21",
         "B8E29C9C",
         "the_drunken_scotsman",
         "ménage_à_moi",
         "folk",
         "shelbyville",
         "20:20:49",
         "wednesday",
         "20"
        ],
        [
         "22",
         "A729591B",
         "gavotte",
         "hachidai_nakamura",
         "jazz",
         "springfield",
         "13:56:00",
         "monday",
         "13"
        ],
        [
         "23",
         "8BA8855",
         "a_universal_weakness",
         "lowercase_noises",
         "postrock",
         "shelbyville",
         "21:17:25",
         "wednesday",
         "21"
        ],
        [
         "24",
         "A4504035",
         "cradle_in_bethlehem",
         "nat_king_cole",
         "jazz",
         "shelbyville",
         "09:23:01",
         "wednesday",
         "9"
        ],
        [
         "25",
         "982219FD",
         "we_not_speak_americano",
         "genio_band",
         "pop",
         "shelbyville",
         "20:03:03",
         "monday",
         "20"
        ],
        [
         "26",
         "9CC6AA46",
         "mucho_corazón",
         "buena_vista_social_club",
         "latin",
         "springfield",
         "14:06:22",
         "monday",
         "14"
        ],
        [
         "27",
         "D8D698A9",
         "romantici",
         "viola_valentino",
         "pop",
         "springfield",
         "08:23:21",
         "wednesday",
         "8"
        ],
        [
         "28",
         "5661F63E",
         "purcell_dido_and_aeneas_act_3_see_the_flags_destruction_s_our_delight_the_wit_ches_dance",
         "teresa_shaw",
         "classical",
         "shelbyville",
         "08:33:58",
         "wednesday",
         "8"
        ],
        [
         "29",
         "EBA5A8B2",
         "päivän_nousu_nostajani",
         "värttina_",
         "world",
         "shelbyville",
         "08:00:31",
         "friday",
         "8"
        ],
        [
         "30",
         "F6A44469",
         "veritas_universalis",
         "devathorn",
         "metal",
         "shelbyville",
         "20:19:42",
         "friday",
         "20"
        ],
        [
         "31",
         "84AFC19A",
         "carry_on",
         "young_rising_sons",
         "alternative",
         "shelbyville",
         "20:24:51",
         "monday",
         "20"
        ],
        [
         "32",
         "809CAFB1",
         "break_me_down",
         "steve_angello",
         "dance",
         "springfield",
         "14:42:31",
         "monday",
         "14"
        ],
        [
         "33",
         "B416A40F",
         "maybe",
         "maria_michelle",
         "ruspop",
         "springfield",
         "14:49:21",
         "friday",
         "14"
        ],
        [
         "34",
         "FCDF1C8E",
         "nasebanaru",
         "zen",
         "reggae",
         "springfield",
         "20:19:36",
         "wednesday",
         "20"
        ],
        [
         "35",
         "C800FA98",
         "body_talk",
         "ratt",
         "rock",
         "springfield",
         "08:45:16",
         "monday",
         "8"
        ],
        [
         "36",
         "14FBD1E5",
         "solteras",
         "beauty_brain",
         "dance",
         "shelbyville",
         "20:33:11",
         "friday",
         "20"
        ],
        [
         "37",
         "2CF53316",
         "chicago_new_york",
         "the_aislers_set",
         "alternative",
         "shelbyville",
         "20:29:00",
         "wednesday",
         "20"
        ],
        [
         "38",
         "77979A66",
         "sci_fi",
         "unknown",
         "rusrap",
         "shelbyville",
         "08:45:43",
         "monday",
         "8"
        ],
        [
         "39",
         "9202C4F4",
         "good_morning_sunshine",
         "brick",
         "rnb",
         "shelbyville",
         "21:54:19",
         "monday",
         "21"
        ],
        [
         "40",
         "F9AD83A7",
         "fancy",
         "grey_killer",
         "triphop",
         "springfield",
         "14:53:39",
         "friday",
         "14"
        ],
        [
         "41",
         "9A22399C",
         "sweet_october",
         "ministers_of_music",
         "dance",
         "springfield",
         "20:32:33",
         "friday",
         "20"
        ],
        [
         "42",
         "CD0BE030",
         "falling_for_me",
         "benson_taylor",
         "pop",
         "springfield",
         "09:21:00",
         "friday",
         "9"
        ],
        [
         "43",
         "E6072F55",
         "sos",
         "peter_cetera",
         "pop",
         "springfield",
         "20:10:04",
         "wednesday",
         "20"
        ],
        [
         "44",
         "825997A5",
         "glorious_feeling",
         "joelistics",
         "hiphop",
         "springfield",
         "21:46:34",
         "friday",
         "21"
        ],
        [
         "45",
         "A1749681",
         "downfall",
         "the_voss",
         "dance",
         "shelbyville",
         "20:07:58",
         "monday",
         "20"
        ],
        [
         "46",
         "8D0DCE83",
         "little_bitty_pretty_one",
         "thurston_harris",
         "blues",
         "springfield",
         "09:41:14",
         "friday",
         "9"
        ],
        [
         "47",
         "2A35001B",
         "can_you_feel_the_love_tonight",
         "disney_peaceful_piano",
         "instrumental",
         "shelbyville",
         "21:51:37",
         "friday",
         "21"
        ],
        [
         "48",
         "3DBEB447",
         "entrance",
         "sun_electric",
         "dance",
         "springfield",
         "08:36:27",
         "monday",
         "8"
        ],
        [
         "49",
         "107EBCED",
         "lightbulbs",
         "the_uchpochmack",
         "rusrock",
         "springfield",
         "21:02:57",
         "wednesday",
         "21"
        ]
       ],
       "shape": {
        "columns": 8,
        "rows": 59991
       }
      },
      "text/html": [
       "<div>\n",
       "<style scoped>\n",
       "    .dataframe tbody tr th:only-of-type {\n",
       "        vertical-align: middle;\n",
       "    }\n",
       "\n",
       "    .dataframe tbody tr th {\n",
       "        vertical-align: top;\n",
       "    }\n",
       "\n",
       "    .dataframe thead th {\n",
       "        text-align: right;\n",
       "    }\n",
       "</style>\n",
       "<table border=\"1\" class=\"dataframe\">\n",
       "  <thead>\n",
       "    <tr style=\"text-align: right;\">\n",
       "      <th></th>\n",
       "      <th>userid</th>\n",
       "      <th>track</th>\n",
       "      <th>artist</th>\n",
       "      <th>genre</th>\n",
       "      <th>city</th>\n",
       "      <th>time</th>\n",
       "      <th>day</th>\n",
       "      <th>hour</th>\n",
       "    </tr>\n",
       "  </thead>\n",
       "  <tbody>\n",
       "    <tr>\n",
       "      <th>0</th>\n",
       "      <td>FFB692EC</td>\n",
       "      <td>kamigata_to_boots</td>\n",
       "      <td>the_mass_missile</td>\n",
       "      <td>rock</td>\n",
       "      <td>shelbyville</td>\n",
       "      <td>20:28:33</td>\n",
       "      <td>wednesday</td>\n",
       "      <td>20</td>\n",
       "    </tr>\n",
       "    <tr>\n",
       "      <th>1</th>\n",
       "      <td>55204538</td>\n",
       "      <td>delayed_because_of_accident</td>\n",
       "      <td>andreas_rönnberg</td>\n",
       "      <td>rock</td>\n",
       "      <td>springfield</td>\n",
       "      <td>14:07:09</td>\n",
       "      <td>friday</td>\n",
       "      <td>14</td>\n",
       "    </tr>\n",
       "    <tr>\n",
       "      <th>2</th>\n",
       "      <td>20EC38</td>\n",
       "      <td>funiculì_funiculà</td>\n",
       "      <td>mario_lanza</td>\n",
       "      <td>pop</td>\n",
       "      <td>shelbyville</td>\n",
       "      <td>20:58:07</td>\n",
       "      <td>wednesday</td>\n",
       "      <td>20</td>\n",
       "    </tr>\n",
       "    <tr>\n",
       "      <th>3</th>\n",
       "      <td>A3DD03C9</td>\n",
       "      <td>dragons_in_the_sunset</td>\n",
       "      <td>fire_ice</td>\n",
       "      <td>folk</td>\n",
       "      <td>shelbyville</td>\n",
       "      <td>08:37:09</td>\n",
       "      <td>monday</td>\n",
       "      <td>8</td>\n",
       "    </tr>\n",
       "    <tr>\n",
       "      <th>4</th>\n",
       "      <td>E2DC1FAE</td>\n",
       "      <td>soul_people</td>\n",
       "      <td>space_echo</td>\n",
       "      <td>dance</td>\n",
       "      <td>springfield</td>\n",
       "      <td>08:34:34</td>\n",
       "      <td>monday</td>\n",
       "      <td>8</td>\n",
       "    </tr>\n",
       "    <tr>\n",
       "      <th>...</th>\n",
       "      <td>...</td>\n",
       "      <td>...</td>\n",
       "      <td>...</td>\n",
       "      <td>...</td>\n",
       "      <td>...</td>\n",
       "      <td>...</td>\n",
       "      <td>...</td>\n",
       "      <td>...</td>\n",
       "    </tr>\n",
       "    <tr>\n",
       "      <th>59986</th>\n",
       "      <td>729CBB09</td>\n",
       "      <td>my_name</td>\n",
       "      <td>mclean</td>\n",
       "      <td>rnb</td>\n",
       "      <td>springfield</td>\n",
       "      <td>13:32:28</td>\n",
       "      <td>wednesday</td>\n",
       "      <td>13</td>\n",
       "    </tr>\n",
       "    <tr>\n",
       "      <th>59987</th>\n",
       "      <td>D08D4A55</td>\n",
       "      <td>maybe_one_day_feat_black_spade_</td>\n",
       "      <td>blu_exile</td>\n",
       "      <td>hiphop</td>\n",
       "      <td>shelbyville</td>\n",
       "      <td>10:00:00</td>\n",
       "      <td>monday</td>\n",
       "      <td>10</td>\n",
       "    </tr>\n",
       "    <tr>\n",
       "      <th>59988</th>\n",
       "      <td>C5E3A0D5</td>\n",
       "      <td>jalopiina</td>\n",
       "      <td>unknown</td>\n",
       "      <td>industrial</td>\n",
       "      <td>springfield</td>\n",
       "      <td>20:09:26</td>\n",
       "      <td>friday</td>\n",
       "      <td>20</td>\n",
       "    </tr>\n",
       "    <tr>\n",
       "      <th>59989</th>\n",
       "      <td>321D0506</td>\n",
       "      <td>freight_train</td>\n",
       "      <td>chas_mcdevitt</td>\n",
       "      <td>rock</td>\n",
       "      <td>springfield</td>\n",
       "      <td>21:43:59</td>\n",
       "      <td>friday</td>\n",
       "      <td>21</td>\n",
       "    </tr>\n",
       "    <tr>\n",
       "      <th>59990</th>\n",
       "      <td>3A64EF84</td>\n",
       "      <td>tell_me_sweet_little_lies</td>\n",
       "      <td>monica_lopez</td>\n",
       "      <td>country</td>\n",
       "      <td>springfield</td>\n",
       "      <td>21:59:46</td>\n",
       "      <td>friday</td>\n",
       "      <td>21</td>\n",
       "    </tr>\n",
       "  </tbody>\n",
       "</table>\n",
       "<p>59991 rows × 8 columns</p>\n",
       "</div>"
      ],
      "text/plain": [
       "         userid                            track            artist       genre         city      time        day  hour\n",
       "0      FFB692EC                kamigata_to_boots  the_mass_missile        rock  shelbyville  20:28:33  wednesday    20\n",
       "1      55204538      delayed_because_of_accident  andreas_rönnberg        rock  springfield  14:07:09     friday    14\n",
       "2        20EC38                funiculì_funiculà       mario_lanza         pop  shelbyville  20:58:07  wednesday    20\n",
       "3      A3DD03C9            dragons_in_the_sunset          fire_ice        folk  shelbyville  08:37:09     monday     8\n",
       "4      E2DC1FAE                      soul_people        space_echo       dance  springfield  08:34:34     monday     8\n",
       "...         ...                              ...               ...         ...          ...       ...        ...   ...\n",
       "59986  729CBB09                          my_name            mclean         rnb  springfield  13:32:28  wednesday    13\n",
       "59987  D08D4A55  maybe_one_day_feat_black_spade_         blu_exile      hiphop  shelbyville  10:00:00     monday    10\n",
       "59988  C5E3A0D5                        jalopiina           unknown  industrial  springfield  20:09:26     friday    20\n",
       "59989  321D0506                    freight_train     chas_mcdevitt        rock  springfield  21:43:59     friday    21\n",
       "59990  3A64EF84        tell_me_sweet_little_lies      monica_lopez     country  springfield  21:59:46     friday    21\n",
       "\n",
       "[59991 rows x 8 columns]"
      ]
     },
     "execution_count": 7,
     "metadata": {},
     "output_type": "execute_result"
    }
   ],
   "source": [
    "df_music['hour'] = df_music['time'].apply(lambda x: x.hour if pd.notnull(x) else None)\n",
    "df_music"
   ]
  },
  {
   "cell_type": "code",
   "execution_count": 8,
   "id": "bfc4e692",
   "metadata": {},
   "outputs": [
    {
     "data": {
      "text/html": [
       "> Data types after imputation:\n"
      ],
      "text/plain": [
       "<IPython.core.display.HTML object>"
      ]
     },
     "metadata": {},
     "output_type": "display_data"
    },
    {
     "name": "stdout",
     "output_type": "stream",
     "text": [
      "hour    category\n",
      "dtype: object\n"
     ]
    }
   ],
   "source": [
    "df_music['hour'] = df_music['hour'].astype('category')\n",
    "# Checking dtypes after imputation\n",
    "display(HTML(f\"> Data types after imputation:\\n\"))\n",
    "print(df_music.loc[:, ['hour']].dtypes)"
   ]
  },
  {
   "cell_type": "markdown",
   "id": "166c6add",
   "metadata": {},
   "source": [
    "## 3. Feature Engineering"
   ]
  },
  {
   "cell_type": "markdown",
   "id": "d97e720a",
   "metadata": {},
   "source": [
    "### 3.1 User activity variation by day and city"
   ]
  },
  {
   "cell_type": "markdown",
   "id": "511db52e",
   "metadata": {},
   "source": [
    "#### 3.1.1 User activity variation by city"
   ]
  },
  {
   "cell_type": "code",
   "execution_count": 9,
   "id": "1e4d59ee",
   "metadata": {},
   "outputs": [
    {
     "data": {
      "application/vnd.microsoft.datawrangler.viewer.v0+json": {
       "columns": [
        {
         "name": "index",
         "rawType": "int64",
         "type": "integer"
        },
        {
         "name": "userid",
         "rawType": "object",
         "type": "string"
        },
        {
         "name": "track",
         "rawType": "object",
         "type": "string"
        },
        {
         "name": "artist",
         "rawType": "object",
         "type": "string"
        },
        {
         "name": "genre",
         "rawType": "category",
         "type": "unknown"
        },
        {
         "name": "city",
         "rawType": "category",
         "type": "unknown"
        },
        {
         "name": "time",
         "rawType": "object",
         "type": "unknown"
        },
        {
         "name": "day",
         "rawType": "category",
         "type": "unknown"
        },
        {
         "name": "hour",
         "rawType": "category",
         "type": "unknown"
        }
       ],
       "ref": "afc698f8-fa48-4984-a4e4-d3e90afdfb47",
       "rows": [
        [
         "0",
         "FFB692EC",
         "kamigata_to_boots",
         "the_mass_missile",
         "rock",
         "shelbyville",
         "20:28:33",
         "wednesday",
         "20"
        ],
        [
         "1",
         "55204538",
         "delayed_because_of_accident",
         "andreas_rönnberg",
         "rock",
         "springfield",
         "14:07:09",
         "friday",
         "14"
        ],
        [
         "2",
         "20EC38",
         "funiculì_funiculà",
         "mario_lanza",
         "pop",
         "shelbyville",
         "20:58:07",
         "wednesday",
         "20"
        ],
        [
         "3",
         "A3DD03C9",
         "dragons_in_the_sunset",
         "fire_ice",
         "folk",
         "shelbyville",
         "08:37:09",
         "monday",
         "8"
        ],
        [
         "4",
         "E2DC1FAE",
         "soul_people",
         "space_echo",
         "dance",
         "springfield",
         "08:34:34",
         "monday",
         "8"
        ],
        [
         "5",
         "842029A1",
         "chains",
         "obladaet",
         "rusrap",
         "shelbyville",
         "13:09:41",
         "friday",
         "13"
        ],
        [
         "6",
         "4CB90AA5",
         "true",
         "roman_messer",
         "dance",
         "springfield",
         "13:00:07",
         "wednesday",
         "13"
        ],
        [
         "7",
         "F03E1C1F",
         "feeling_this_way",
         "polina_griffith",
         "dance",
         "springfield",
         "20:47:49",
         "wednesday",
         "20"
        ],
        [
         "8",
         "8FA1D3BE",
         "l_estate",
         "julia_dalia",
         "ruspop",
         "springfield",
         "09:17:40",
         "friday",
         "9"
        ],
        [
         "9",
         "E772D5C0",
         "pessimist",
         "unknown",
         "dance",
         "shelbyville",
         "21:20:49",
         "wednesday",
         "21"
        ],
        [
         "10",
         "BC5A3A29",
         "gool_la_mita",
         "shireen_abdul_wahab",
         "world",
         "springfield",
         "14:08:42",
         "monday",
         "14"
        ],
        [
         "11",
         "8B5192C0",
         "is_there_anybody_out_there_panoramic_paralysis_mix",
         "pink_floyd_floydhead",
         "electronic",
         "springfield",
         "13:47:49",
         "monday",
         "13"
        ],
        [
         "12",
         "FF3FD2BD",
         "truth",
         "bamboo",
         "pop",
         "springfield",
         "09:19:49",
         "monday",
         "9"
        ],
        [
         "13",
         "CC782B0F",
         "after_school_special",
         "detroit_grand_pubahs",
         "dance",
         "springfield",
         "20:04:12",
         "friday",
         "20"
        ],
        [
         "14",
         "94EB25C2",
         "make_love_whenever_you_can",
         "arabesque",
         "pop",
         "shelbyville",
         "13:22:08",
         "wednesday",
         "13"
        ],
        [
         "15",
         "81D05C7D",
         "slaves_of_fear",
         "health",
         "alternative",
         "shelbyville",
         "20:54:48",
         "monday",
         "20"
        ],
        [
         "16",
         "39DE290E",
         "hallo_hallo",
         "die_klima_hawaiians",
         "folk",
         "shelbyville",
         "14:36:47",
         "monday",
         "14"
        ],
        [
         "17",
         "58AE138A",
         "pat_a_cake",
         "mother_goose_club",
         "children",
         "shelbyville",
         "20:04:56",
         "monday",
         "20"
        ],
        [
         "18",
         "772F5B59",
         "sweetback",
         "the_fabulous_three",
         "rnb",
         "springfield",
         "13:56:42",
         "wednesday",
         "13"
        ],
        [
         "19",
         "201CF2A8",
         "ya_ll_in_trouble",
         "lil_tee_chill_tank_young_buck_brother_mohammed_and_tara",
         "hiphop",
         "springfield",
         "08:46:03",
         "monday",
         "8"
        ],
        [
         "20",
         "44B8E869",
         "nanovirus",
         "exotype",
         "rock",
         "springfield",
         "21:36:40",
         "monday",
         "21"
        ],
        [
         "21",
         "B8E29C9C",
         "the_drunken_scotsman",
         "ménage_à_moi",
         "folk",
         "shelbyville",
         "20:20:49",
         "wednesday",
         "20"
        ],
        [
         "22",
         "A729591B",
         "gavotte",
         "hachidai_nakamura",
         "jazz",
         "springfield",
         "13:56:00",
         "monday",
         "13"
        ],
        [
         "23",
         "8BA8855",
         "a_universal_weakness",
         "lowercase_noises",
         "postrock",
         "shelbyville",
         "21:17:25",
         "wednesday",
         "21"
        ],
        [
         "24",
         "A4504035",
         "cradle_in_bethlehem",
         "nat_king_cole",
         "jazz",
         "shelbyville",
         "09:23:01",
         "wednesday",
         "9"
        ],
        [
         "25",
         "982219FD",
         "we_not_speak_americano",
         "genio_band",
         "pop",
         "shelbyville",
         "20:03:03",
         "monday",
         "20"
        ],
        [
         "26",
         "9CC6AA46",
         "mucho_corazón",
         "buena_vista_social_club",
         "latin",
         "springfield",
         "14:06:22",
         "monday",
         "14"
        ],
        [
         "27",
         "D8D698A9",
         "romantici",
         "viola_valentino",
         "pop",
         "springfield",
         "08:23:21",
         "wednesday",
         "8"
        ],
        [
         "28",
         "5661F63E",
         "purcell_dido_and_aeneas_act_3_see_the_flags_destruction_s_our_delight_the_wit_ches_dance",
         "teresa_shaw",
         "classical",
         "shelbyville",
         "08:33:58",
         "wednesday",
         "8"
        ],
        [
         "29",
         "EBA5A8B2",
         "päivän_nousu_nostajani",
         "värttina_",
         "world",
         "shelbyville",
         "08:00:31",
         "friday",
         "8"
        ],
        [
         "30",
         "F6A44469",
         "veritas_universalis",
         "devathorn",
         "metal",
         "shelbyville",
         "20:19:42",
         "friday",
         "20"
        ],
        [
         "31",
         "84AFC19A",
         "carry_on",
         "young_rising_sons",
         "alternative",
         "shelbyville",
         "20:24:51",
         "monday",
         "20"
        ],
        [
         "32",
         "809CAFB1",
         "break_me_down",
         "steve_angello",
         "dance",
         "springfield",
         "14:42:31",
         "monday",
         "14"
        ],
        [
         "33",
         "B416A40F",
         "maybe",
         "maria_michelle",
         "ruspop",
         "springfield",
         "14:49:21",
         "friday",
         "14"
        ],
        [
         "34",
         "FCDF1C8E",
         "nasebanaru",
         "zen",
         "reggae",
         "springfield",
         "20:19:36",
         "wednesday",
         "20"
        ],
        [
         "35",
         "C800FA98",
         "body_talk",
         "ratt",
         "rock",
         "springfield",
         "08:45:16",
         "monday",
         "8"
        ],
        [
         "36",
         "14FBD1E5",
         "solteras",
         "beauty_brain",
         "dance",
         "shelbyville",
         "20:33:11",
         "friday",
         "20"
        ],
        [
         "37",
         "2CF53316",
         "chicago_new_york",
         "the_aislers_set",
         "alternative",
         "shelbyville",
         "20:29:00",
         "wednesday",
         "20"
        ],
        [
         "38",
         "77979A66",
         "sci_fi",
         "unknown",
         "rusrap",
         "shelbyville",
         "08:45:43",
         "monday",
         "8"
        ],
        [
         "39",
         "9202C4F4",
         "good_morning_sunshine",
         "brick",
         "rnb",
         "shelbyville",
         "21:54:19",
         "monday",
         "21"
        ],
        [
         "40",
         "F9AD83A7",
         "fancy",
         "grey_killer",
         "triphop",
         "springfield",
         "14:53:39",
         "friday",
         "14"
        ],
        [
         "41",
         "9A22399C",
         "sweet_october",
         "ministers_of_music",
         "dance",
         "springfield",
         "20:32:33",
         "friday",
         "20"
        ],
        [
         "42",
         "CD0BE030",
         "falling_for_me",
         "benson_taylor",
         "pop",
         "springfield",
         "09:21:00",
         "friday",
         "9"
        ],
        [
         "43",
         "E6072F55",
         "sos",
         "peter_cetera",
         "pop",
         "springfield",
         "20:10:04",
         "wednesday",
         "20"
        ],
        [
         "44",
         "825997A5",
         "glorious_feeling",
         "joelistics",
         "hiphop",
         "springfield",
         "21:46:34",
         "friday",
         "21"
        ],
        [
         "45",
         "A1749681",
         "downfall",
         "the_voss",
         "dance",
         "shelbyville",
         "20:07:58",
         "monday",
         "20"
        ],
        [
         "46",
         "8D0DCE83",
         "little_bitty_pretty_one",
         "thurston_harris",
         "blues",
         "springfield",
         "09:41:14",
         "friday",
         "9"
        ],
        [
         "47",
         "2A35001B",
         "can_you_feel_the_love_tonight",
         "disney_peaceful_piano",
         "instrumental",
         "shelbyville",
         "21:51:37",
         "friday",
         "21"
        ],
        [
         "48",
         "3DBEB447",
         "entrance",
         "sun_electric",
         "dance",
         "springfield",
         "08:36:27",
         "monday",
         "8"
        ],
        [
         "49",
         "107EBCED",
         "lightbulbs",
         "the_uchpochmack",
         "rusrock",
         "springfield",
         "21:02:57",
         "wednesday",
         "21"
        ]
       ],
       "shape": {
        "columns": 8,
        "rows": 59991
       }
      },
      "text/html": [
       "<div>\n",
       "<style scoped>\n",
       "    .dataframe tbody tr th:only-of-type {\n",
       "        vertical-align: middle;\n",
       "    }\n",
       "\n",
       "    .dataframe tbody tr th {\n",
       "        vertical-align: top;\n",
       "    }\n",
       "\n",
       "    .dataframe thead th {\n",
       "        text-align: right;\n",
       "    }\n",
       "</style>\n",
       "<table border=\"1\" class=\"dataframe\">\n",
       "  <thead>\n",
       "    <tr style=\"text-align: right;\">\n",
       "      <th></th>\n",
       "      <th>userid</th>\n",
       "      <th>track</th>\n",
       "      <th>artist</th>\n",
       "      <th>genre</th>\n",
       "      <th>city</th>\n",
       "      <th>time</th>\n",
       "      <th>day</th>\n",
       "      <th>hour</th>\n",
       "    </tr>\n",
       "  </thead>\n",
       "  <tbody>\n",
       "    <tr>\n",
       "      <th>0</th>\n",
       "      <td>FFB692EC</td>\n",
       "      <td>kamigata_to_boots</td>\n",
       "      <td>the_mass_missile</td>\n",
       "      <td>rock</td>\n",
       "      <td>shelbyville</td>\n",
       "      <td>20:28:33</td>\n",
       "      <td>wednesday</td>\n",
       "      <td>20</td>\n",
       "    </tr>\n",
       "    <tr>\n",
       "      <th>1</th>\n",
       "      <td>55204538</td>\n",
       "      <td>delayed_because_of_accident</td>\n",
       "      <td>andreas_rönnberg</td>\n",
       "      <td>rock</td>\n",
       "      <td>springfield</td>\n",
       "      <td>14:07:09</td>\n",
       "      <td>friday</td>\n",
       "      <td>14</td>\n",
       "    </tr>\n",
       "    <tr>\n",
       "      <th>2</th>\n",
       "      <td>20EC38</td>\n",
       "      <td>funiculì_funiculà</td>\n",
       "      <td>mario_lanza</td>\n",
       "      <td>pop</td>\n",
       "      <td>shelbyville</td>\n",
       "      <td>20:58:07</td>\n",
       "      <td>wednesday</td>\n",
       "      <td>20</td>\n",
       "    </tr>\n",
       "    <tr>\n",
       "      <th>3</th>\n",
       "      <td>A3DD03C9</td>\n",
       "      <td>dragons_in_the_sunset</td>\n",
       "      <td>fire_ice</td>\n",
       "      <td>folk</td>\n",
       "      <td>shelbyville</td>\n",
       "      <td>08:37:09</td>\n",
       "      <td>monday</td>\n",
       "      <td>8</td>\n",
       "    </tr>\n",
       "    <tr>\n",
       "      <th>4</th>\n",
       "      <td>E2DC1FAE</td>\n",
       "      <td>soul_people</td>\n",
       "      <td>space_echo</td>\n",
       "      <td>dance</td>\n",
       "      <td>springfield</td>\n",
       "      <td>08:34:34</td>\n",
       "      <td>monday</td>\n",
       "      <td>8</td>\n",
       "    </tr>\n",
       "    <tr>\n",
       "      <th>...</th>\n",
       "      <td>...</td>\n",
       "      <td>...</td>\n",
       "      <td>...</td>\n",
       "      <td>...</td>\n",
       "      <td>...</td>\n",
       "      <td>...</td>\n",
       "      <td>...</td>\n",
       "      <td>...</td>\n",
       "    </tr>\n",
       "    <tr>\n",
       "      <th>59986</th>\n",
       "      <td>729CBB09</td>\n",
       "      <td>my_name</td>\n",
       "      <td>mclean</td>\n",
       "      <td>rnb</td>\n",
       "      <td>springfield</td>\n",
       "      <td>13:32:28</td>\n",
       "      <td>wednesday</td>\n",
       "      <td>13</td>\n",
       "    </tr>\n",
       "    <tr>\n",
       "      <th>59987</th>\n",
       "      <td>D08D4A55</td>\n",
       "      <td>maybe_one_day_feat_black_spade_</td>\n",
       "      <td>blu_exile</td>\n",
       "      <td>hiphop</td>\n",
       "      <td>shelbyville</td>\n",
       "      <td>10:00:00</td>\n",
       "      <td>monday</td>\n",
       "      <td>10</td>\n",
       "    </tr>\n",
       "    <tr>\n",
       "      <th>59988</th>\n",
       "      <td>C5E3A0D5</td>\n",
       "      <td>jalopiina</td>\n",
       "      <td>unknown</td>\n",
       "      <td>industrial</td>\n",
       "      <td>springfield</td>\n",
       "      <td>20:09:26</td>\n",
       "      <td>friday</td>\n",
       "      <td>20</td>\n",
       "    </tr>\n",
       "    <tr>\n",
       "      <th>59989</th>\n",
       "      <td>321D0506</td>\n",
       "      <td>freight_train</td>\n",
       "      <td>chas_mcdevitt</td>\n",
       "      <td>rock</td>\n",
       "      <td>springfield</td>\n",
       "      <td>21:43:59</td>\n",
       "      <td>friday</td>\n",
       "      <td>21</td>\n",
       "    </tr>\n",
       "    <tr>\n",
       "      <th>59990</th>\n",
       "      <td>3A64EF84</td>\n",
       "      <td>tell_me_sweet_little_lies</td>\n",
       "      <td>monica_lopez</td>\n",
       "      <td>country</td>\n",
       "      <td>springfield</td>\n",
       "      <td>21:59:46</td>\n",
       "      <td>friday</td>\n",
       "      <td>21</td>\n",
       "    </tr>\n",
       "  </tbody>\n",
       "</table>\n",
       "<p>59991 rows × 8 columns</p>\n",
       "</div>"
      ],
      "text/plain": [
       "         userid                            track            artist       genre         city      time        day hour\n",
       "0      FFB692EC                kamigata_to_boots  the_mass_missile        rock  shelbyville  20:28:33  wednesday   20\n",
       "1      55204538      delayed_because_of_accident  andreas_rönnberg        rock  springfield  14:07:09     friday   14\n",
       "2        20EC38                funiculì_funiculà       mario_lanza         pop  shelbyville  20:58:07  wednesday   20\n",
       "3      A3DD03C9            dragons_in_the_sunset          fire_ice        folk  shelbyville  08:37:09     monday    8\n",
       "4      E2DC1FAE                      soul_people        space_echo       dance  springfield  08:34:34     monday    8\n",
       "...         ...                              ...               ...         ...          ...       ...        ...  ...\n",
       "59986  729CBB09                          my_name            mclean         rnb  springfield  13:32:28  wednesday   13\n",
       "59987  D08D4A55  maybe_one_day_feat_black_spade_         blu_exile      hiphop  shelbyville  10:00:00     monday   10\n",
       "59988  C5E3A0D5                        jalopiina           unknown  industrial  springfield  20:09:26     friday   20\n",
       "59989  321D0506                    freight_train     chas_mcdevitt        rock  springfield  21:43:59     friday   21\n",
       "59990  3A64EF84        tell_me_sweet_little_lies      monica_lopez     country  springfield  21:59:46     friday   21\n",
       "\n",
       "[59991 rows x 8 columns]"
      ]
     },
     "execution_count": 9,
     "metadata": {},
     "output_type": "execute_result"
    }
   ],
   "source": [
    "df_music"
   ]
  },
  {
   "cell_type": "code",
   "execution_count": 10,
   "id": "e6140c8b",
   "metadata": {},
   "outputs": [
    {
     "data": {
      "application/vnd.microsoft.datawrangler.viewer.v0+json": {
       "columns": [
        {
         "name": "city",
         "rawType": "category",
         "type": "unknown"
        },
        {
         "name": "('track', 'count')",
         "rawType": "int64",
         "type": "integer"
        },
        {
         "name": "('track', 'nunique')",
         "rawType": "int64",
         "type": "integer"
        },
        {
         "name": "('userid', 'nunique')",
         "rawType": "int64",
         "type": "integer"
        }
       ],
       "ref": "08fc8c15-d266-4a78-bbaf-a80d78d791e2",
       "rows": [
        [
         "shelbyville",
         "18118",
         "14406",
         "12293"
        ],
        [
         "springfield",
         "41873",
         "29208",
         "29069"
        ]
       ],
       "shape": {
        "columns": 3,
        "rows": 2
       }
      },
      "text/html": [
       "<div>\n",
       "<style scoped>\n",
       "    .dataframe tbody tr th:only-of-type {\n",
       "        vertical-align: middle;\n",
       "    }\n",
       "\n",
       "    .dataframe tbody tr th {\n",
       "        vertical-align: top;\n",
       "    }\n",
       "\n",
       "    .dataframe thead tr th {\n",
       "        text-align: left;\n",
       "    }\n",
       "\n",
       "    .dataframe thead tr:last-of-type th {\n",
       "        text-align: right;\n",
       "    }\n",
       "</style>\n",
       "<table border=\"1\" class=\"dataframe\">\n",
       "  <thead>\n",
       "    <tr>\n",
       "      <th></th>\n",
       "      <th colspan=\"2\" halign=\"left\">track</th>\n",
       "      <th>userid</th>\n",
       "    </tr>\n",
       "    <tr>\n",
       "      <th></th>\n",
       "      <th>count</th>\n",
       "      <th>nunique</th>\n",
       "      <th>nunique</th>\n",
       "    </tr>\n",
       "    <tr>\n",
       "      <th>city</th>\n",
       "      <th></th>\n",
       "      <th></th>\n",
       "      <th></th>\n",
       "    </tr>\n",
       "  </thead>\n",
       "  <tbody>\n",
       "    <tr>\n",
       "      <th>shelbyville</th>\n",
       "      <td>18118</td>\n",
       "      <td>14406</td>\n",
       "      <td>12293</td>\n",
       "    </tr>\n",
       "    <tr>\n",
       "      <th>springfield</th>\n",
       "      <td>41873</td>\n",
       "      <td>29208</td>\n",
       "      <td>29069</td>\n",
       "    </tr>\n",
       "  </tbody>\n",
       "</table>\n",
       "</div>"
      ],
      "text/plain": [
       "             track          userid\n",
       "             count nunique nunique\n",
       "city                              \n",
       "shelbyville  18118   14406   12293\n",
       "springfield  41873   29208   29069"
      ]
     },
     "execution_count": 10,
     "metadata": {},
     "output_type": "execute_result"
    }
   ],
   "source": [
    "df_music_city = pd.pivot_table(df_music, index='city', values=['userid', 'track'], aggfunc={'userid': pd.Series.nunique, 'track': [pd.Series.nunique, 'count']}, observed=False)\n",
    "df_music_city\n"
   ]
  },
  {
   "cell_type": "code",
   "execution_count": 11,
   "id": "e6606df2",
   "metadata": {},
   "outputs": [
    {
     "data": {
      "application/vnd.microsoft.datawrangler.viewer.v0+json": {
       "columns": [
        {
         "name": "city",
         "rawType": "category",
         "type": "unknown"
        },
        {
         "name": "total_tracks",
         "rawType": "int64",
         "type": "integer"
        },
        {
         "name": "tracks",
         "rawType": "int64",
         "type": "integer"
        },
        {
         "name": "users",
         "rawType": "int64",
         "type": "integer"
        }
       ],
       "ref": "a2737365-89b1-44dd-a2a7-e2446f640998",
       "rows": [
        [
         "shelbyville",
         "18118",
         "14406",
         "12293"
        ],
        [
         "springfield",
         "41873",
         "29208",
         "29069"
        ]
       ],
       "shape": {
        "columns": 3,
        "rows": 2
       }
      },
      "text/html": [
       "<div>\n",
       "<style scoped>\n",
       "    .dataframe tbody tr th:only-of-type {\n",
       "        vertical-align: middle;\n",
       "    }\n",
       "\n",
       "    .dataframe tbody tr th {\n",
       "        vertical-align: top;\n",
       "    }\n",
       "\n",
       "    .dataframe thead th {\n",
       "        text-align: right;\n",
       "    }\n",
       "</style>\n",
       "<table border=\"1\" class=\"dataframe\">\n",
       "  <thead>\n",
       "    <tr style=\"text-align: right;\">\n",
       "      <th></th>\n",
       "      <th>total_tracks</th>\n",
       "      <th>tracks</th>\n",
       "      <th>users</th>\n",
       "    </tr>\n",
       "    <tr>\n",
       "      <th>city</th>\n",
       "      <th></th>\n",
       "      <th></th>\n",
       "      <th></th>\n",
       "    </tr>\n",
       "  </thead>\n",
       "  <tbody>\n",
       "    <tr>\n",
       "      <th>shelbyville</th>\n",
       "      <td>18118</td>\n",
       "      <td>14406</td>\n",
       "      <td>12293</td>\n",
       "    </tr>\n",
       "    <tr>\n",
       "      <th>springfield</th>\n",
       "      <td>41873</td>\n",
       "      <td>29208</td>\n",
       "      <td>29069</td>\n",
       "    </tr>\n",
       "  </tbody>\n",
       "</table>\n",
       "</div>"
      ],
      "text/plain": [
       "             total_tracks  tracks  users\n",
       "city                                    \n",
       "shelbyville         18118   14406  12293\n",
       "springfield         41873   29208  29069"
      ]
     },
     "execution_count": 11,
     "metadata": {},
     "output_type": "execute_result"
    }
   ],
   "source": [
    "df_music_city.columns = df_music_city.columns = ['total_tracks', 'tracks', 'users']\n",
    "df_music_city\n"
   ]
  },
  {
   "cell_type": "code",
   "execution_count": 12,
   "id": "4bf106f6",
   "metadata": {},
   "outputs": [],
   "source": [
    "project_root = Path.cwd().parent\n",
    "processed_path = project_root / \"data\" / \"processed\" / \"music_activity_city.csv\"\n",
    "df_music_city.to_csv(processed_path)\n"
   ]
  },
  {
   "cell_type": "markdown",
   "id": "f0faba31",
   "metadata": {},
   "source": [
    "#### 3.1.2 User activity variation by day"
   ]
  },
  {
   "cell_type": "code",
   "execution_count": 13,
   "id": "45d2894e",
   "metadata": {},
   "outputs": [
    {
     "data": {
      "application/vnd.microsoft.datawrangler.viewer.v0+json": {
       "columns": [
        {
         "name": "day",
         "rawType": "category",
         "type": "unknown"
        },
        {
         "name": "('track', 'count')",
         "rawType": "int64",
         "type": "integer"
        },
        {
         "name": "('track', 'nunique')",
         "rawType": "int64",
         "type": "integer"
        },
        {
         "name": "('userid', 'nunique')",
         "rawType": "int64",
         "type": "integer"
        }
       ],
       "ref": "6ee238f8-d00f-4f7f-a8af-8ca8738d75c9",
       "rows": [
        [
         "friday",
         "21475",
         "17141",
         "16473"
        ],
        [
         "monday",
         "20799",
         "16570",
         "15925"
        ],
        [
         "wednesday",
         "17717",
         "14370",
         "13490"
        ]
       ],
       "shape": {
        "columns": 3,
        "rows": 3
       }
      },
      "text/html": [
       "<div>\n",
       "<style scoped>\n",
       "    .dataframe tbody tr th:only-of-type {\n",
       "        vertical-align: middle;\n",
       "    }\n",
       "\n",
       "    .dataframe tbody tr th {\n",
       "        vertical-align: top;\n",
       "    }\n",
       "\n",
       "    .dataframe thead tr th {\n",
       "        text-align: left;\n",
       "    }\n",
       "\n",
       "    .dataframe thead tr:last-of-type th {\n",
       "        text-align: right;\n",
       "    }\n",
       "</style>\n",
       "<table border=\"1\" class=\"dataframe\">\n",
       "  <thead>\n",
       "    <tr>\n",
       "      <th></th>\n",
       "      <th colspan=\"2\" halign=\"left\">track</th>\n",
       "      <th>userid</th>\n",
       "    </tr>\n",
       "    <tr>\n",
       "      <th></th>\n",
       "      <th>count</th>\n",
       "      <th>nunique</th>\n",
       "      <th>nunique</th>\n",
       "    </tr>\n",
       "    <tr>\n",
       "      <th>day</th>\n",
       "      <th></th>\n",
       "      <th></th>\n",
       "      <th></th>\n",
       "    </tr>\n",
       "  </thead>\n",
       "  <tbody>\n",
       "    <tr>\n",
       "      <th>friday</th>\n",
       "      <td>21475</td>\n",
       "      <td>17141</td>\n",
       "      <td>16473</td>\n",
       "    </tr>\n",
       "    <tr>\n",
       "      <th>monday</th>\n",
       "      <td>20799</td>\n",
       "      <td>16570</td>\n",
       "      <td>15925</td>\n",
       "    </tr>\n",
       "    <tr>\n",
       "      <th>wednesday</th>\n",
       "      <td>17717</td>\n",
       "      <td>14370</td>\n",
       "      <td>13490</td>\n",
       "    </tr>\n",
       "  </tbody>\n",
       "</table>\n",
       "</div>"
      ],
      "text/plain": [
       "           track          userid\n",
       "           count nunique nunique\n",
       "day                             \n",
       "friday     21475   17141   16473\n",
       "monday     20799   16570   15925\n",
       "wednesday  17717   14370   13490"
      ]
     },
     "execution_count": 13,
     "metadata": {},
     "output_type": "execute_result"
    }
   ],
   "source": [
    "df_music_day = pd.pivot_table(df_music, index='day', values=['userid', 'track'], aggfunc={'userid': pd.Series.nunique, 'track': [pd.Series.nunique, 'count']}, observed=False)\n",
    "df_music_day"
   ]
  },
  {
   "cell_type": "code",
   "execution_count": 14,
   "id": "b3f1de39",
   "metadata": {},
   "outputs": [
    {
     "data": {
      "application/vnd.microsoft.datawrangler.viewer.v0+json": {
       "columns": [
        {
         "name": "day",
         "rawType": "category",
         "type": "unknown"
        },
        {
         "name": "total_tracks",
         "rawType": "int64",
         "type": "integer"
        },
        {
         "name": "tracks",
         "rawType": "int64",
         "type": "integer"
        },
        {
         "name": "users",
         "rawType": "int64",
         "type": "integer"
        }
       ],
       "ref": "7db66560-f541-4b72-8464-11e96285708c",
       "rows": [
        [
         "friday",
         "21475",
         "17141",
         "16473"
        ],
        [
         "monday",
         "20799",
         "16570",
         "15925"
        ],
        [
         "wednesday",
         "17717",
         "14370",
         "13490"
        ]
       ],
       "shape": {
        "columns": 3,
        "rows": 3
       }
      },
      "text/html": [
       "<div>\n",
       "<style scoped>\n",
       "    .dataframe tbody tr th:only-of-type {\n",
       "        vertical-align: middle;\n",
       "    }\n",
       "\n",
       "    .dataframe tbody tr th {\n",
       "        vertical-align: top;\n",
       "    }\n",
       "\n",
       "    .dataframe thead th {\n",
       "        text-align: right;\n",
       "    }\n",
       "</style>\n",
       "<table border=\"1\" class=\"dataframe\">\n",
       "  <thead>\n",
       "    <tr style=\"text-align: right;\">\n",
       "      <th></th>\n",
       "      <th>total_tracks</th>\n",
       "      <th>tracks</th>\n",
       "      <th>users</th>\n",
       "    </tr>\n",
       "    <tr>\n",
       "      <th>day</th>\n",
       "      <th></th>\n",
       "      <th></th>\n",
       "      <th></th>\n",
       "    </tr>\n",
       "  </thead>\n",
       "  <tbody>\n",
       "    <tr>\n",
       "      <th>friday</th>\n",
       "      <td>21475</td>\n",
       "      <td>17141</td>\n",
       "      <td>16473</td>\n",
       "    </tr>\n",
       "    <tr>\n",
       "      <th>monday</th>\n",
       "      <td>20799</td>\n",
       "      <td>16570</td>\n",
       "      <td>15925</td>\n",
       "    </tr>\n",
       "    <tr>\n",
       "      <th>wednesday</th>\n",
       "      <td>17717</td>\n",
       "      <td>14370</td>\n",
       "      <td>13490</td>\n",
       "    </tr>\n",
       "  </tbody>\n",
       "</table>\n",
       "</div>"
      ],
      "text/plain": [
       "           total_tracks  tracks  users\n",
       "day                                   \n",
       "friday            21475   17141  16473\n",
       "monday            20799   16570  15925\n",
       "wednesday         17717   14370  13490"
      ]
     },
     "execution_count": 14,
     "metadata": {},
     "output_type": "execute_result"
    }
   ],
   "source": [
    "df_music_day.columns = ['total_tracks', 'tracks', 'users']\n",
    "df_music_day"
   ]
  },
  {
   "cell_type": "code",
   "execution_count": 15,
   "id": "f0bd5a23",
   "metadata": {},
   "outputs": [],
   "source": [
    "project_root = Path.cwd().parent\n",
    "processed_path = project_root / \"data\" / \"processed\" / \"music_activity_day.csv\"\n",
    "\n",
    "df_music_day.to_csv(processed_path)"
   ]
  },
  {
   "cell_type": "markdown",
   "id": "903e4be8",
   "metadata": {},
   "source": [
    "#### 3.1.3 User activity variation by city and day"
   ]
  },
  {
   "cell_type": "code",
   "execution_count": 16,
   "id": "4fe7a4ee",
   "metadata": {},
   "outputs": [
    {
     "data": {
      "application/vnd.microsoft.datawrangler.viewer.v0+json": {
       "columns": [
        {
         "name": "('city', 'day')",
         "rawType": "object",
         "type": "unknown"
        },
        {
         "name": "('track', 'count')",
         "rawType": "int64",
         "type": "integer"
        },
        {
         "name": "('track', 'nunique')",
         "rawType": "int64",
         "type": "integer"
        },
        {
         "name": "('userid', 'nunique')",
         "rawType": "int64",
         "type": "integer"
        }
       ],
       "ref": "5124781a-5ef7-4b2f-b1dd-457e92f7b41b",
       "rows": [
        [
         "('shelbyville', 'friday')",
         "5786",
         "5208",
         "4447"
        ],
        [
         "('shelbyville', 'monday')",
         "5462",
         "4896",
         "4186"
        ],
        [
         "('shelbyville', 'wednesday')",
         "6870",
         "6055",
         "5177"
        ],
        [
         "('springfield', 'friday')",
         "15689",
         "12908",
         "12030"
        ],
        [
         "('springfield', 'monday')",
         "15337",
         "12593",
         "11747"
        ],
        [
         "('springfield', 'wednesday')",
         "10847",
         "9236",
         "8314"
        ]
       ],
       "shape": {
        "columns": 3,
        "rows": 6
       }
      },
      "text/html": [
       "<div>\n",
       "<style scoped>\n",
       "    .dataframe tbody tr th:only-of-type {\n",
       "        vertical-align: middle;\n",
       "    }\n",
       "\n",
       "    .dataframe tbody tr th {\n",
       "        vertical-align: top;\n",
       "    }\n",
       "\n",
       "    .dataframe thead tr th {\n",
       "        text-align: left;\n",
       "    }\n",
       "\n",
       "    .dataframe thead tr:last-of-type th {\n",
       "        text-align: right;\n",
       "    }\n",
       "</style>\n",
       "<table border=\"1\" class=\"dataframe\">\n",
       "  <thead>\n",
       "    <tr>\n",
       "      <th></th>\n",
       "      <th></th>\n",
       "      <th colspan=\"2\" halign=\"left\">track</th>\n",
       "      <th>userid</th>\n",
       "    </tr>\n",
       "    <tr>\n",
       "      <th></th>\n",
       "      <th></th>\n",
       "      <th>count</th>\n",
       "      <th>nunique</th>\n",
       "      <th>nunique</th>\n",
       "    </tr>\n",
       "    <tr>\n",
       "      <th>city</th>\n",
       "      <th>day</th>\n",
       "      <th></th>\n",
       "      <th></th>\n",
       "      <th></th>\n",
       "    </tr>\n",
       "  </thead>\n",
       "  <tbody>\n",
       "    <tr>\n",
       "      <th rowspan=\"3\" valign=\"top\">shelbyville</th>\n",
       "      <th>friday</th>\n",
       "      <td>5786</td>\n",
       "      <td>5208</td>\n",
       "      <td>4447</td>\n",
       "    </tr>\n",
       "    <tr>\n",
       "      <th>monday</th>\n",
       "      <td>5462</td>\n",
       "      <td>4896</td>\n",
       "      <td>4186</td>\n",
       "    </tr>\n",
       "    <tr>\n",
       "      <th>wednesday</th>\n",
       "      <td>6870</td>\n",
       "      <td>6055</td>\n",
       "      <td>5177</td>\n",
       "    </tr>\n",
       "    <tr>\n",
       "      <th rowspan=\"3\" valign=\"top\">springfield</th>\n",
       "      <th>friday</th>\n",
       "      <td>15689</td>\n",
       "      <td>12908</td>\n",
       "      <td>12030</td>\n",
       "    </tr>\n",
       "    <tr>\n",
       "      <th>monday</th>\n",
       "      <td>15337</td>\n",
       "      <td>12593</td>\n",
       "      <td>11747</td>\n",
       "    </tr>\n",
       "    <tr>\n",
       "      <th>wednesday</th>\n",
       "      <td>10847</td>\n",
       "      <td>9236</td>\n",
       "      <td>8314</td>\n",
       "    </tr>\n",
       "  </tbody>\n",
       "</table>\n",
       "</div>"
      ],
      "text/plain": [
       "                       track          userid\n",
       "                       count nunique nunique\n",
       "city        day                             \n",
       "shelbyville friday      5786    5208    4447\n",
       "            monday      5462    4896    4186\n",
       "            wednesday   6870    6055    5177\n",
       "springfield friday     15689   12908   12030\n",
       "            monday     15337   12593   11747\n",
       "            wednesday  10847    9236    8314"
      ]
     },
     "execution_count": 16,
     "metadata": {},
     "output_type": "execute_result"
    }
   ],
   "source": [
    "df_music_city_day = pd.pivot_table(df_music, index=['city', 'day'], values=['userid', 'track'], aggfunc={'userid': pd.Series.nunique, 'track': [pd.Series.nunique, 'count']}, observed=False)\n",
    "df_music_city_day"
   ]
  },
  {
   "cell_type": "code",
   "execution_count": 17,
   "id": "e00f0ccd",
   "metadata": {},
   "outputs": [
    {
     "data": {
      "application/vnd.microsoft.datawrangler.viewer.v0+json": {
       "columns": [
        {
         "name": "index",
         "rawType": "int64",
         "type": "integer"
        },
        {
         "name": "('city', '')",
         "rawType": "category",
         "type": "unknown"
        },
        {
         "name": "('day', '')",
         "rawType": "category",
         "type": "unknown"
        },
        {
         "name": "('track', 'count')",
         "rawType": "int64",
         "type": "integer"
        },
        {
         "name": "('track', 'nunique')",
         "rawType": "int64",
         "type": "integer"
        },
        {
         "name": "('userid', 'nunique')",
         "rawType": "int64",
         "type": "integer"
        }
       ],
       "ref": "78ab738a-91ec-4c8b-b379-fb8989d98448",
       "rows": [
        [
         "0",
         "shelbyville",
         "friday",
         "5786",
         "5208",
         "4447"
        ],
        [
         "1",
         "shelbyville",
         "monday",
         "5462",
         "4896",
         "4186"
        ],
        [
         "2",
         "shelbyville",
         "wednesday",
         "6870",
         "6055",
         "5177"
        ],
        [
         "3",
         "springfield",
         "friday",
         "15689",
         "12908",
         "12030"
        ],
        [
         "4",
         "springfield",
         "monday",
         "15337",
         "12593",
         "11747"
        ],
        [
         "5",
         "springfield",
         "wednesday",
         "10847",
         "9236",
         "8314"
        ]
       ],
       "shape": {
        "columns": 5,
        "rows": 6
       }
      },
      "text/html": [
       "<div>\n",
       "<style scoped>\n",
       "    .dataframe tbody tr th:only-of-type {\n",
       "        vertical-align: middle;\n",
       "    }\n",
       "\n",
       "    .dataframe tbody tr th {\n",
       "        vertical-align: top;\n",
       "    }\n",
       "\n",
       "    .dataframe thead tr th {\n",
       "        text-align: left;\n",
       "    }\n",
       "</style>\n",
       "<table border=\"1\" class=\"dataframe\">\n",
       "  <thead>\n",
       "    <tr>\n",
       "      <th></th>\n",
       "      <th>city</th>\n",
       "      <th>day</th>\n",
       "      <th colspan=\"2\" halign=\"left\">track</th>\n",
       "      <th>userid</th>\n",
       "    </tr>\n",
       "    <tr>\n",
       "      <th></th>\n",
       "      <th></th>\n",
       "      <th></th>\n",
       "      <th>count</th>\n",
       "      <th>nunique</th>\n",
       "      <th>nunique</th>\n",
       "    </tr>\n",
       "  </thead>\n",
       "  <tbody>\n",
       "    <tr>\n",
       "      <th>0</th>\n",
       "      <td>shelbyville</td>\n",
       "      <td>friday</td>\n",
       "      <td>5786</td>\n",
       "      <td>5208</td>\n",
       "      <td>4447</td>\n",
       "    </tr>\n",
       "    <tr>\n",
       "      <th>1</th>\n",
       "      <td>shelbyville</td>\n",
       "      <td>monday</td>\n",
       "      <td>5462</td>\n",
       "      <td>4896</td>\n",
       "      <td>4186</td>\n",
       "    </tr>\n",
       "    <tr>\n",
       "      <th>2</th>\n",
       "      <td>shelbyville</td>\n",
       "      <td>wednesday</td>\n",
       "      <td>6870</td>\n",
       "      <td>6055</td>\n",
       "      <td>5177</td>\n",
       "    </tr>\n",
       "    <tr>\n",
       "      <th>3</th>\n",
       "      <td>springfield</td>\n",
       "      <td>friday</td>\n",
       "      <td>15689</td>\n",
       "      <td>12908</td>\n",
       "      <td>12030</td>\n",
       "    </tr>\n",
       "    <tr>\n",
       "      <th>4</th>\n",
       "      <td>springfield</td>\n",
       "      <td>monday</td>\n",
       "      <td>15337</td>\n",
       "      <td>12593</td>\n",
       "      <td>11747</td>\n",
       "    </tr>\n",
       "    <tr>\n",
       "      <th>5</th>\n",
       "      <td>springfield</td>\n",
       "      <td>wednesday</td>\n",
       "      <td>10847</td>\n",
       "      <td>9236</td>\n",
       "      <td>8314</td>\n",
       "    </tr>\n",
       "  </tbody>\n",
       "</table>\n",
       "</div>"
      ],
      "text/plain": [
       "          city        day  track          userid\n",
       "                           count nunique nunique\n",
       "0  shelbyville     friday   5786    5208    4447\n",
       "1  shelbyville     monday   5462    4896    4186\n",
       "2  shelbyville  wednesday   6870    6055    5177\n",
       "3  springfield     friday  15689   12908   12030\n",
       "4  springfield     monday  15337   12593   11747\n",
       "5  springfield  wednesday  10847    9236    8314"
      ]
     },
     "execution_count": 17,
     "metadata": {},
     "output_type": "execute_result"
    }
   ],
   "source": [
    "df_music_city_day = df_music_city_day.reset_index()\n",
    "df_music_city_day"
   ]
  },
  {
   "cell_type": "code",
   "execution_count": null,
   "id": "7b962ab2",
   "metadata": {},
   "outputs": [
    {
     "data": {
      "application/vnd.microsoft.datawrangler.viewer.v0+json": {
       "columns": [
        {
         "name": "index",
         "rawType": "int64",
         "type": "integer"
        },
        {
         "name": "city",
         "rawType": "category",
         "type": "unknown"
        },
        {
         "name": "day",
         "rawType": "category",
         "type": "unknown"
        },
        {
         "name": "total_tracks",
         "rawType": "int64",
         "type": "integer"
        },
        {
         "name": "tracks",
         "rawType": "int64",
         "type": "integer"
        },
        {
         "name": "users",
         "rawType": "int64",
         "type": "integer"
        }
       ],
       "ref": "c639f13d-b624-46ca-830e-90ba04077127",
       "rows": [
        [
         "0",
         "shelbyville",
         "friday",
         "5786",
         "5208",
         "4447"
        ],
        [
         "1",
         "shelbyville",
         "monday",
         "5462",
         "4896",
         "4186"
        ],
        [
         "2",
         "shelbyville",
         "wednesday",
         "6870",
         "6055",
         "5177"
        ],
        [
         "3",
         "springfield",
         "friday",
         "15689",
         "12908",
         "12030"
        ],
        [
         "4",
         "springfield",
         "monday",
         "15337",
         "12593",
         "11747"
        ],
        [
         "5",
         "springfield",
         "wednesday",
         "10847",
         "9236",
         "8314"
        ]
       ],
       "shape": {
        "columns": 5,
        "rows": 6
       }
      },
      "text/html": [
       "<div>\n",
       "<style scoped>\n",
       "    .dataframe tbody tr th:only-of-type {\n",
       "        vertical-align: middle;\n",
       "    }\n",
       "\n",
       "    .dataframe tbody tr th {\n",
       "        vertical-align: top;\n",
       "    }\n",
       "\n",
       "    .dataframe thead th {\n",
       "        text-align: right;\n",
       "    }\n",
       "</style>\n",
       "<table border=\"1\" class=\"dataframe\">\n",
       "  <thead>\n",
       "    <tr style=\"text-align: right;\">\n",
       "      <th></th>\n",
       "      <th>city</th>\n",
       "      <th>day</th>\n",
       "      <th>total_tracks</th>\n",
       "      <th>tracks</th>\n",
       "      <th>users</th>\n",
       "    </tr>\n",
       "  </thead>\n",
       "  <tbody>\n",
       "    <tr>\n",
       "      <th>0</th>\n",
       "      <td>shelbyville</td>\n",
       "      <td>friday</td>\n",
       "      <td>5786</td>\n",
       "      <td>5208</td>\n",
       "      <td>4447</td>\n",
       "    </tr>\n",
       "    <tr>\n",
       "      <th>1</th>\n",
       "      <td>shelbyville</td>\n",
       "      <td>monday</td>\n",
       "      <td>5462</td>\n",
       "      <td>4896</td>\n",
       "      <td>4186</td>\n",
       "    </tr>\n",
       "    <tr>\n",
       "      <th>2</th>\n",
       "      <td>shelbyville</td>\n",
       "      <td>wednesday</td>\n",
       "      <td>6870</td>\n",
       "      <td>6055</td>\n",
       "      <td>5177</td>\n",
       "    </tr>\n",
       "    <tr>\n",
       "      <th>3</th>\n",
       "      <td>springfield</td>\n",
       "      <td>friday</td>\n",
       "      <td>15689</td>\n",
       "      <td>12908</td>\n",
       "      <td>12030</td>\n",
       "    </tr>\n",
       "    <tr>\n",
       "      <th>4</th>\n",
       "      <td>springfield</td>\n",
       "      <td>monday</td>\n",
       "      <td>15337</td>\n",
       "      <td>12593</td>\n",
       "      <td>11747</td>\n",
       "    </tr>\n",
       "    <tr>\n",
       "      <th>5</th>\n",
       "      <td>springfield</td>\n",
       "      <td>wednesday</td>\n",
       "      <td>10847</td>\n",
       "      <td>9236</td>\n",
       "      <td>8314</td>\n",
       "    </tr>\n",
       "  </tbody>\n",
       "</table>\n",
       "</div>"
      ],
      "text/plain": [
       "          city        day  total_tracks  tracks  users\n",
       "0  shelbyville     friday          5786    5208   4447\n",
       "1  shelbyville     monday          5462    4896   4186\n",
       "2  shelbyville  wednesday          6870    6055   5177\n",
       "3  springfield     friday         15689   12908  12030\n",
       "4  springfield     monday         15337   12593  11747\n",
       "5  springfield  wednesday         10847    9236   8314"
      ]
     },
     "execution_count": 18,
     "metadata": {},
     "output_type": "execute_result"
    }
   ],
   "source": [
    "df_music_city_day.columns = ['city', 'day', 'total_tracks', 'tracks', 'users']\n",
    "df_music_city_day"
   ]
  },
  {
   "cell_type": "code",
   "execution_count": 20,
   "id": "f178a4b3",
   "metadata": {},
   "outputs": [],
   "source": [
    "project_root = Path.cwd().parent\n",
    "processed_path = project_root / \"data\" / \"processed\" / \"music_activity_city_day.csv\"\n",
    "\n",
    "df_music_city_day.to_csv(processed_path, index=False)"
   ]
  },
  {
   "cell_type": "markdown",
   "id": "fafcb7b6",
   "metadata": {},
   "source": [
    "### 3.2 User activity variation by time, day and city"
   ]
  },
  {
   "cell_type": "markdown",
   "id": "9266c2db",
   "metadata": {},
   "source": [
    "#### 3.2.1 User activity variation by time and city"
   ]
  },
  {
   "cell_type": "code",
   "execution_count": null,
   "id": "3d1b477a",
   "metadata": {},
   "outputs": [],
   "source": [
    "df_music_time_city = pd.pivot_table(df_music, index=['city', 'hour'], values=['userid', 'track'], aggfunc={'userid': pd.Series.nunique, 'track': [pd.Series.nunique, 'count']}, observed=False)\n",
    "df_music_time_city"
   ]
  },
  {
   "cell_type": "code",
   "execution_count": null,
   "id": "37bbe85f",
   "metadata": {},
   "outputs": [],
   "source": [
    "df_music_time_city = df_music_time_city.reset_index()\n",
    "df_music_time_city"
   ]
  },
  {
   "cell_type": "code",
   "execution_count": null,
   "id": "33f9b87d",
   "metadata": {},
   "outputs": [],
   "source": [
    "df_music_time_city.columns = ['city', 'hour', 'total_tracks', 'tracks', 'users']\n",
    "df_music_time_city"
   ]
  },
  {
   "cell_type": "code",
   "execution_count": null,
   "id": "03ff36d3",
   "metadata": {},
   "outputs": [],
   "source": [
    "project_root = Path.cwd().parent\n",
    "processed_path = project_root / \"data\" / \"processed\" / \"music_activity_time_city.csv\"\n",
    "\n",
    "df_music_time_city.to_csv(processed_path)"
   ]
  },
  {
   "cell_type": "markdown",
   "id": "f427b360",
   "metadata": {},
   "source": [
    "#### 3.2.2 User activity variation by time and day"
   ]
  },
  {
   "cell_type": "code",
   "execution_count": null,
   "id": "41b9a9c0",
   "metadata": {},
   "outputs": [],
   "source": [
    "df_music_time_day = pd.pivot_table(df_music, index=['day', 'hour'], values=['userid', 'track'], aggfunc={'userid': pd.Series.nunique, 'track': [pd.Series.nunique, 'count']}, observed=False)\n",
    "df_music_time_day"
   ]
  },
  {
   "cell_type": "code",
   "execution_count": null,
   "id": "0bc8002f",
   "metadata": {},
   "outputs": [],
   "source": [
    "df_music_time_day = df_music_time_day.reset_index()\n",
    "df_music_time_day"
   ]
  },
  {
   "cell_type": "code",
   "execution_count": null,
   "id": "166c6a29",
   "metadata": {},
   "outputs": [],
   "source": [
    "df_music_time_day.columns = ['day', 'hour', 'total_tracks', 'tracks', 'users']\n",
    "df_music_time_day"
   ]
  },
  {
   "cell_type": "code",
   "execution_count": null,
   "id": "eb27aaee",
   "metadata": {},
   "outputs": [],
   "source": [
    "project_root = Path.cwd().parent\n",
    "processed_path = project_root / \"data\" / \"processed\" / \"music_activity_time_day.csv\"\n",
    "\n",
    "df_music_time_day.to_csv(processed_path)"
   ]
  }
 ],
 "metadata": {
  "kernelspec": {
   "display_name": "Win11_Python-Mature-PipVenv-Github-3.10",
   "language": "python",
   "name": "python3"
  },
  "language_info": {
   "codemirror_mode": {
    "name": "ipython",
    "version": 3
   },
   "file_extension": ".py",
   "mimetype": "text/x-python",
   "name": "python",
   "nbconvert_exporter": "python",
   "pygments_lexer": "ipython3",
   "version": "3.10.0"
  }
 },
 "nbformat": 4,
 "nbformat_minor": 5
}
