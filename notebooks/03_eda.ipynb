{
 "cells": [
  {
   "cell_type": "markdown",
   "id": "a1013021",
   "metadata": {},
   "source": [
    "#### Exploratory Data Analysis & Key Insights\n",
    "Dataset: _music_project_en.csv_  \n",
    "Author: Luis Sergio Pastrana Lemus  \n",
    "Date: 2025-04-23"
   ]
  },
  {
   "cell_type": "markdown",
   "id": "8f19462b",
   "metadata": {},
   "source": [
    "## __1. Libraries__"
   ]
  },
  {
   "cell_type": "code",
   "execution_count": 2,
   "id": "94199476",
   "metadata": {},
   "outputs": [],
   "source": [
    "from IPython.display import display, HTML\n",
    "import os\n",
    "import pandas as pd\n",
    "from pathlib import Path\n",
    "import sys\n",
    "\n",
    "# Define project root dynamically, gets the current directory from whick the notebook belongs and moves one level upper\n",
    "project_root = Path.cwd().parent\n",
    "\n",
    "# Add src to sys.path if it is not already\n",
    "if str(project_root) not in sys.path:\n",
    "    sys.path.append(str(project_root))\n",
    "\n",
    "# Import function directly (more controlled than import *)\n",
    "from src import *"
   ]
  },
  {
   "cell_type": "markdown",
   "id": "cf3f11d4",
   "metadata": {},
   "source": [
    "## __2. Path to Data file__"
   ]
  },
  {
   "cell_type": "code",
   "execution_count": 3,
   "id": "1767a2de",
   "metadata": {},
   "outputs": [],
   "source": [
    "# Build route to data file and upload\n",
    "data_file_path = project_root / \"data\" / \"processed\"\n",
    "df_music = load_dataset_from_csv(data_file_path, \"music_clean.csv\", sep=',', header='infer', keep_default_na=False)\n"
   ]
  },
  {
   "cell_type": "markdown",
   "id": "53a024fe",
   "metadata": {},
   "source": [
    "## 3 __Casting to category data type__"
   ]
  },
  {
   "cell_type": "code",
   "execution_count": 8,
   "id": "2a9ecdf5",
   "metadata": {},
   "outputs": [],
   "source": [
    "# Casting to category dtype\n",
    "df_music['genre'] = df_music['genre'].astype('category')\n",
    "df_music['city'] = df_music['city'].astype('category')\n",
    "df_music['day'] = df_music['day'].astype('category')"
   ]
  },
  {
   "cell_type": "code",
   "execution_count": 9,
   "id": "bc10e2bd",
   "metadata": {},
   "outputs": [
    {
     "data": {
      "text/html": [
       "> Data types after imputation:\n"
      ],
      "text/plain": [
       "<IPython.core.display.HTML object>"
      ]
     },
     "metadata": {},
     "output_type": "display_data"
    },
    {
     "name": "stdout",
     "output_type": "stream",
     "text": [
      "genre    category\n",
      "city     category\n",
      "day      category\n",
      "dtype: object\n"
     ]
    }
   ],
   "source": [
    "# Checking dtypes after imputation\n",
    "display(HTML(f\"> Data types after imputation:\\n\"))\n",
    "print(df_music.loc[:, ['genre', 'city', 'day']].dtypes)"
   ]
  },
  {
   "cell_type": "markdown",
   "id": "da9ebca7",
   "metadata": {},
   "source": [
    "## __4. Exploratory Data Analysis__"
   ]
  },
  {
   "cell_type": "code",
   "execution_count": 10,
   "id": "13cb224b",
   "metadata": {},
   "outputs": [
    {
     "data": {
      "application/vnd.microsoft.datawrangler.viewer.v0+json": {
       "columns": [
        {
         "name": "index",
         "rawType": "object",
         "type": "string"
        },
        {
         "name": "userid",
         "rawType": "object",
         "type": "unknown"
        },
        {
         "name": "track",
         "rawType": "object",
         "type": "unknown"
        },
        {
         "name": "artist",
         "rawType": "object",
         "type": "unknown"
        },
        {
         "name": "genre",
         "rawType": "object",
         "type": "unknown"
        },
        {
         "name": "city",
         "rawType": "object",
         "type": "unknown"
        },
        {
         "name": "time",
         "rawType": "object",
         "type": "unknown"
        },
        {
         "name": "day",
         "rawType": "object",
         "type": "unknown"
        }
       ],
       "ref": "70bccb90-147c-40f3-b926-a1fdba9775db",
       "rows": [
        [
         "count",
         "59991",
         "59991",
         "59991",
         "59991",
         "59991",
         "59991",
         "59991"
        ],
        [
         "unique",
         "41330",
         "39001",
         "37751",
         "264",
         "2",
         "20303",
         "3"
        ],
        [
         "top",
         "E8339398",
         "brand",
         "unknown",
         "pop",
         "springfield",
         "21:51:22",
         "friday"
        ],
        [
         "freq",
         "43",
         "127",
         "5835",
         "8184",
         "41873",
         "12",
         "21475"
        ]
       ],
       "shape": {
        "columns": 7,
        "rows": 4
       }
      },
      "text/html": [
       "<div>\n",
       "<style scoped>\n",
       "    .dataframe tbody tr th:only-of-type {\n",
       "        vertical-align: middle;\n",
       "    }\n",
       "\n",
       "    .dataframe tbody tr th {\n",
       "        vertical-align: top;\n",
       "    }\n",
       "\n",
       "    .dataframe thead th {\n",
       "        text-align: right;\n",
       "    }\n",
       "</style>\n",
       "<table border=\"1\" class=\"dataframe\">\n",
       "  <thead>\n",
       "    <tr style=\"text-align: right;\">\n",
       "      <th></th>\n",
       "      <th>userid</th>\n",
       "      <th>track</th>\n",
       "      <th>artist</th>\n",
       "      <th>genre</th>\n",
       "      <th>city</th>\n",
       "      <th>time</th>\n",
       "      <th>day</th>\n",
       "    </tr>\n",
       "  </thead>\n",
       "  <tbody>\n",
       "    <tr>\n",
       "      <th>count</th>\n",
       "      <td>59991</td>\n",
       "      <td>59991</td>\n",
       "      <td>59991</td>\n",
       "      <td>59991</td>\n",
       "      <td>59991</td>\n",
       "      <td>59991</td>\n",
       "      <td>59991</td>\n",
       "    </tr>\n",
       "    <tr>\n",
       "      <th>unique</th>\n",
       "      <td>41330</td>\n",
       "      <td>39001</td>\n",
       "      <td>37751</td>\n",
       "      <td>264</td>\n",
       "      <td>2</td>\n",
       "      <td>20303</td>\n",
       "      <td>3</td>\n",
       "    </tr>\n",
       "    <tr>\n",
       "      <th>top</th>\n",
       "      <td>E8339398</td>\n",
       "      <td>brand</td>\n",
       "      <td>unknown</td>\n",
       "      <td>pop</td>\n",
       "      <td>springfield</td>\n",
       "      <td>21:51:22</td>\n",
       "      <td>friday</td>\n",
       "    </tr>\n",
       "    <tr>\n",
       "      <th>freq</th>\n",
       "      <td>43</td>\n",
       "      <td>127</td>\n",
       "      <td>5835</td>\n",
       "      <td>8184</td>\n",
       "      <td>41873</td>\n",
       "      <td>12</td>\n",
       "      <td>21475</td>\n",
       "    </tr>\n",
       "  </tbody>\n",
       "</table>\n",
       "</div>"
      ],
      "text/plain": [
       "          userid  track   artist  genre         city      time     day\n",
       "count      59991  59991    59991  59991        59991     59991   59991\n",
       "unique     41330  39001    37751    264            2     20303       3\n",
       "top     E8339398  brand  unknown    pop  springfield  21:51:22  friday\n",
       "freq          43    127     5835   8184        41873        12   21475"
      ]
     },
     "execution_count": 10,
     "metadata": {},
     "output_type": "execute_result"
    }
   ],
   "source": [
    "df_music.describe()"
   ]
  },
  {
   "cell_type": "code",
   "execution_count": 11,
   "id": "39b0df33",
   "metadata": {},
   "outputs": [
    {
     "data": {
      "application/vnd.microsoft.datawrangler.viewer.v0+json": {
       "columns": [
        {
         "name": "index",
         "rawType": "object",
         "type": "string"
        },
        {
         "name": "0",
         "rawType": "object",
         "type": "unknown"
        }
       ],
       "ref": "5331271d-2fe3-466e-99e7-6dbe9c64ddf8",
       "rows": [
        [
         "userid",
         "object"
        ],
        [
         "track",
         "object"
        ],
        [
         "artist",
         "object"
        ],
        [
         "genre",
         "category"
        ],
        [
         "city",
         "category"
        ],
        [
         "time",
         "object"
        ],
        [
         "day",
         "category"
        ]
       ],
       "shape": {
        "columns": 1,
        "rows": 7
       }
      },
      "text/plain": [
       "userid      object\n",
       "track       object\n",
       "artist      object\n",
       "genre     category\n",
       "city      category\n",
       "time        object\n",
       "day       category\n",
       "dtype: object"
      ]
     },
     "execution_count": 11,
     "metadata": {},
     "output_type": "execute_result"
    }
   ],
   "source": [
    "df_music.dtypes"
   ]
  }
 ],
 "metadata": {
  "kernelspec": {
   "display_name": "Win11_Python-Mature-PipVenv-Github-3.10",
   "language": "python",
   "name": "python3"
  },
  "language_info": {
   "codemirror_mode": {
    "name": "ipython",
    "version": 3
   },
   "file_extension": ".py",
   "mimetype": "text/x-python",
   "name": "python",
   "nbconvert_exporter": "python",
   "pygments_lexer": "ipython3",
   "version": "3.10.0"
  }
 },
 "nbformat": 4,
 "nbformat_minor": 5
}
